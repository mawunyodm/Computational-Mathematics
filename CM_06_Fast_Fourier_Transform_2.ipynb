{
 "cells": [
  {
   "cell_type": "markdown",
   "metadata": {},
   "source": [
    "<h1>Exercise set 6: Fast Fourier Transform (part 2)</h1>\n",
    "\n",
    "<p><span style=\"color: #0000ff;\">Th next cell contains a functions: <span style=\"font-family: comic sans ms,sans-serif;\">root_of_unity</span> and <span style=\"font-family: courier new,courier;\">split_list</span> from exercise sets 3-5. It will get executed automatically (the command <span style=\"font-family: courier new,courier;\">%auto</span> at the top serves this purpose)</span><strong><br /></strong></p>"
   ]
  },
  {
   "cell_type": "code",
   "execution_count": 12,
   "metadata": {},
   "outputs": [
    {
     "data": {
      "text/plain": []
     },
     "execution_count": 12,
     "metadata": {},
     "output_type": "execute_result"
    }
   ],
   "source": [
    "\n",
    "def root_of_unity( n, K = CC ) :\n",
    "    \"\"\"\n",
    "    This function computes the primitive root of unity of degree `n` in `\\\\mathbb{C}`\n",
    "    \"\"\"\n",
    "    return K( cos(2*pi/n) + i*sin(2*pi/n) )\n",
    "\n",
    "def split_list( L ) :\n",
    "    \"\"\"\n",
    "    Given a list `L` this function constructs lists `E` with elements of `L` having even indices \\\n",
    "    and `O` with elements of `L` having odd indices.\n",
    "    \"\"\"\n",
    "    n = len(L)\n",
    "    E = [ L[j] for j in [0,2,..,n-1] ]\n",
    "    O = [ L[j] for j in [1,3,..,n-1] ]\n",
    "    return E,O"
   ]
  },
  {
   "cell_type": "markdown",
   "metadata": {},
   "source": [
    "<p><strong>Exercise:</strong> Write a function that computes DFT using Cooley-Tukey algorithm.</p>"
   ]
  },
  {
   "cell_type": "code",
   "execution_count": 19,
   "metadata": {},
   "outputs": [
    {
     "data": {
      "text/plain": []
     },
     "execution_count": 19,
     "metadata": {},
     "output_type": "execute_result"
    }
   ],
   "source": [
    "def fft( L, omega = 0 ) :\n",
    "    \"\"\"\n",
    "    This function computes FFT of a list `L`, using Cooley-Tukey algorithm. \\\n",
    "    The length of the list `L` must be a power of 2.\n",
    "    \n",
    "    INPUT:\n",
    "        \n",
    "        - `L` list\n",
    "        \n",
    "        - `omega` - primitive root of unity of degree `|L|`.\n",
    "        If `omega` is omited, it will be computed.\n",
    "    \"\"\"\n",
    "    # get the length of L\n",
    "    n = len(L)\n",
    "    # stop the recursion if the list consists of a single element\n",
    "    if n == 1 :\n",
    "        return L\n",
    "    assert NN(n).is_power_of(2), \"The length of L must be a power of 2\"\n",
    "    # compute omega if it was not provided\n",
    "    if omega == 0:\n",
    "        omega = root_of_unity(n)\n",
    "\n",
    "    # split L into its even and odd parts\n",
    "    e, o = split_list(L)\n",
    "\n",
    "    # compute FFTs of both parts \n",
    "    E = fft(e, omega^2)\n",
    "    O = fft(o, omega^2)\n",
    "\n",
    "    # recombine the partial results\n",
    "    L0 = [ E[j] + omega^(-j)*O[j] for j in [0..n//2-1] ] \n",
    "    L1 = [ E[j] - omega^(-j)*O[j] for j in [0..n//2-1] ] \n",
    "\n",
    "    # return the final result\n",
    "    return L0 + L1"
   ]
  },
  {
   "cell_type": "code",
   "execution_count": 26,
   "metadata": {},
   "outputs": [
    {
     "data": {
      "text/plain": [
       "[10.0000000000000,\n",
       " -2.00000000000000 + 2.00000000000000*I,\n",
       " -2.00000000000000,\n",
       " -2.00000000000000 - 2.00000000000000*I]"
      ]
     },
     "execution_count": 26,
     "metadata": {},
     "output_type": "execute_result"
    }
   ],
   "source": [
    "# verification\n",
    "fft( [1..4] )"
   ]
  },
  {
   "cell_type": "code",
   "execution_count": 27,
   "metadata": {},
   "outputs": [
    {
     "data": {
      "text/plain": [
       "[36,\n",
       " 4*I*sqrt(2) + 4*I - 4,\n",
       " 4*I - 4,\n",
       " 4*I*sqrt(2) - 4*I - 4,\n",
       " -4,\n",
       " -4*I*sqrt(2) + 4*I - 4,\n",
       " -4*I - 4,\n",
       " -4*I*sqrt(2) - 4*I - 4]"
      ]
     },
     "execution_count": 27,
     "metadata": {},
     "output_type": "execute_result"
    }
   ],
   "source": [
    "# verification\n",
    "fft( [1..8], root_of_unity(8, SR) )"
   ]
  },
  {
   "cell_type": "markdown",
   "metadata": {},
   "source": [
    "<p><strong>Exercise:</strong> Compute FFT's of sequences $(1,\\dotsc, 2^k)$, for $k\\leq 10$ using respectively: directly the definition, theorem about values of a polynomial, Cooley-Tukey algorithm. Compare the execution times of each method.</p>"
   ]
  },
  {
   "cell_type": "code",
   "execution_count": 3,
   "metadata": {},
   "outputs": [],
   "source": [
    "# construct the sequences\n",
    "seqs = [ [1..2^k] for k in [1..10] ];"
   ]
  },
  {
   "cell_type": "code",
   "execution_count": 29,
   "metadata": {},
   "outputs": [
    {
     "data": {
      "text/plain": [
       "CPU time: 11.01 s,  Wall time: 11.01 s"
      ]
     },
     "execution_count": 29,
     "metadata": {},
     "output_type": "execute_result"
    }
   ],
   "source": [
    "%%timeit\n",
    "# directly by definition\n",
    "\n",
    "for l in seqs :\n",
    "    omega = root_of_unity( len(l) )\n",
    "    L = [ sum( l[k]*omega^(-k*n) for k in range(len(l)) ) for n in range(len(l)) ]"
   ]
  },
  {
   "cell_type": "code",
   "execution_count": 31,
   "metadata": {},
   "outputs": [
    {
     "data": {
      "text/plain": [
       "CPU time: 1.40 s,  Wall time: 1.40 s"
      ]
     },
     "execution_count": 31,
     "metadata": {},
     "output_type": "execute_result"
    }
   ],
   "source": [
    "%%timeit\n",
    "# using the theorem\n",
    "P.<x> = ZZ[]\n",
    "\n",
    "for l in seqs :\n",
    "    f = P(l)\n",
    "    omega = root_of_unity( f.degree() )\n",
    "    F = [ f(omega^(-j)) for j in [0..f.degree()] ]"
   ]
  },
  {
   "cell_type": "code",
   "execution_count": 32,
   "metadata": {},
   "outputs": [
    {
     "data": {
      "text/plain": [
       "CPU time: 0.23 s,  Wall time: 0.23 s"
      ]
     },
     "execution_count": 32,
     "metadata": {},
     "output_type": "execute_result"
    }
   ],
   "source": [
    "%%timeit\n",
    "# using Cooley-Tukey\n",
    "\n",
    "for l in seqs :\n",
    "    F = fft(l)"
   ]
  },
  {
   "cell_type": "markdown",
   "metadata": {},
   "source": [
    "<p><strong>Exercise:</strong> Write a function that computes the next power of 2 greater or equal than a given number $n$. In other words it computes $2^N$ such that $2^{N-1} < n \\leq 2^N$.</p>"
   ]
  },
  {
   "cell_type": "code",
   "execution_count": 46,
   "metadata": {},
   "outputs": [
    {
     "data": {
      "text/plain": []
     },
     "execution_count": 46,
     "metadata": {},
     "output_type": "execute_result"
    }
   ],
   "source": [
    "def next_pow_2( n ) :\n",
    "    \"\"\"\n",
    "    This function computes `2^N` s.t. `2^{N-1} < n \\\\leq 2^N`\n",
    "    \"\"\"\n",
    "    assert n > 0, \"n must be positive!\"\n",
    "    N = ZZ(ceil(log(n, 2)))\n",
    "    return 2^N"
   ]
  },
  {
   "cell_type": "code",
   "execution_count": 49,
   "metadata": {},
   "outputs": [
    {
     "data": {
      "text/plain": [
       "1 \t1\n",
       "2 \t2\n",
       "3 \t4\n",
       "4 \t4\n",
       "5 \t8\n",
       "6 \t8\n",
       "7 \t8\n",
       "8 \t8\n",
       "9 \t16\n",
       "10 \t16\n",
       "11 \t16\n",
       "12 \t16\n",
       "13 \t16\n",
       "14 \t16\n",
       "15 \t16\n",
       "16 \t16"
      ]
     },
     "execution_count": 49,
     "metadata": {},
     "output_type": "execute_result"
    }
   ],
   "source": [
    "# verification\n",
    "for j in [1..16] :\n",
    "    print j, '\\t', next_pow_2(j)"
   ]
  },
  {
   "cell_type": "markdown",
   "metadata": {},
   "source": [
    "<p><strong>Exercise:</strong> Multiply two random polynomials with integer coefficients using fast Fourier transform.</p>\n",
    "<p>1. Construct two random elements of the ring $\\mathbb{Z}[x]$.</p>"
   ]
  },
  {
   "cell_type": "code",
   "execution_count": 33,
   "metadata": {},
   "outputs": [
    {
     "data": {
      "text/plain": [
       "\n"
      ]
     },
     "execution_count": 33,
     "metadata": {},
     "output_type": "execute_result"
    }
   ],
   "source": [
    "P.<x> = ZZ[]\n",
    "f = P.random_element(7); view(\"f = \" + latex(f))\n",
    "g = P.random_element(5); view(\"g = \" + latex(g))"
   ]
  },
  {
   "cell_type": "markdown",
   "metadata": {},
   "source": [
    "<p>2. Find the length of the sequence for FFT.</p>"
   ]
  },
  {
   "cell_type": "code",
   "execution_count": 45,
   "metadata": {},
   "outputs": [
    {
     "data": {
      "text/plain": [
       "16"
      ]
     },
     "execution_count": 45,
     "metadata": {},
     "output_type": "execute_result"
    }
   ],
   "source": [
    "# find the length of the resulting sequence\n",
    "N = 2*max( next_pow_2(f.degree()), next_pow_2(g.degree()) )\n",
    "print N"
   ]
  },
  {
   "cell_type": "markdown",
   "metadata": {},
   "source": [
    "<p>3. Convert both polynomials into lists and append the list with needed numbers of zeros.</p>"
   ]
  },
  {
   "cell_type": "code",
   "execution_count": 47,
   "metadata": {},
   "outputs": [
    {
     "data": {
      "text/plain": [
       "[9, 0, -4, 3, -1, 1, 1, 1, 0, 0, 0, 0, 0, 0, 0, 0]\n",
       "[-1, -1, -1, -1, 1, -3, 0, 0, 0, 0, 0, 0, 0, 0, 0, 0]"
      ]
     },
     "execution_count": 47,
     "metadata": {},
     "output_type": "execute_result"
    }
   ],
   "source": [
    "# convert f, g into lists of length N\n",
    "f_ = f.list() + [0]*(N - f.degree() - 1); print f_\n",
    "g_ = g.list() + [0]*(N - g.degree() - 1); print g_"
   ]
  },
  {
   "cell_type": "markdown",
   "metadata": {},
   "source": [
    "<p>4. Compute discrete Fourier transforms of both lists. Do it in two ways: first use a complex root of unity, secondly use a cyclotomic field (command <tt>CyclotomicField</tt>). </p>"
   ]
  },
  {
   "cell_type": "code",
   "execution_count": 48,
   "metadata": {},
   "outputs": [
    {
     "data": {
      "text/plain": [
       "[10.0000000000000, 5.30595342628615 - 0.956881218850594*I, 7.87867965644036 + 4.29289321881345*I, 10.3050914085451 + 1.72817454050872*I, 11.0000000000000 + 3.00000000000000*I, 14.7659764033204 - 0.514466146610572*I, 12.1213203435596 - 5.70710678118655*I, 5.62297876184836 - 7.19952190596988*I, 0.000000000000000, 5.62297876184837 + 7.19952190596988*I, 12.1213203435596 + 5.70710678118655*I, 14.7659764033204 + 0.514466146610567*I, 11.0000000000000 - 3.00000000000000*I, 10.3050914085451 - 1.72817454050871*I, 7.87867965644036 - 4.29289321881345*I, 5.30595342628616 + 0.956881218850597*I]\n",
       "[-6.00000000000000, -1.86561944896765 + 3.78530834359678*I, 0.121320343559643 + 0.292893218813452*I, -2.52333571620111 + 1.10025258423748*I, 1.00000000000000 + 3.00000000000000*I, 1.93754927857421 - 2.31396097813562*I, -4.12132034355964 - 1.70710678118655*I, -1.54859411340544 + 4.37109478122369*I, 4.00000000000000, -1.54859411340544 - 4.37109478122369*I, -4.12132034355964 + 1.70710678118655*I, 1.93754927857421 + 2.31396097813562*I, 0.999999999999999 - 3.00000000000000*I, -2.52333571620111 - 1.10025258423747*I, 0.121320343559643 - 0.292893218813454*I, -1.86561944896766 - 3.78530834359678*I]"
      ]
     },
     "execution_count": 48,
     "metadata": {},
     "output_type": "execute_result"
    }
   ],
   "source": [
    "# compute FFT of both lists\n",
    "omega = root_of_unity(N)\n",
    "#K.<omega> = CyclotomicField(N)\n",
    "F = fft(f_, omega); print F\n",
    "G = fft(g_, omega); print G"
   ]
  },
  {
   "cell_type": "markdown",
   "metadata": {},
   "source": [
    "<p>5. Multiply the resulting sequences coordinate-wisely.</p>"
   ]
  },
  {
   "cell_type": "code",
   "execution_count": 52,
   "metadata": {},
   "outputs": [
    {
     "data": {
      "text/plain": [
       "[-60.0000000000000, -6.27679944584980 + 21.8698459874965*I, -0.301515190164998 + 2.82842712474619*I, -27.9046337141072 + 6.97743891116004*I, 2.00000000000001 + 36.0000000000000*I, 27.4193523398686 - 35.1646967125710*I, -59.6984848098350 + 2.82842712474622*I, 22.7620808200884 + 35.7277103637655*I, 0.000000000000000, 22.7620808200884 - 35.7277103637655*I, -59.6984848098350 - 2.82842712474617*I, 27.4193523398686 + 35.1646967125709*I, 1.99999999999998 - 36.0000000000000*I, -27.9046337141072 - 6.97743891116002*I, -0.301515190165008 - 2.82842712474620*I, -6.27679944584982 - 21.8698459874965*I]"
      ]
     },
     "execution_count": 52,
     "metadata": {},
     "output_type": "execute_result"
    }
   ],
   "source": [
    "H = [ F[j]*G[j] for j in [0..N-1] ]; print H"
   ]
  },
  {
   "cell_type": "markdown",
   "metadata": {},
   "source": [
    "<p>6. Compute the inverse transform.</p>"
   ]
  },
  {
   "cell_type": "code",
   "execution_count": 53,
   "metadata": {},
   "outputs": [
    {
     "data": {
      "text/plain": [
       "[-9.00000000000000 - 5.49560397189452e-15*I, -9.00000000000000 + 4.99600361081320e-16*I, -5.00000000000000 - 2.88657986402541e-15*I, -8.00000000000000 + 1.27675647831893e-15*I, 11.0000000000000 - 4.38538094726937e-15*I, -26.0000000000000 + 4.99600361081320e-16*I, -8.00000000000000 - 4.44089209850063e-16*I, 13.0000000000000 + 8.32667268468868e-16*I, -13.0000000000000 + 1.13797860024079e-14*I, 2.00000000000000 + 4.99600361081320e-16*I, -3.00000000000000 + 1.99840144432528e-15*I, -2.00000000000000 - 4.99600361081320e-16*I, -3.00000000000000 + 2.77555756156292e-16*I, -1.77635683940025e-15 - 1.27675647831893e-15*I, 3.99680288865056e-15 - 4.44089209850063e-16*I, 8.88178419700125e-16 - 1.83186799063151e-15*I]"
      ]
     },
     "execution_count": 53,
     "metadata": {},
     "output_type": "execute_result"
    }
   ],
   "source": [
    "# the inverse transform = \"forward\" transform with omega replaced by 1/omega (remember about 1/N scaling)\n",
    "h_ = [ hi/N for hi in fft(H, omega^(-1)) ]; print h_"
   ]
  },
  {
   "cell_type": "markdown",
   "metadata": {},
   "source": [
    "<p>6a. Convert the results back into integers.</p>"
   ]
  },
  {
   "cell_type": "code",
   "execution_count": 55,
   "metadata": {},
   "outputs": [
    {
     "data": {
      "text/plain": [
       "[-9, -9, -5, -8, 11, -26, -8, 13, -13, 2, -3, -2, -3, 0, 0, 0]"
      ]
     },
     "execution_count": 55,
     "metadata": {},
     "output_type": "execute_result"
    }
   ],
   "source": [
    "h_ = [ round(real_part(hi)) for hi in h_ ]; print h_"
   ]
  },
  {
   "cell_type": "markdown",
   "metadata": {},
   "source": [
    "<p>7. Interpret the resulting sequence as a polynomial.</p>"
   ]
  },
  {
   "cell_type": "code",
   "execution_count": 56,
   "metadata": {},
   "outputs": [
    {
     "data": {
      "text/plain": []
     },
     "execution_count": 56,
     "metadata": {},
     "output_type": "execute_result"
    }
   ],
   "source": [
    "# cast onto a polynomial type\n",
    "h = P(h_); view(\"f\\\\cdot g = \" + latex(h))"
   ]
  },
  {
   "cell_type": "code",
   "execution_count": 57,
   "metadata": {},
   "outputs": [
    {
     "data": {
      "text/plain": [
       "True"
      ]
     },
     "execution_count": 57,
     "metadata": {},
     "output_type": "execute_result"
    }
   ],
   "source": [
    "# verification\n",
    "h == f*g"
   ]
  },
  {
   "cell_type": "code",
   "execution_count": 59,
   "metadata": {},
   "outputs": [
    {
     "data": {
      "text/plain": []
     },
     "execution_count": 59,
     "metadata": {},
     "output_type": "execute_result"
    }
   ],
   "source": []
  }
 ],
 "metadata": {
  "kernelspec": {
   "display_name": "SageMath 9.0",
   "language": "sage",
   "name": "sagemath"
  },
  "language": "python",
  "language_info": {
   "codemirror_mode": {
    "name": "ipython",
    "version": 3
   },
   "file_extension": ".py",
   "mimetype": "text/x-python",
   "name": "python",
   "nbconvert_exporter": "python",
   "pygments_lexer": "ipython3",
   "version": "3.7.6"
  }
 },
 "nbformat": 4,
 "nbformat_minor": 4
}
