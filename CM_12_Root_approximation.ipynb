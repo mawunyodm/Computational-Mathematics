{
 "cells": [
  {
   "cell_type": "code",
   "execution_count": 4,
   "metadata": {
    "jupyter": {
     "source_hidden": true
    }
   },
   "outputs": [],
   "source": [
    "\n",
    "def is_square_free( f ) :\n",
    "    \"\"\"\n",
    "    This function checks if the polynomial `f` is square-free.\n",
    "    \"\"\"\n",
    "    return gcd( f, f.derivative() ) == 1\n",
    "        \n",
    "def rad( f ) :\n",
    "    \"\"\"\n",
    "    This function computes the radical of `f`.\n",
    "    \"\"\"\n",
    "    # find the ring of polynomials\n",
    "    P = f.parent()\n",
    "    # return the radical\n",
    "    return P(f/gcd(f,f.derivative()))\n",
    "    \n",
    "def square_free_decomposition( f ) :\n",
    "    \"\"\"\n",
    "    This function takes a polynomial `f` and returns its square-free \\\n",
    "    decomposition computed using Tobey-Horowitz algorithm.\n",
    "    The additional parameter omit_trivial_factors constrols whether factors = 1 \\\n",
    "    should be omitted (default) or not.\n",
    "    \"\"\"\n",
    "    # The base ring must be a field of characteristic zero\n",
    "    assert f.base_ring().characteristic() == 0, \"The characteristic must be zero!\"\n",
    "    assert f.base_ring().is_field(), \"The base ring must be a field!\"\n",
    "\n",
    "    lcf = f.leading_coefficient()\n",
    "    G = list(f.monic().squarefree_decomposition())\n",
    "    return Factorization( G, unit = lcf, sort = false )\n",
    "    \n",
    "def depress( f ) :\n",
    "    \"\"\"\n",
    "    This function computes the depressed form of a given polynomial `f`.\n",
    "    \"\"\"\n",
    "    # take the leading coefficient\n",
    "    lcf = f.leading_coefficient()\n",
    "    # normalize f\n",
    "    f /= lcf\n",
    "    # the degree of f\n",
    "    n = f.degree()\n",
    "    # depress f\n",
    "    g = f( x-f[n-1]/n )\n",
    "    return g\n",
    "    \n",
    "def Cauchy_1( f ) :\n",
    "    \"\"\"\n",
    "    Given a polynomial `f`, this function computes `M` s.t. all the roots of `f` are contained in `(-M,M)`.\n",
    "    It uses the \"first\" Cauchy bound.\n",
    "    \"\"\"\n",
    "    n = f.degree()\n",
    "    return 1 + max([abs(f[j]/f[n]) for j in [0..n-1]])\n",
    "    \n",
    "def Cauchy_2( f ) :\n",
    "    \"\"\"\n",
    "    Given a polynomial `f`, this function computes `M` s.t. all the roots of `f` are contained in `(-M,M)`.\n",
    "    It uses the \"second\" Cauchy bound.\n",
    "    \"\"\"\n",
    "    n = f.degree()\n",
    "    return max( (n*abs(f[n-j]/f[n]))^(1/j) for j in [1..n] )\n",
    "    \n",
    "def Hong( f ) :\n",
    "    \"\"\"\n",
    "    Given a polynomial `f`, thsi function computes `M > 0` s.t. all the REAL roots of `f` are contained in `(-M,M)`.\n",
    "    It uses Hong's theorem.\n",
    "    \"\"\"\n",
    "    if f.leading_coefficient() < 0 :\n",
    "        f = -f\n",
    "    n = f.degree()\n",
    "    H = max( min( (-f[j]/f[i])^(1/(i-j)) for i in [j+1..n] if f[i] > 0 ) for j in [0..n-1] if f[j] < 0 )\n",
    "    return 2*H\n",
    "    \n",
    "def local_max( f ) :\n",
    "    \"\"\"\n",
    "    Given a polynomial `f`, thsi function computes `M > 0` s.t. all the REAL roots of `f` are contained in `(-M,M)`.\n",
    "    It uses local-max algorithm.\n",
    "    \"\"\"\n",
    "    n = f.degree()\n",
    "    M = 0\n",
    "    t = 1\n",
    "    i_max = n\n",
    "    for j in [n-1,n-2,..0] :\n",
    "        if f[j] > f[i_max] :\n",
    "            i_max = j\n",
    "            t = 1\n",
    "        if f[j] < 0 :\n",
    "            m = ( -2^t*f[j]/f[i_max] )^( 1/(i_max - j) )\n",
    "            t = t+1\n",
    "            M = max(m, M)\n",
    "    return M\n",
    "\n",
    "def Sturm_sequence( f ) :\n",
    "    \"\"\"\n",
    "    Given a polynomial `f` this function returns its Sturm sequence.\n",
    "    \"\"\"\n",
    "    # g_0 is just f, while g_1 is the derivative of f\n",
    "    g = f.derivative()\n",
    "    # append both to the list\n",
    "    G = [ f, g ]\n",
    "    # repeat till yu hit a constant\n",
    "    while not g.is_constant() :\n",
    "        # substitute f by g and g by the minus reminder...\n",
    "        f, g = g, -f.mod(g)\n",
    "        # ...and append it to the list\n",
    "        G.append(g)\n",
    "    return G\n",
    "\n",
    "def sign_changes( L ) :\n",
    "    \"\"\"\n",
    "    This function counts the number sign changes in `L`\n",
    "    \"\"\"\n",
    "    # remove all zeros and substitute each element by its signature\n",
    "    L = [ sgn(a) for a in L if a != 0 ]\n",
    "    # leave only those element that differs from it predecessors\n",
    "    S = [ L[j] for j in range(1, len(L)) if L[j] != L[j-1] ]\n",
    "    # the number of sign changes in $L$ equals the length of $S$\n",
    "    return len(S)\n",
    "\n",
    "def count_roots( f, a= -oo, b = oo, S = [] ) :\n",
    "    \"\"\"\n",
    "    This function counts the number of roots of `f` in the interval `(a,b)`.\n",
    "    \n",
    "    The optional parameter `S` is the Sturm sequence of `f`, if it has already been computed.\n",
    "    \"\"\"\n",
    "    assert a < b, \"Improper interval!\"\n",
    "    \n",
    "    # if we don't have the Sturm sequence, then we must compute it\n",
    "    if S == [] :\n",
    "        S = Sturm_sequence( f )\n",
    "    # substitute the endpoint of the interval to the Sturm sequence\n",
    "    Sa = [ g(a) for g in S[:-1] ] + [S[-1]]\n",
    "    Sb = [ g(b) for g in S[:-1] ] + [S[-1]]\n",
    "    # return the difference of the numbers of sign changes\n",
    "    return sign_changes(Sa) - sign_changes(Sb)\n",
    "\n",
    "def root_isolation( f, a, b, S = [] ) :\n",
    "    \"\"\"\n",
    "    This function takes the following arguments:\n",
    "        \n",
    "       - a polynomial `f`\n",
    "       \n",
    "       - an interval `(a,b)`\n",
    "       \n",
    "       - (optionally) the Sturm sequence of `f`\n",
    "       \n",
    "    as a result it return a list of pairs `( (a_j,b_j) : j ∊ {1,...,n} )` such that:\n",
    "        \n",
    "       - `f(a_j) = 0` iff `a_j = b_j`\n",
    "       \n",
    "       - `f` has precisely one root `x_j` s.t. `a_j < x_j < b_j`\n",
    "       \n",
    "       - `f'`, `f\"` have not roots in `(a_j, b_j)` for every `j`\n",
    "       \n",
    "    \"\"\"\n",
    "    assert a < b, \"Improper interval!\"\n",
    "\n",
    "    # if a is infinite, then substitute it by a bound\n",
    "    if a == -oo :\n",
    "        a = -RDF( local_max(f) )\n",
    "    # if b is infinite, then substitute it by a bound\n",
    "    if b == oo :\n",
    "        b = RDF( local_max(f) )\n",
    "        \n",
    "    # the variable of our polynomial\n",
    "    x = f.parent().0\n",
    "\n",
    "    # if any of the endpoints is a root of f, then append it to the list\n",
    "    # and narrow the interval\n",
    "    if f(a) == 0 :\n",
    "        epsilon = RDF( 1/local_max(f(x+a).list()[::-1]) )\n",
    "        return [(a,a)] + root_isolation(f, (a+epsilon,b), S)\n",
    "    if f(b) == 0 :\n",
    "        epsilon = RDF( 1/local_max(f(x+b).list()[::-1]) )\n",
    "        return root_isolation(f, (a,b-epsilon), S) + [(b,b)]\n",
    "        \n",
    "    # compute the Sturm sequence if it is not provided\n",
    "    if S == [] :\n",
    "        S = Sturm_sequence( f )\n",
    "    # count the number of root of f in (a,b)\n",
    "    p = count_roots(f, (a,b), S )\n",
    "    # if f has no roots, then return an empty list\n",
    "    if p == 0 :\n",
    "        return []\n",
    "\n",
    "    # if `f` has just one root, then count the number of roots of its derivatives\n",
    "    if p == 1 :\n",
    "        fp = f.derivative()\n",
    "        fpp = f.derivative(2)\n",
    "        pp = count_roots(fp, (a,b))\n",
    "        ppp = count_roots(fpp, (a,b))\n",
    "        # if they bot do not have roots, then we are done\n",
    "        if pp == 0 and ppp == 0 :\n",
    "            return [(a,b)]\n",
    "            \n",
    "    # otherwise bisect the interval and call the function recursively for each half\n",
    "    c = (a+b)/2\n",
    "    # this \"if\" protects us again c being counted twice\n",
    "    if f(c) != 0 :\n",
    "        L = root_isolation(f, (a,c), S)\n",
    "        U = root_isolation(f, (c,b), S)\n",
    "        return L + U\n",
    "    else :\n",
    "        epsilon = RDF(1/local_max(f(x-c).list()[::-1]))\n",
    "        return root_isolation(f, (a,c-epsilon), S) + [(c,c)] + root_isolation(f, (c+epsilon,b), S)\n",
    "        \n",
    "def rational_roots( f ) :\n",
    "    \"\"\"\n",
    "    This function computes all the rational roots of a given polynomial `f`\n",
    "    with rational coefficients.\n",
    "    \"\"\"\n",
    "    assert f.base_ring() <= QQ, \"The ring of ceofficients must be contained in QQ.\"\n",
    "\n",
    "    # find the radical of f\n",
    "    fs = rad(f)\n",
    "    # find the common denominator of the coefficients\n",
    "    M = lcm([fi.denominator() for fi in fs])\n",
    "    # ring of polys with integer coeffs\n",
    "    P = ZZ[f.parent().0]\n",
    "    # convert f to a polynomial with integer coefficients\n",
    "    fz = P(M*fs)\n",
    "    # find the primitive part\n",
    "    fz = P( fz/gcd(list(fz)) )\n",
    "    \n",
    "    # if zero is a root of $f$...\n",
    "    if fz(0) == 0 :\n",
    "        # ...then append zero to the list of roots...\n",
    "        C = [0]\n",
    "        # ...and divide $f$ by $x$\n",
    "        # the following line just reads fz = fz/x, but\n",
    "        # is safely independent of the actual name of the variable\n",
    "        fz = P(fz/P.0)\n",
    "    else:\n",
    "        # otherwise we begin with an empty list of roots\n",
    "        C = []\n",
    "    # find the divizors of the constant term\n",
    "    A = fz[0].divisors()\n",
    "    # find the divisors of the leading coefficient\n",
    "    B = fz.leading_coefficient().divisors()\n",
    "    # check all the quotients...\n",
    "    C += [ a/b for a in A for b in B if f(a/b) == 0 ]\n",
    "    # ...don't forget about the negative ones\n",
    "    C += [ -a/b for a in A for b in B if f(-a/b) == 0 ]\n",
    "    # return the result\n",
    "    return uniq(C)"
   ]
  },
  {
   "cell_type": "markdown",
   "metadata": {},
   "source": [
    "<p><span style=\"color: #ff0000;\"><strong>The (hidden) cell above will execute automatically upon loading this worksheet. It contains the following functions from the previous set:</strong></span></p>\n",
    "<ul>\n",
    "<li><span style=\"font-family: courier new,courier; color: #ff0000;\">is_square_free(f), <br /></span></li>\n",
    "<li><span style=\"font-family: courier new,courier; color: #ff0000;\">rad( f ), <br /></span></li>\n",
    "<li><span style=\"font-family: courier new,courier; color: #ff0000;\">square_free_decomposition( f )</span></li>\n",
    "<li><span style=\"font-family: courier new,courier; color: #ff0000;\">rational_roots( f )</span></li>\n",
    "<li><span style=\"font-family: courier new,courier; color: #ff0000;\">depress( f )</span></li>\n",
    "<li><span style=\"font-family: courier new,courier; color: #ff0000;\">Cauchy_1( f )</span></li>\n",
    "<li><span style=\"font-family: courier new,courier; color: #ff0000;\">Cauchy_2( f )</span></li>\n",
    "<li><span style=\"font-family: courier new,courier; color: #ff0000;\">Hong( f )</span></li>\n",
    "<li><span style=\"font-family: courier new,courier; color: #ff0000;\">local_max( f )</span></li>\n",
    "<li><span style=\"font-family: courier new,courier; color: #ff0000;\">Sturm_sequence( f )</span></li>\n",
    "<li><span style=\"font-family: courier new,courier; color: #ff0000;\">sign_changes( L )</span></li>\n",
    "<li><span style=\"font-family: courier new,courier; color: #ff0000;\">count_roots( f, (a, b) = (-oo,oo), S = [] )</span></li>\n",
    "<li><span style=\"font-family: courier new,courier; color: #ff0000;\">root_isolation( f, (a,b), S = [] )</span></li>\n",
    "</ul>\n",
    "<h2>Root approximation</h2>\n",
    "<p><strong>Exercise:</strong> Let $f=x^{5} - 5 x^{3} + 4 x - 1$ and $a = 1.75$, $b = 2.25$.</p>\n",
    "<ol>\n",
    "<li>Check that $f$ has exactly one root between $a$ and $b$.</li>\n",
    "<li>Check that $f'$, $f\"$ do not have roots in $(a,b)$.</li>\n",
    "<li>Plot the graph of $f$ on this interval.</li>\n",
    "<li>Approximate the (unique) root of $f$ in $(a,b)$ with accuracy $10^{-3}$. Do it step by step</li>\n",
    "<li>Superimpose the obtained secant on the graph of $f$</li>\n",
    "</ol>"
   ]
  },
  {
   "cell_type": "code",
   "execution_count": 7,
   "metadata": {},
   "outputs": [
    {
     "data": {
      "text/html": [
       "<html><script type=\"math/tex; mode=display\">\\newcommand{\\Bold}[1]{\\mathbf{#1}}x^{5} - 5 x^{3} + 4 x - 1</script></html>"
      ],
      "text/plain": [
       "x^5 - 5*x^3 + 4*x - 1"
      ]
     },
     "metadata": {},
     "output_type": "display_data"
    }
   ],
   "source": [
    "# define a polynomial f...\n",
    "P.<x> = QQ[]\n",
    "f = x^5-5*x^3+4*x-1; show(f)\n",
    "# ...the endpoints...\n",
    "a = 1.75\n",
    "b = 2.15\n",
    "# ...and the accuracy\n",
    "epsilon = 10^-3"
   ]
  },
  {
   "cell_type": "code",
   "execution_count": 8,
   "metadata": {},
   "outputs": [
    {
     "data": {
      "text/plain": [
       "1"
      ]
     },
     "execution_count": 8,
     "metadata": {},
     "output_type": "execute_result"
    }
   ],
   "source": [
    "# check that f has exactly one root in (a,b)\n",
    "count_roots( f, a, b) "
   ]
  },
  {
   "cell_type": "code",
   "execution_count": 9,
   "metadata": {},
   "outputs": [
    {
     "data": {
      "text/plain": [
       "0"
      ]
     },
     "execution_count": 9,
     "metadata": {},
     "output_type": "execute_result"
    }
   ],
   "source": [
    "# check that f' has no roots in (a,b)\n",
    "count_roots( f.derivative(), a, b) "
   ]
  },
  {
   "cell_type": "code",
   "execution_count": 10,
   "metadata": {},
   "outputs": [
    {
     "data": {
      "text/plain": [
       "0"
      ]
     },
     "execution_count": 10,
     "metadata": {},
     "output_type": "execute_result"
    }
   ],
   "source": [
    "# check that f\" has no roots in (a,b)\n",
    "count_roots( f.derivative(2), a, b) "
   ]
  },
  {
   "cell_type": "code",
   "execution_count": 11,
   "metadata": {},
   "outputs": [
    {
     "data": {
      "image/png": "[encoded data removed]",
      "text/plain": [
       "Graphics object consisting of 1 graphics primitive"
      ]
     },
     "metadata": {},
     "output_type": "display_data"
    }
   ],
   "source": [
    "# plot the graph of f on (a,b)\n",
    "rys = f.plot(a, b); show(rys)"
   ]
  },
  {
   "cell_type": "code",
   "execution_count": 93,
   "metadata": {},
   "outputs": [
    {
     "data": {
      "text/plain": []
     },
     "execution_count": 93,
     "metadata": {},
     "output_type": "execute_result"
    }
   ],
   "source": [
    "# initialization of R-F: z is the right enpoint and x_0 is the left one\n",
    "z = b\n",
    "x0 = a; view(x0)\n",
    "# let X be the lists of successive approximations\n",
    "# first it contains just x_0\n",
    "X = [x0]"
   ]
  },
  {
   "cell_type": "code",
   "execution_count": 94,
   "metadata": {},
   "outputs": [
    {
     "data": {
      "text/plain": [
       "\n",
       "False"
      ]
     },
     "execution_count": 94,
     "metadata": {},
     "output_type": "execute_result"
    }
   ],
   "source": [
    "# compute the next approximation\n",
    "x1 = x0 - (z-x0)/(f(z) - f(x0))*f(x0); view(x1)\n",
    "# ...append it to the list X...\n",
    "X.append(x1)\n",
    "# check if the distance |x_0 - x_1| < \\varepsilon\n",
    "abs(x0-x1) < epsilon"
   ]
  },
  {
   "cell_type": "code",
   "execution_count": 95,
   "metadata": {},
   "outputs": [
    {
     "data": {
      "text/plain": [
       "\n",
       "False"
      ]
     },
     "execution_count": 95,
     "metadata": {},
     "output_type": "execute_result"
    }
   ],
   "source": [
    "# repeat...\n",
    "x2 = x1 - (z-x1)/(f(z) - f(x1))*f(x1); view(x2)\n",
    "X.append(x2)\n",
    "abs(x1-x2) < epsilon"
   ]
  },
  {
   "cell_type": "code",
   "execution_count": 96,
   "metadata": {},
   "outputs": [
    {
     "data": {
      "text/plain": [
       "\n",
       "False"
      ]
     },
     "execution_count": 96,
     "metadata": {},
     "output_type": "execute_result"
    }
   ],
   "source": [
    "# ...again...\n",
    "x3 = x2 - (z-x2)/(f(z) - f(x2))*f(x2); view(x3)\n",
    "X.append(x3)\n",
    "abs(x2-x3) < epsilon"
   ]
  },
  {
   "cell_type": "code",
   "execution_count": 97,
   "metadata": {},
   "outputs": [
    {
     "data": {
      "text/plain": [
       "\n",
       "False"
      ]
     },
     "execution_count": 97,
     "metadata": {},
     "output_type": "execute_result"
    }
   ],
   "source": [
    "# ...and again...\n",
    "x4 = x3 - (z-x3)/(f(z) - f(x3))*f(x3); view(x4)\n",
    "X.append(x4)\n",
    "abs(x3-x4) < epsilon"
   ]
  },
  {
   "cell_type": "code",
   "execution_count": 98,
   "metadata": {},
   "outputs": [
    {
     "data": {
      "text/plain": [
       "\n",
       "True"
      ]
     },
     "execution_count": 98,
     "metadata": {},
     "output_type": "execute_result"
    }
   ],
   "source": [
    "# ...and again...\n",
    "x5 = x4 - (z-x4)/(f(z) - f(x4))*f(x4); view(x5)\n",
    "X.append(x5)\n",
    "abs(x4-x5) < epsilon"
   ]
  },
  {
   "cell_type": "code",
   "execution_count": 99,
   "metadata": {},
   "outputs": [
    {
     "data": {
      "text/plain": []
     },
     "execution_count": 99,
     "metadata": {},
     "output_type": "execute_result"
    }
   ],
   "source": [
    "# superimpose the chords from (z,f(z)) to (x_j,f(x_j)) onto the plot\n",
    "rys += sum([ line([(z,f(z)),(xx,f(xx))], color='gray') for xx in X ]) + sum([ line2d([(X[j],0), (X[j],f(X[j]))], color='gray', linestyle='--') for j in range(1,len(X))])\n",
    "show(rys)"
   ]
  },
  {
   "cell_type": "markdown",
   "metadata": {},
   "source": [
    "<p><strong>Exercise:</strong> Write a function that a root of $f$ in the interval $(a,b)$ using <em>regula-falsi</em> algorithm.</p>"
   ]
  },
  {
   "cell_type": "code",
   "execution_count": 114,
   "metadata": {},
   "outputs": [
    {
     "data": {
      "text/plain": []
     },
     "execution_count": 114,
     "metadata": {},
     "output_type": "execute_result"
    }
   ],
   "source": [
    "def regula_falsi( f, (a,b), epsilon = 10^-3 ) :\n",
    "    \"\"\"\n",
    "    The function takes the following arguments: \n",
    "        \n",
    "      - a polynomial `f`\n",
    "      \n",
    "      - a real interval `(a,b)` s.t. `f` has exactly one root \\\n",
    "        and `f', f\"` have constant signs\n",
    "        \n",
    "      - optionally an accuracy `\\\\varepsilon` (by default `\\\\varepsilon = 10^{-3}`)\n",
    "      \n",
    "    This function return  `x\\\\in (a,b)` s.t. there is a root \\\n",
    "    `\\\\xi` of `f` and `|x - \\\\xi| < \\\\\\varepsilon`.\n",
    "    \"\"\"\n",
    "    # check that a < b\n",
    "    assert a < b, \"Improper interval!\"\n",
    "    # check that f has precisely one root in (a,b)\n",
    "    assert count_roots(f, (a,b)) == 1, 'f must have a single root in (a,b)!'\n",
    "    # check that neither f' nor f\" has a root in (a,b)\n",
    "    assert count_roots(f.derivative(), (a,b)) == 0, 'f\\' cannot have a root in (a,b)'\n",
    "    assert count_roots(f.derivative(2), (a,b)) == 0, 'f\\\" cannot have a root in (a,b)'\n",
    "\n",
    "    # take the midpoint to check which of the cases (i)-(iv) we are dealing with\n",
    "    c = (a+b)/2\n",
    "    fp = f.derivative()\n",
    "    fpp = f.derivative(2)\n",
    "    if sgn(fp(c)) == sgn(fpp(c)) :\n",
    "        # cases (i), (iii)\n",
    "        z = b\n",
    "        x0 = a\n",
    "    else:\n",
    "        # cases (ii), (iv)\n",
    "        z = a\n",
    "        x0 = b\n",
    "    # compute x_1\n",
    "    x1 = x0 - (z-x0)/(f(z) - f(x0))*f(x0)\n",
    "    # repeat as long as f(x_0-\\varepsilon) f(x_0+\\varepsilon) > 0\n",
    "    while f(x0-epsilon)*f(x0+epsilon) > 0 :\n",
    "        x0 = x0 - (z-x0)/(f(z) - f(x0))*f(x0)\n",
    "    return x0"
   ]
  },
  {
   "cell_type": "code",
   "execution_count": 115,
   "metadata": {},
   "outputs": [
    {
     "data": {
      "text/plain": [
       "2.03849529100513\n",
       "8.85352791080152e-10"
      ]
     },
     "execution_count": 115,
     "metadata": {},
     "output_type": "execute_result"
    }
   ],
   "source": [
    "# check with the previous example\n",
    "x0 = regula_falsi(x^5-5*x^3+4*x-1, (1.75, 2.15), 10^-10); print x0\n",
    "print abs(f(x0))"
   ]
  },
  {
   "cell_type": "markdown",
   "metadata": {},
   "source": [
    "<p><strong>Exercise:</strong> Find all the real roots of $f=x^{5} - 5 x^{3} + 4 x - 1$.</p>\n",
    "<p>1) Define $f$ and check if it is square-free.</p>"
   ]
  },
  {
   "cell_type": "code",
   "execution_count": 102,
   "metadata": {},
   "outputs": [
    {
     "data": {
      "text/plain": [
       "\n",
       "True"
      ]
     },
     "execution_count": 102,
     "metadata": {},
     "output_type": "execute_result"
    }
   ],
   "source": [
    "# define a polynomial f\n",
    "f = x^5-5*x^3+4*x-1; view(\"f = \" + latex(f))\n",
    "# check\n",
    "is_square_free( f )"
   ]
  },
  {
   "cell_type": "markdown",
   "metadata": {},
   "source": [
    "<p>2) Find the intervals isolating the real roots of $f$.</p>"
   ]
  },
  {
   "cell_type": "code",
   "execution_count": 103,
   "metadata": {},
   "outputs": [
    {
     "data": {
      "text/plain": [
       "[(-1.9764235376052373, -1.7787811838447136),\n",
       " (-1.1858541225631423, -0.7905694150420949),\n",
       " (0.0, 0.39528470752104744),\n",
       " (0.7905694150420949, 1.1858541225631423),\n",
       " (1.9764235376052373, 2.3717082451262845)]"
      ]
     },
     "execution_count": 103,
     "metadata": {},
     "output_type": "execute_result"
    }
   ],
   "source": [
    "# isolate the roots f\n",
    "A = root_isolation(f, (-oo,oo)); A"
   ]
  },
  {
   "cell_type": "markdown",
   "metadata": {},
   "source": [
    "<p>3) In each interval, approximate the corresponding root of $f$ up to $10$ decimal digits</p>"
   ]
  },
  {
   "cell_type": "code",
   "execution_count": 104,
   "metadata": {},
   "outputs": [
    {
     "data": {
      "text/plain": [
       "\n",
       "\n",
       "\n",
       "\n"
      ]
     },
     "execution_count": 104,
     "metadata": {},
     "output_type": "execute_result"
    }
   ],
   "source": [
    "j = 0\n",
    "for (a,b) in A :\n",
    "    xx = regula_falsi(f, (a,b), 10^-10)\n",
    "    view(\"x_\" + latex(j) + \" = \" + latex(xx))\n",
    "    j += 1"
   ]
  },
  {
   "cell_type": "markdown",
   "metadata": {},
   "source": [
    "<p><strong>Exercise:</strong> Find all the real roots of $f = x^{8} - 6 x^{7} + 12 x^{6} - 8 x^{5} - x^{4} + 7 x^{3} - 18 x^{2} + 20 x - 8$.</p>\n",
    "<p>1) Define $f$ and check that it is NOT square-free.</p>"
   ]
  },
  {
   "cell_type": "code",
   "execution_count": 105,
   "metadata": {},
   "outputs": [
    {
     "data": {
      "text/plain": [
       "\n",
       "False"
      ]
     },
     "execution_count": 105,
     "metadata": {},
     "output_type": "execute_result"
    }
   ],
   "source": [
    "# define a polynomial f\n",
    "f = x^8 - 6*x^7 + 12*x^6 - 8*x^5 - x^4 + 7*x^3 - 18*x^2 + 20*x - 8 \n",
    "view(\"f = \" + latex(f))\n",
    "# check\n",
    "is_square_free( f )"
   ]
  },
  {
   "cell_type": "markdown",
   "metadata": {},
   "source": [
    "<p>2) Find the square-free factors of $f$.</p>"
   ]
  },
  {
   "cell_type": "code",
   "execution_count": 106,
   "metadata": {},
   "outputs": [
    {
     "data": {
      "text/plain": []
     },
     "execution_count": 106,
     "metadata": {},
     "output_type": "execute_result"
    }
   ],
   "source": [
    "G = square_free_decomposition(f); view(list(G))"
   ]
  },
  {
   "cell_type": "markdown",
   "metadata": {},
   "source": [
    "<p>3) Isolate and approximate the roots of every non-constant factor.</p>"
   ]
  },
  {
   "cell_type": "code",
   "execution_count": 107,
   "metadata": {},
   "outputs": [
    {
     "data": {
      "text/plain": [
       "\n"
      ]
     },
     "execution_count": 107,
     "metadata": {},
     "output_type": "execute_result"
    }
   ],
   "source": [
    "j = 0\n",
    "for (g,k) in G :\n",
    "    if g in  QQ :\n",
    "        continue\n",
    "    A = root_isolation(g, (-oo,oo))\n",
    "    for (a,b) in A :\n",
    "        if a < b :\n",
    "            xx = regula_falsi(g, (a,b), 10^-10)\n",
    "        else :\n",
    "            xx = a\n",
    "        view(\"x_\" + latex(j) + \" = \" + latex(xx))\n",
    "        j += 1"
   ]
  },
  {
   "cell_type": "markdown",
   "metadata": {},
   "source": [
    "<p><strong>Exercise:</strong> Write a function, that finds all the real roots of a given polynomial.</p>"
   ]
  },
  {
   "cell_type": "code",
   "execution_count": 108,
   "metadata": {},
   "outputs": [
    {
     "data": {
      "text/plain": []
     },
     "execution_count": 108,
     "metadata": {},
     "output_type": "execute_result"
    }
   ],
   "source": [
    "def real_roots( f, epsilon = 10^-3 ) :\n",
    "    \"\"\"\n",
    "    Given a polynomial `f`, this functions returns all the real roots of `f` \\\n",
    "    (either exact or approximated with accuracy `\\\\varepsilon`)\n",
    "    \"\"\"\n",
    "    # the ring of polynomials containing f\n",
    "    P = f.parent()\n",
    "    \n",
    "    # find the square-free factorization of f\n",
    "    G = square_free_decomposition(f)\n",
    "    X = []\n",
    "    # loop over the square-free factors of f\n",
    "    for (g,k) in G :\n",
    "        # omit the constant terms\n",
    "        if g in f.base_ring() :\n",
    "            continue\n",
    "        # first find (exact) rational roots\n",
    "        W = rational_roots(g)\n",
    "        # and append them to the list of roots\n",
    "        X += [ (xx,k) for xx in W ]\n",
    "        # factor them out by little Bezout theorem\n",
    "        h = prod(P.0-xx for xx in W)\n",
    "        # if all the roots are rational, then finish with g \n",
    "        if P(h).degree() == g.degree() :\n",
    "            continue\n",
    "        g = P(g/h)\n",
    "        \n",
    "        # isolate the remaining roots\n",
    "        A = root_isolation(g, (-oo,oo))\n",
    "        # loop over the isolating intervals\n",
    "        for (a,b) in A :\n",
    "            if a < b :\n",
    "                # approximate the (unique) root\n",
    "                xx = regula_falsi(g, (a,b), 10^-10)\n",
    "                # and append it to the list (the multiplicity of the \n",
    "                # root is the exponent of the square-free factor)\n",
    "                X.append((xx,k))\n",
    "            else :\n",
    "                # special case, when a=b is an exact root\n",
    "                X.append((a,k))\n",
    "                \n",
    "    return X"
   ]
  },
  {
   "cell_type": "code",
   "execution_count": 109,
   "metadata": {},
   "outputs": [
    {
     "data": {
      "text/plain": [
       "__main__:245: DeprecationWarning: the output of uniq(X) being sorted is deprecated; use sorted(set(X)) instead if you want sorted output\n",
       "See https://trac.sagemath.org/27014 for details.\n",
       "[(-1.9540796146143022, 1),\n",
       " (-1.150984173228422, 1),\n",
       " (0.2758341933539541, 1),\n",
       " (0.7907343034776252, 1),\n",
       " (2.038495290987126, 1)]"
      ]
     },
     "execution_count": 109,
     "metadata": {},
     "output_type": "execute_result"
    }
   ],
   "source": [
    "# check it\n",
    "real_roots( x^5-5*x^3+4*x-1 )"
   ]
  },
  {
   "cell_type": "markdown",
   "metadata": {},
   "source": [
    "<p><strong>Exercise:</strong> Write a function that approximates a root of $f$ in the interval $(a,b)$ with the secant method.</p>"
   ]
  },
  {
   "cell_type": "code",
   "execution_count": 124,
   "metadata": {},
   "outputs": [
    {
     "data": {
      "text/plain": []
     },
     "execution_count": 124,
     "metadata": {},
     "output_type": "execute_result"
    }
   ],
   "source": [
    "def secant_method( f, (a,b), epsilon = 10^-3 ) :\n",
    "    \"\"\"\n",
    "    The function takes the following arguments: \n",
    "        \n",
    "      - a polynomial `f`\n",
    "      \n",
    "      - a real interval `(a,b)` s.t. `f` has exactly one root and `f', f\"` have constant signs\n",
    "      \n",
    "      - optionally an accuracy `\\\\varepsilon` (by default `\\\\varepsilon = 10^{-3}`)\n",
    "      \n",
    "    This function return  `x\\\\in (a,b)` s.t. there is a root \\\n",
    "    `\\\\xi` of `f` and `|x - \\\\xi| < \\\\varepsilon`.\n",
    "    \"\"\"\n",
    "    # check that a < b\n",
    "    assert a < b, \"Improper interval!\"\n",
    "    # check that f has precisely one root in (a,b)\n",
    "    assert count_roots(f, (a,b)) == 1, 'f must have a single root in (a,b)!'\n",
    "    # check that neither f' nor f\" has a root in (a,b)\n",
    "    assert count_roots(f.derivative(), (a,b)) == 0, 'f\\' cannot have a root in (a,b)'\n",
    "    assert count_roots(f.derivative(2), (a,b)) == 0, 'f\\\" cannot have a root in (a,b)'\n",
    "\n",
    "    # take the midpoint to check which of the cases (i)-(iv) we are dealing with\n",
    "    c = (a+b)/2\n",
    "    fp = f.derivative()\n",
    "    fpp = f.derivative(2)\n",
    "    if sgn(fp(c)) == sgn(fpp(c)) :\n",
    "        # cases (i), (iii)\n",
    "        z = b\n",
    "        x0 = a\n",
    "    else:\n",
    "        # cases (ii), (iv)\n",
    "        z = a\n",
    "        x0 = b\n",
    "    # compute x_1\n",
    "    x1 = x0 - (z-x0)/(f(z) - f(x0))*f(x0)\n",
    "    # reapeat as long as |x_0 - x_1| > \\varepsilon\n",
    "    while abs(x0-x1) > epsilon :\n",
    "        # the only change to R-F is here:\n",
    "        x0, x1 = x1, x0 - (x1-x0)/(f(x1) - f(x0))*f(x0)\n",
    "        # verify against an divergent sequence\n",
    "        if abs(x0-x1) > abs(a-b) :\n",
    "            return false\n",
    "    return x1"
   ]
  },
  {
   "cell_type": "code",
   "execution_count": 126,
   "metadata": {},
   "outputs": [
    {
     "data": {
      "text/plain": [
       "\n",
       "2.03849529103674\n",
       "-6.66133814775094e-16"
      ]
     },
     "execution_count": 126,
     "metadata": {},
     "output_type": "execute_result"
    }
   ],
   "source": [
    "# check with the previous example\n",
    "f = x^5-5*x^3+4*x-1; view(\"f = \" + latex(f))\n",
    "a = 1.75\n",
    "b = 2.15\n",
    "xx = secant_method(f, (a,b), 10^-15); print xx\n",
    "print f(xx)"
   ]
  },
  {
   "cell_type": "markdown",
   "metadata": {},
   "source": [
    "<p><span id=\"cell_outer_111\"><strong>Exercise:</strong> Write a function that approximates a root of a given polynomial $f$ in the interval $(a,b)$ using Newton-Raphson algorithm.</span></p>"
   ]
  },
  {
   "cell_type": "code",
   "execution_count": 127,
   "metadata": {},
   "outputs": [
    {
     "data": {
      "text/plain": []
     },
     "execution_count": 127,
     "metadata": {},
     "output_type": "execute_result"
    }
   ],
   "source": [
    "def Newton_method( f, x0, (a,b), epsilon = 10^-3 ) :\n",
    "    \"\"\"\n",
    "    The function takes the following arguments: \n",
    "        \n",
    "      - a polynomial `f`\n",
    "      \n",
    "      - an initial guess `x_0`\n",
    "      \n",
    "      - a real interval `(a,b)` s.t. `f` has exactly one root \\\n",
    "        and `f', f\"` have constant signs\n",
    "        \n",
    "      - optionally an accuracy `\\\\varepsilon` (by default `\\\\varepsilon = 10^{-3}`)\n",
    "      \n",
    "    This function return  `x\\\\in (a,b)` s.t. there is a root `\\\\xi` of `f` \\\n",
    "    and `|x - \\\\xi| < \\\\varepsilon`.\n",
    "    \"\"\"\n",
    "    # check that a < b\n",
    "    assert a < b, \"Improper interval!\"\n",
    "    # check that f has precisely one root in (a,b)\n",
    "    assert count_roots(f, (a,b)) == 1, 'f must have a single root in (a,b)!'\n",
    "    # check that neither f' nor f\" has a root in (a,b)\n",
    "    assert count_roots(f.derivative(), (a,b)) == 0, 'f\\' cannot have a root in (a,b)'\n",
    "    assert count_roots(f.derivative(2), (a,b)) == 0, 'f\\\" cannot have a root in (a,b)'\n",
    "\n",
    "    fp = f.derivative()\n",
    "    fpp = f.derivative(2)\n",
    "    # compute x_1 (this line has changed)\n",
    "    x1 = x0 - f(x0)/fp(x0)\n",
    "    # repeat as long as |x_0 - x_1| > \\varepsilon\n",
    "    while abs(x0-x1) > epsilon :\n",
    "        x0 = x1\n",
    "        # here comes a change\n",
    "        x1 = x0 - f(x0)/fp(x0)\n",
    "        # verify against a divergent sequence\n",
    "        if abs(x0-x1) > abs(a-b) :\n",
    "            return false\n",
    "    return x1"
   ]
  },
  {
   "cell_type": "code",
   "execution_count": 129,
   "metadata": {},
   "outputs": [
    {
     "data": {
      "text/plain": [
       "\n",
       "2.03849529103674\n",
       "-6.66133814775094e-16"
      ]
     },
     "execution_count": 129,
     "metadata": {},
     "output_type": "execute_result"
    }
   ],
   "source": [
    "# check with the previous example\n",
    "f = x^5-5*x^3+4*x-1; view(\"f = \" + latex(f))\n",
    "a = 1.75\n",
    "b = 2.15\n",
    "xx = Newton_method(f, 0.5*(a+b), (a,b), 10^-15); print xx\n",
    "print f(xx)"
   ]
  },
  {
   "cell_type": "markdown",
   "metadata": {},
   "source": [
    "<p><span><strong>Exercise:</strong> Write a function that approximates a root of a given polynomial $f$ using Laguerre's algorithm.</span></p>"
   ]
  },
  {
   "cell_type": "code",
   "execution_count": 171,
   "metadata": {},
   "outputs": [
    {
     "data": {
      "text/plain": []
     },
     "execution_count": 171,
     "metadata": {},
     "output_type": "execute_result"
    }
   ],
   "source": [
    "def Laguerre_method( f, x0, epsilon = 10^-3 ) :\n",
    "    \"\"\"\n",
    "    The function takes the following arguments: \n",
    "        \n",
    "      - a polynomial `f`\n",
    "      \n",
    "      - an initial guess `x_0`\n",
    "      \n",
    "      - optionally an accuracy `\\\\varepsilon` (by default `\\\\varepsilon = 10^{-3}`)\n",
    "      \n",
    "    This function return  `x\\\\in \\\\mathbb{C}` s.t. there is a root `\\\\xi` of `f` \\\n",
    "    and `|x - \\\\xi| < \\\\varepsilon`.\n",
    "    \"\"\"\n",
    "\n",
    "    # distance between two successive approximations (take 1 to begin with)\n",
    "    d = 1\n",
    "    # store f', f\"...\n",
    "    fp = f.derivative()\n",
    "    fpp = fp.derivative()\n",
    "    # ...and the degree of f\n",
    "    n = f.degree()\n",
    "    # the main loop\n",
    "    while abs(d) > epsilon :\n",
    "        # Laguerre's formula\n",
    "        fx   = f(x0)  \n",
    "        fpx  = fp(x0)\n",
    "        fppx = fpp(x0)\n",
    "        g = fpx/fx\n",
    "        h = g^2 - fppx/fx\n",
    "        s = sqrt( (n-1)*(n*h-g^2) )\n",
    "        v = g + s\n",
    "        if real_part( conjugate(g)*s ) < 0 :\n",
    "            v = g - 2*s\n",
    "        d = n/v\n",
    "        x0 -= d\n",
    "    # return the result\n",
    "    return x0"
   ]
  },
  {
   "cell_type": "code",
   "execution_count": 172,
   "metadata": {},
   "outputs": [
    {
     "data": {
      "text/plain": [
       "\n",
       "2.03849529103674\n",
       "-1.89848137210902e-14"
      ]
     },
     "execution_count": 172,
     "metadata": {},
     "output_type": "execute_result"
    }
   ],
   "source": [
    "# check with the previous example\n",
    "f = x^5-5*x^3+4*x-1; view(\"f = \" + latex(f))\n",
    "a = 1.75\n",
    "b = 2.15\n",
    "xx = Laguerre_method(f, 0.5*(a+b), 10^-15); print xx\n",
    "print f(xx)"
   ]
  },
  {
   "cell_type": "code",
   "execution_count": 173,
   "metadata": {},
   "outputs": [
    {
     "data": {
      "text/plain": []
     },
     "execution_count": 173,
     "metadata": {},
     "output_type": "execute_result"
    }
   ],
   "source": []
  }
 ],
 "metadata": {
  "kernelspec": {
   "display_name": "SageMath 9.0",
   "language": "sage",
   "name": "sagemath"
  },
  "language": "python",
  "language_info": {
   "codemirror_mode": {
    "name": "ipython",
    "version": 3
   },
   "file_extension": ".py",
   "mimetype": "text/x-python",
   "name": "python",
   "nbconvert_exporter": "python",
   "pygments_lexer": "ipython3",
   "version": "3.7.6"
  }
 },
 "nbformat": 4,
 "nbformat_minor": 4
}
