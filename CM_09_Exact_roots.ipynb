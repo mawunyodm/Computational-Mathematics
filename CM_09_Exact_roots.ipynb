{
 "cells": [
  {
   "cell_type": "code",
   "execution_count": 4,
   "metadata": {
    "jupyter": {
     "source_hidden": true
    }
   },
   "outputs": [
    {
     "data": {
      "text/plain": []
     },
     "execution_count": 4,
     "metadata": {},
     "output_type": "execute_result"
    }
   ],
   "source": [
    "\n",
    "def is_square_free( f ) :\n",
    "    \"\"\"\n",
    "    This function checks if the polynomial `f` is square-free.\n",
    "    \"\"\"\n",
    "    return gcd( f, f.derivative() ) == 1\n",
    "    \n",
    "def rad( f ) :\n",
    "    \"\"\"\n",
    "    This function computes the radical of `f`.\n",
    "    \"\"\"\n",
    "    # find the ring of polynomials\n",
    "    P = f.parent()\n",
    "    # return the radical\n",
    "    return P(f/gcd(f,f.derivative()))\n",
    "    \n",
    "def square_free_decomposition( f, omit_trivial_factors = true ) :\n",
    "    \"\"\"\n",
    "    This function takes a polynomial f and returns its square-free \n",
    "    decomposition computed using Tobey-Horowitz algorithm.\n",
    "    The additional parameter omit_trivial_factors constrols whether factors = 1\n",
    "    should be omitted (default) or not.\n",
    "    \"\"\"\n",
    "    # The base ring must be a field of characteristic zero\n",
    "    assert f.base_ring().characteristic() == 0, \"The characteristic must be zero!\"\n",
    "    assert f.base_ring().is_field(), \"The base ring must be a field!\"\n",
    "\n",
    "    # Store the ring of polys in P\n",
    "    P = f.parent()\n",
    "    # normalize f\n",
    "    lcf = f.leading_coefficient()\n",
    "    f = f.monic()\n",
    "    # compute a0, a1 and b1\n",
    "    a0 = f\n",
    "    a1 = gcd(a0, a0.derivative())\n",
    "    b1 = P( a0/a1 )\n",
    "    # the list of square-free factors\n",
    "    G = []\n",
    "    # the counter\n",
    "    j = 1\n",
    "    # main loop\n",
    "    while b1 != 1 :\n",
    "        # compute next aj\n",
    "        a0 = a1\n",
    "        a1 = gcd(a0, a0.derivative()) \n",
    "        # compute next bj\n",
    "        b2 =  P(a0/a1)\n",
    "        # compute a square-free factor...\n",
    "        gj = P(b1/b2)\n",
    "        # ...and append it to G\n",
    "        if gj != 1 or not omit_trivial_factors :\n",
    "            G.append( (gj, j) )\n",
    "        # substitute bj by b_{j+1}\n",
    "        b1 = b2\n",
    "        # increment the counter\n",
    "        j += 1\n",
    "    return Factorization(G, unit = lcf, sort = false)"
   ]
  },
  {
   "cell_type": "markdown",
   "metadata": {},
   "source": [
    "<h1>Exact roots of polynomials</h1>\n",
    "<p><span style=\"color: #ff0000;\">The above hidden cell will execute automatically upon opening the worksheet. It contains the following functions from exercise set 7:</span></p>\n",
    "<ul>\n",
    "<li><span style=\"color: #ff0000; font-family: courier new,courier;\">is_square_free( f )</span></li>\n",
    "<li><span style=\"color: #ff0000; font-family: courier new,courier;\">rad( f )</span></li>\n",
    "<li><span style=\"color: #ff0000; font-family: courier new,courier;\">square_free_decomposition( f, omit_trivial_factors = true )</span></li>\n",
    "</ul>\n",
    "<p><span id=\"cell_outer_28\"><span id=\"cell_outer_33\"><strong>Exercise:</strong> Write a function that computes exact roots of a quadratic polynomial.</span></span></p>"
   ]
  },
  {
   "cell_type": "code",
   "execution_count": 8,
   "metadata": {},
   "outputs": [
    {
     "data": {
      "text/plain": []
     },
     "execution_count": 8,
     "metadata": {},
     "output_type": "execute_result"
    }
   ],
   "source": [
    "def roots2( f ) :\n",
    "    \"\"\"\n",
    "    This function computes the roots of a quadratic polynomial `f`\n",
    "    \"\"\"\n",
    "    assert f.degree() == 2, \"f must be a quadratic polynomial\"\n",
    "    \n",
    "    # store the coefficients\n",
    "    [c,b,a] = list(f)\n",
    "    # the discriminant\n",
    "    Delta = b^2-4*a*c\n",
    "    # the roots\n",
    "    return ( (-b-sqrt(Delta))/(2*a),  (-b+sqrt(Delta))/(2*a) )"
   ]
  },
  {
   "cell_type": "code",
   "execution_count": 10,
   "metadata": {},
   "outputs": [
    {
     "data": {
      "text/plain": [
       "Passed"
      ]
     },
     "execution_count": 10,
     "metadata": {},
     "output_type": "execute_result"
    }
   ],
   "source": [
    "# check it on 1000 random polynomials\n",
    "P.<x> = QQ[]\n",
    "for j in range(1000) :\n",
    "    a = QQ.random_element()\n",
    "    b = QQ.random_element()\n",
    "    c = QQ.random_element()\n",
    "    if c == 0 :\n",
    "        continue\n",
    "    f = c*(x-a)*(x-b)\n",
    "    (x0, x1) = roots2(f)\n",
    "    if f(x0) != 0 or f(x1) != 0 :\n",
    "        print \"Wrong result for \", f\n",
    "        break\n",
    "else :\n",
    "    print \"Passed\""
   ]
  },
  {
   "cell_type": "markdown",
   "metadata": {},
   "source": [
    "<p><span id=\"cell_outer_2\"><span id=\"cell_outer_28\"><strong>Exercise:</strong> Write a function that computes all rational roots of a given polynomial using divisors of the free and constant coefficients.</span></span></p>"
   ]
  },
  {
   "cell_type": "code",
   "execution_count": 2,
   "metadata": {},
   "outputs": [
    {
     "data": {
      "text/plain": []
     },
     "execution_count": 2,
     "metadata": {},
     "output_type": "execute_result"
    }
   ],
   "source": [
    "def rational_roots( f ) :\n",
    "    \"\"\"\n",
    "    This function computes all the rational roots of a given polynomial `f` \\\n",
    "    with rational coefficients.\n",
    "    \"\"\"\n",
    "    assert f.base_ring() <= QQ, \"The ring of ceofficients must be contained in QQ.\"\n",
    "\n",
    "    # find the radical of f\n",
    "    fs = rad(f)\n",
    "    # find the common denominator of the coefficients\n",
    "    M = lcm([fi.denominator() for fi in fs])\n",
    "    print \"M=\", M\n",
    "    # ring of polys with integer coeffs\n",
    "    P = ZZ[f.parent().0]\n",
    "    # convert f to a polynomial with integer coefficients\n",
    "    fz = P(M*fs)\n",
    "    # find the primitive part\n",
    "    fz = P( fz/gcd(list(fz)) )\n",
    "    \n",
    "    # if zero is a root of f...\n",
    "    if fz(0) == 0 :\n",
    "        # ...then append zero to the list of roots...\n",
    "        C = [0]\n",
    "        # ...and divide f by x\n",
    "        # the following line just reads fz = fz/x, but\n",
    "        # is safely independent of the actual name of the variable\n",
    "        fz = P(fz/P.0)\n",
    "    else:\n",
    "        # otherwise we begin with an empty list of roots\n",
    "        C = []\n",
    "    # find the divizors of the constant term\n",
    "    A = fz[0].divisors()\n",
    "    # find the divisors of the leading coefficient\n",
    "    B = fz.leading_coefficient().divisors()\n",
    "    # check all the quotients...\n",
    "    C += [ a/b for a in A for b in B if f(a/b) == 0 ]\n",
    "    # ...don't forget about the negative ones\n",
    "    C += [ -a/b for a in A for b in B if f(-a/b) == 0 ]\n",
    "    # return the result\n",
    "    return sorted(set(C))"
   ]
  },
  {
   "cell_type": "code",
   "execution_count": 5,
   "metadata": {},
   "outputs": [
    {
     "data": {
      "text/plain": [
       "\n",
       "M= 8\n",
       "[-3/4, 1, 7/2, 7]"
      ]
     },
     "execution_count": 5,
     "metadata": {},
     "output_type": "execute_result"
    }
   ],
   "source": [
    "# test it\n",
    "P.<t> = QQ[]\n",
    "f = (t-1)^3*(t-7)^2*(t+3/4)^2*(t-7/2)^3*(t^3-3*t+17); view(\"f = \" + latex(f))\n",
    "rational_roots(f)"
   ]
  },
  {
   "cell_type": "markdown",
   "metadata": {},
   "source": [
    "<p><span><strong>Exercise: </strong>Compute the roots of $f = 4 x^{3} - 40 x^{2} + 124 x - 120$</span>.</p>\n",
    "<p>1) Define the polynomial $f$</p>"
   ]
  },
  {
   "cell_type": "code",
   "execution_count": 7,
   "metadata": {},
   "outputs": [
    {
     "data": {
      "text/plain": []
     },
     "execution_count": 7,
     "metadata": {},
     "output_type": "execute_result"
    }
   ],
   "source": [
    "P.<x> = QQ[]\n",
    "f = 4*x^3 - 40*x^2 + 124*x - 120; view(\"f = \" + latex(f))"
   ]
  },
  {
   "cell_type": "markdown",
   "metadata": {},
   "source": [
    "<p>2) Normalize the polynomial $f$ taking $f_1 \\gets \\frac{f}{\\mbox{lc}(f)}$.</p>"
   ]
  },
  {
   "cell_type": "code",
   "execution_count": 14,
   "metadata": {},
   "outputs": [
    {
     "data": {
      "text/plain": []
     },
     "execution_count": 14,
     "metadata": {},
     "output_type": "execute_result"
    }
   ],
   "source": [
    "f1 = P(f/f.leading_coefficient())\n",
    "# alternative\n",
    "#f1 = f.monic()\n",
    "view(\"f_1 = \" + latex(f1))"
   ]
  },
  {
   "cell_type": "markdown",
   "metadata": {},
   "source": [
    "<p>3) Let $b_1$ denote the coefficient of $f_1$ at $x^2$. Depress the equation (i.e. translate the mean of the roots to the origin) substituting $f_2(x) := f_1(x - \\frac{b_1}{3})$.</p>"
   ]
  },
  {
   "cell_type": "code",
   "execution_count": 12,
   "metadata": {},
   "outputs": [
    {
     "data": {
      "text/plain": []
     },
     "execution_count": 12,
     "metadata": {},
     "output_type": "execute_result"
    }
   ],
   "source": [
    "b1 = f1[2]\n",
    "f2 = f1( x = x - b1/3 ); view(\"f_2 = \" + latex(f2))"
   ]
  },
  {
   "cell_type": "markdown",
   "metadata": {},
   "source": [
    "<p>4) Denote the coefficient of $f_2$ at $x$ by $p$. Substitute $f_3 := x^3\\cdot f_2(x-\\frac{p}{3x})$.</p>"
   ]
  },
  {
   "cell_type": "code",
   "execution_count": 16,
   "metadata": {},
   "outputs": [
    {
     "data": {
      "text/plain": []
     },
     "execution_count": 16,
     "metadata": {},
     "output_type": "execute_result"
    }
   ],
   "source": [
    "p = f2[1]\n",
    "f3 = P( x^3* f2( x = x-p/(3*x) ) ); view(\"f_3 = \" + latex(f3))"
   ]
  },
  {
   "cell_type": "markdown",
   "metadata": {},
   "source": [
    "<p>5) Substitute $x^{1/3}$ for $x$ and convert the polynomial to a quadratic one (name it $f_4$).</p>\n",
    "<p><em>Hint: Which elements of the lists of coefficients of $f_3$ are used to build $f_4$?</em></p>"
   ]
  },
  {
   "cell_type": "code",
   "execution_count": 18,
   "metadata": {},
   "outputs": [
    {
     "data": {
      "text/plain": []
     },
     "execution_count": 18,
     "metadata": {},
     "output_type": "execute_result"
    }
   ],
   "source": [
    "f4 = P([ f3[j] for j in [0,3,6] ]); view(\"f_4 = \" + latex(f4))"
   ]
  },
  {
   "cell_type": "markdown",
   "metadata": {},
   "source": [
    "<p>6) Find the roots of $f_4$. Apply the previous function to it.</p>"
   ]
  },
  {
   "cell_type": "code",
   "execution_count": 20,
   "metadata": {},
   "outputs": [
    {
     "data": {
      "text/plain": []
     },
     "execution_count": 20,
     "metadata": {},
     "output_type": "execute_result"
    }
   ],
   "source": [
    "T = roots2(f4); view(T)"
   ]
  },
  {
   "cell_type": "markdown",
   "metadata": {},
   "source": [
    "<p>7) The roots (obtained in the previous step) are the roots <span style=\"text-decoration: underline;\">the roots of $f_4$</span>. Revert all the substitutions to get the roots of the original polynomial $f$.</p>"
   ]
  },
  {
   "cell_type": "code",
   "execution_count": 22,
   "metadata": {},
   "outputs": [
    {
     "data": {
      "text/plain": []
     },
     "execution_count": 22,
     "metadata": {},
     "output_type": "execute_result"
    }
   ],
   "source": [
    "t = T[1]\n",
    "x0 = QQ(RR(t^(1/3)-p/(3*t^(1/3)) - b1/3)); view(\"x_0 = \" + latex(x0))"
   ]
  },
  {
   "cell_type": "markdown",
   "metadata": {},
   "source": [
    "<p>8) Divide $f$ by $x-x_0$, to get a quadratic polynomial. Compute its roots.</p>"
   ]
  },
  {
   "cell_type": "code",
   "execution_count": 24,
   "metadata": {},
   "outputs": [
    {
     "data": {
      "text/plain": [
       "\n",
       "\n"
      ]
     },
     "execution_count": 24,
     "metadata": {},
     "output_type": "execute_result"
    }
   ],
   "source": [
    "g = f//(x-x0); view(\"g = \" + latex(g))\n",
    "(x1, x2) = roots2(g)\n",
    "view(\"x_1 = \" + latex(x1))\n",
    "view(\"x_2 = \" + latex(x2))"
   ]
  },
  {
   "cell_type": "markdown",
   "metadata": {},
   "source": [
    "<p><strong>Exercise:</strong> Solve an equation $x^4 - 5x^2 + 6 = 0$.</p>\n",
    "<p>1) Define the polynomial $f = x^4 - 5x^2 + 6$.</p>"
   ]
  },
  {
   "cell_type": "code",
   "execution_count": 26,
   "metadata": {},
   "outputs": [
    {
     "data": {
      "text/plain": [
       "x^4 - 5*x^2 + 6"
      ]
     },
     "execution_count": 26,
     "metadata": {},
     "output_type": "execute_result"
    }
   ],
   "source": [
    "P.<x> = QQ[]\n",
    "f = x^4 - 5*x^2 + 6; f"
   ]
  },
  {
   "cell_type": "markdown",
   "metadata": {},
   "source": [
    "<p>2) The polynomial $f$ is already depressed, denote its coefficients by $p,q,r$ so that $f = x^4 + px^2 + qx + r$.</p>"
   ]
  },
  {
   "cell_type": "code",
   "execution_count": 28,
   "metadata": {},
   "outputs": [
    {
     "data": {
      "text/plain": []
     },
     "execution_count": 28,
     "metadata": {},
     "output_type": "execute_result"
    }
   ],
   "source": [
    "[r,q,p,_,_] = f.list()"
   ]
  },
  {
   "cell_type": "markdown",
   "metadata": {},
   "source": [
    "<p>3) Construct a polynomial $h = -q^2 + \\bigl(p^2 - 4 r\\bigr) x + 2p x^2 + x^3$.</p>"
   ]
  },
  {
   "cell_type": "code",
   "execution_count": 31,
   "metadata": {},
   "outputs": [
    {
     "data": {
      "text/plain": []
     },
     "execution_count": 31,
     "metadata": {},
     "output_type": "execute_result"
    }
   ],
   "source": [
    "h = -q^2 + (p^2-4*r)*x + 2*p*x^2 + x^3; view(\"h = \" + latex(h))"
   ]
  },
  {
   "cell_type": "markdown",
   "metadata": {},
   "source": [
    "<p>4) Find elements $\\zeta_1, \\dotsc, \\zeta_3$ such that $h(\\zeta_i^2) = 0$.</p>\n",
    "<p><em>Hint:</em> Observe that one root is obvious.</p>"
   ]
  },
  {
   "cell_type": "code",
   "execution_count": 33,
   "metadata": {},
   "outputs": [
    {
     "data": {
      "text/plain": []
     },
     "execution_count": 33,
     "metadata": {},
     "output_type": "execute_result"
    }
   ],
   "source": [
    "Zeta = [0] + list(roots2(h//x))\n",
    "Zeta = [ sqrt(zeta) for zeta in Zeta ]\n",
    "view(\"\\\\zeta\\\\in \" + latex(Set(Zeta)) )"
   ]
  },
  {
   "cell_type": "markdown",
   "metadata": {},
   "source": [
    "<p>5) Build a matrix \\[ M = \\frac{1}{2}\\cdot \\begin{pmatrix} 1 &  1 &  1 &  1\\\\ 1 & -1 &  1 & -1\\\\ 1 &  1 & -1 & -1\\\\ 1 & -1 & -1 &  1 \\end{pmatrix} \\]</p>"
   ]
  },
  {
   "cell_type": "code",
   "execution_count": 35,
   "metadata": {},
   "outputs": [
    {
     "data": {
      "text/plain": []
     },
     "execution_count": 35,
     "metadata": {},
     "output_type": "execute_result"
    }
   ],
   "source": [
    "M = 1/2*matrix([[1,1,1,1],[1,-1,1,-1],[1,1,-1,-1],[1,-1,-1,1]])\n",
    "view(\"M = \" + latex(M))"
   ]
  },
  {
   "cell_type": "markdown",
   "metadata": {},
   "source": [
    "<p>6) Check that it is its self-inverse, i.e. $M^{-1} = M$.</p>"
   ]
  },
  {
   "cell_type": "code",
   "execution_count": 37,
   "metadata": {},
   "outputs": [
    {
     "data": {
      "text/plain": []
     },
     "execution_count": 37,
     "metadata": {},
     "output_type": "execute_result"
    }
   ],
   "source": [
    "view(\"M^2 = \" + latex(M*M))"
   ]
  },
  {
   "cell_type": "markdown",
   "metadata": {},
   "source": [
    "<p>7) Find the roots $\\xi_0, \\dotsc, \\xi_3$ of the polynomial $f$ using the formula \\[ \\begin{pmatrix} \\xi_0\\\\\\xi_1\\\\\\xi_2\\\\\\xi_3\\ \\end{pmatrix} = M\\cdot \\begin{pmatrix} \\zeta_0\\\\\\zeta_1\\\\\\zeta_2\\\\\\zeta_3 \\end{pmatrix} \\]</p>"
   ]
  },
  {
   "cell_type": "code",
   "execution_count": 39,
   "metadata": {},
   "outputs": [
    {
     "data": {
      "text/plain": []
     },
     "execution_count": 39,
     "metadata": {},
     "output_type": "execute_result"
    }
   ],
   "source": [
    "Xi = list(M*vector([0] + Zeta))\n",
    "Xi = [ xi.simplify_full() for xi in Xi ]\n",
    "view(\"\\\\xi\\\\in \"+ latex(Set(Xi)))"
   ]
  },
  {
   "cell_type": "markdown",
   "metadata": {},
   "source": [
    "<p>8) Verify numerically that $\\xi_0, \\dotsc, \\xi_3$ are indeed roots of $f$.</p>"
   ]
  },
  {
   "cell_type": "code",
   "execution_count": 41,
   "metadata": {},
   "outputs": [
    {
     "data": {
      "text/plain": [
       "[1.73205080756888, -1.41421356237309, -1.73205080756888, 1.41421356237309]"
      ]
     },
     "execution_count": 41,
     "metadata": {},
     "output_type": "execute_result"
    }
   ],
   "source": [
    "[ RR(xi) for xi in Xi ]"
   ]
  },
  {
   "cell_type": "code",
   "execution_count": 43,
   "metadata": {},
   "outputs": [
    {
     "data": {
      "text/plain": [
       "[1.77635683940025e-15,\n",
       " 8.88178419700125e-16,\n",
       " 1.77635683940025e-15,\n",
       " 8.88178419700125e-16]"
      ]
     },
     "execution_count": 43,
     "metadata": {},
     "output_type": "execute_result"
    }
   ],
   "source": [
    "[ f(RR(xi)) for xi in Xi ]"
   ]
  },
  {
   "cell_type": "code",
   "execution_count": 44,
   "metadata": {},
   "outputs": [
    {
     "data": {
      "text/plain": []
     },
     "execution_count": 44,
     "metadata": {},
     "output_type": "execute_result"
    }
   ],
   "source": []
  }
 ],
 "metadata": {
  "kernelspec": {
   "display_name": "SageMath 9.0",
   "language": "sage",
   "name": "sagemath"
  },
  "language": "python",
  "language_info": {
   "codemirror_mode": {
    "name": "ipython",
    "version": 3
   },
   "file_extension": ".py",
   "mimetype": "text/x-python",
   "name": "python",
   "nbconvert_exporter": "python",
   "pygments_lexer": "ipython3",
   "version": "3.7.6"
  }
 },
 "nbformat": 4,
 "nbformat_minor": 4
}
