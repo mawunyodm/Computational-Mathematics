{
 "cells": [
  {
   "cell_type": "markdown",
   "metadata": {},
   "source": [
    "<h1>Square-free decomposition (part 1)</h1>\n",
    "<h2>Square-free decomposition</h2>\n",
    "<p><strong>Definition:</strong> A polynomial $f$ is <em>square-free</em> if it is not divisible by a square of a non-constant polynomial.</p>\n",
    "<p><strong>Theorem:</strong> $f$ is square-free iff $gcd(f,f') = 1$.</p>\n",
    "<p><strong>Exercise</strong>: Define a polynomial $f = x^{10} - 14 x^{9} + 61 x^{8} - 168 x^{7} + 642 x^{6} - 756 x^{5} + 2754 x^{4} - 1512 x^{3} + 5373 x^{2} - 1134 x + 3969\\in \\mathbb{Q}[x]$. Check if it is square-free.</p>"
   ]
  },
  {
   "cell_type": "code",
   "execution_count": 2,
   "metadata": {},
   "outputs": [
    {
     "data": {
      "text/plain": []
     },
     "execution_count": 2,
     "metadata": {},
     "output_type": "execute_result"
    }
   ],
   "source": [
    "# define the ring P = QQ[𝑥]\n",
    "P.<x> = QQ[]\n",
    "# and the polynomial f\n",
    "f = x^10 - 14*x^9 + 61*x^8 - 168*x^7 + 642*x^6 - 756*x^5 + 2754*x^4 - 1512*x^3 + 5373*x^2 - 1134*x + 3969 \n",
    "view(\"f = \" + latex(f))"
   ]
  },
  {
   "cell_type": "code",
   "execution_count": 5,
   "metadata": {},
   "outputs": [
    {
     "data": {
      "text/plain": []
     },
     "execution_count": 5,
     "metadata": {},
     "output_type": "execute_result"
    }
   ],
   "source": [
    "# compute the derivative f'\n",
    "view(\"f' = \" + latex( f.derivative() ))"
   ]
  },
  {
   "cell_type": "code",
   "execution_count": 6,
   "metadata": {},
   "outputs": [
    {
     "data": {
      "text/plain": [
       "False"
      ]
     },
     "execution_count": 6,
     "metadata": {},
     "output_type": "execute_result"
    }
   ],
   "source": [
    "# then f is square-free <=> GCD(f,f')=1\n",
    "gcd( f, f.derivative() ).is_unit()"
   ]
  },
  {
   "cell_type": "markdown",
   "metadata": {},
   "source": [
    "<p><strong>Exercise:</strong> Write a function that checks if a polynomial is square-free.</p>"
   ]
  },
  {
   "cell_type": "code",
   "execution_count": 7,
   "metadata": {},
   "outputs": [
    {
     "data": {
      "text/plain": []
     },
     "execution_count": 7,
     "metadata": {},
     "output_type": "execute_result"
    }
   ],
   "source": [
    "def is_square_free( f ) :\n",
    "    \"\"\"\n",
    "    This function checks if the polynomial `f` is square-free.\n",
    "    \"\"\"\n",
    "    return gcd( f, f.derivative() ).is_unit()"
   ]
  },
  {
   "cell_type": "code",
   "execution_count": 9,
   "metadata": {},
   "outputs": [
    {
     "data": {
      "text/plain": [
       "False"
      ]
     },
     "execution_count": 9,
     "metadata": {},
     "output_type": "execute_result"
    }
   ],
   "source": [
    "# test on the previous example\n",
    "is_square_free(f)"
   ]
  },
  {
   "cell_type": "markdown",
   "metadata": {},
   "source": [
    "<p><strong>Definition: </strong>If $f = c\\cdot (x-\\xi_1)^{m_1}\\dotsm (x-\\xi_k)^{m_k}$ is a polynomial, $\\xi_1, \\dotsc, \\xi_k$ all its roots and $m_1,\\dotsc, m_k$ the associated multiplicities, then a square-free polynomial $\\operatorname{rad} f := c\\cdot (x - \\xi_1)\\dotsm (x-\\xi_k)$ is called <em>radical</em> of $f$.</p>\n",
    "<p><strong>Theorem:</strong> The radical of a polynomial $f$ (with coefficients in a field of characteristic zero is computed by the formula<br />\\[<br />\\operatorname{rad} f := \\frac{f}{\\gcd(f,f')}.<br />\\]</p>\n",
    "<p><strong>Exercise:</strong> Write a function computing the radical of a polynomial.</p>"
   ]
  },
  {
   "cell_type": "code",
   "execution_count": 150,
   "metadata": {},
   "outputs": [
    {
     "data": {
      "text/plain": []
     },
     "execution_count": 150,
     "metadata": {},
     "output_type": "execute_result"
    }
   ],
   "source": [
    "def rad( f ) :\n",
    "    \"\"\"\n",
    "    This function computes the radical of `f`.\n",
    "    \"\"\"\n",
    "    # find the ring of polynomials\n",
    "    P = f.parent()\n",
    "    # return the radical\n",
    "    return P(f/gcd(f,f.derivative()))"
   ]
  },
  {
   "cell_type": "code",
   "execution_count": 247,
   "metadata": {},
   "outputs": [
    {
     "data": {
      "text/plain": [
       "\n"
      ]
     },
     "execution_count": 247,
     "metadata": {},
     "output_type": "execute_result"
    }
   ],
   "source": [
    "# test it\n",
    "P.<x> = ZZ[]\n",
    "f = 2*(x-1)^3*(x-2)^5*(x-3)^7; view(\"f = \" + latex(f))\n",
    "radf = rad(f); view( \"\\\\operatorname{rad} f = \" + latex(radf) + \"\\\\\\\\\\\\quad=\" + latex(radf.factor()) )"
   ]
  },
  {
   "cell_type": "markdown",
   "metadata": {},
   "source": [
    "<p><strong>Exercise:</strong> Compute <strong>step by step</strong> the square-free decomposition of $x^{7} + x^{6} - x^{5} - x^{4} - x^{3} - x^{2} + x + 1$.</p>"
   ]
  },
  {
   "cell_type": "code",
   "execution_count": 10,
   "metadata": {},
   "outputs": [
    {
     "data": {
      "text/plain": []
     },
     "execution_count": 10,
     "metadata": {},
     "output_type": "execute_result"
    }
   ],
   "source": [
    "# define the ring of polynomials P = ℚ[𝑥]\n",
    "P.<x> = QQ[]\n",
    "# define the polynomial f\n",
    "f = x^7+x^6-x^5-x^4-x^3-x^2+x+1; view(\"f = \" + latex(f))"
   ]
  },
  {
   "cell_type": "code",
   "execution_count": 19,
   "metadata": {},
   "outputs": [
    {
     "data": {
      "text/plain": [
       "\n",
       "\n"
      ]
     },
     "execution_count": 19,
     "metadata": {},
     "output_type": "execute_result"
    }
   ],
   "source": [
    "# we have a0 = f\n",
    "a0 = f; view(\"a_0 = \" + latex(a0))\n",
    "# a1 = GCD(a0,a0')\n",
    "a1 = gcd(a0,a0.derivative()); view(\"a_1 = \" + latex(a1))\n",
    "# b1 = a0/a1\n",
    "b1 = P(a0/a1); view(\"b_1 = \" + latex(b1))"
   ]
  },
  {
   "cell_type": "code",
   "execution_count": 20,
   "metadata": {},
   "outputs": [
    {
     "data": {
      "text/plain": [
       "\n",
       "\n"
      ]
     },
     "execution_count": 20,
     "metadata": {},
     "output_type": "execute_result"
    }
   ],
   "source": [
    "# next iteration: a2 = GCD(a1,a1')\n",
    "a2 = gcd(a1, a1.derivative()); view(\"a_1 = \" + latex(a2))\n",
    "# b2 = a1/a2\n",
    "b2 = P(a1/a2); view(\"b_2 = \" + latex(b2))\n",
    "# now we compute the first square-free factor: g1 = b1/b2\n",
    "g1 = P(b1/b2); view(\"g_1 = \" + latex(g1))"
   ]
  },
  {
   "cell_type": "code",
   "execution_count": 21,
   "metadata": {},
   "outputs": [
    {
     "data": {
      "text/plain": [
       "\n",
       "\n"
      ]
     },
     "execution_count": 21,
     "metadata": {},
     "output_type": "execute_result"
    }
   ],
   "source": [
    "# next iteration\n",
    "a3 = gcd(a2, a2.derivative()); view(\"a_3 = \" + latex(a3))\n",
    "b3 = P(a2/a3); view(\"b_3 = \" + latex(b3))\n",
    "g2 = P(b2/b3); view(\"g_2 = \" + latex(g2))"
   ]
  },
  {
   "cell_type": "code",
   "execution_count": 22,
   "metadata": {},
   "outputs": [
    {
     "data": {
      "text/plain": [
       "\n",
       "\n"
      ]
     },
     "execution_count": 22,
     "metadata": {},
     "output_type": "execute_result"
    }
   ],
   "source": [
    "# and one more iteration\n",
    "a4 = gcd(a3, a3.derivative()); view(\"a_4 = \" + latex(a4))\n",
    "b4 = P(a3/a4); view(\"b_4 = \" + latex(b4))\n",
    "g3 = P(b3/b4); view(\"g_3 = \" + latex(g3))"
   ]
  },
  {
   "cell_type": "code",
   "execution_count": 23,
   "metadata": {},
   "outputs": [
    {
     "data": {
      "text/plain": [
       "True"
      ]
     },
     "execution_count": 23,
     "metadata": {},
     "output_type": "execute_result"
    }
   ],
   "source": [
    "# verify that f is really the product of powers of g's\n",
    "f == g1*g2^2*g3^3"
   ]
  },
  {
   "cell_type": "code",
   "execution_count": 24,
   "metadata": {},
   "outputs": [
    {
     "data": {
      "text/plain": []
     },
     "execution_count": 24,
     "metadata": {},
     "output_type": "execute_result"
    }
   ],
   "source": [
    "# display it nicely\n",
    "view( Factorization([ (g1,1), (g2,2), (g3,3) ], sort = false) )"
   ]
  },
  {
   "cell_type": "markdown",
   "metadata": {},
   "source": [
    "<p><strong>Exercise:</strong> Compute step by step the square-free decomposition of $x^{6} - 8 x^{5} + 25 x^{4} - 38 x^{3} + 28 x^{2} - 8 x$.</p>"
   ]
  },
  {
   "cell_type": "code",
   "execution_count": 12,
   "metadata": {},
   "outputs": [
    {
     "data": {
      "text/plain": [
       "\n",
       "\n",
       "True"
      ]
     },
     "execution_count": 12,
     "metadata": {},
     "output_type": "execute_result"
    }
   ],
   "source": [
    "# Proceed as in the previous exercise\n",
    "P.<x> = QQ[]\n",
    "f = x^6 - 8*x^5 + 25*x^4 - 38*x^3 + 28*x^2 - 8*x; view(\"f = \" + latex(f))\n",
    "a0 = f\n",
    "a1 = gcd(a0,a0.derivative())\n",
    "b1 = P(a0/a1)\n",
    "a2 = gcd(a1, a1.derivative())\n",
    "b2 = P(a1/a2)\n",
    "g1 = P(b1/b2)\n",
    "a3 = gcd(a2, a2.derivative())\n",
    "b3 = P(a2/a3)\n",
    "g2 = P(b2/b3)\n",
    "a4 = gcd(a3, a3.derivative())\n",
    "b4 = P(a3/a4)\n",
    "g3 = P(b3/b4)\n",
    "view(\"f = \" + latex( Factorization([ (g1,1), (g2,2), (g3,3) ], sort = false) ))\n",
    "f == g1*g2^2*g3^3"
   ]
  },
  {
   "cell_type": "markdown",
   "metadata": {},
   "source": [
    "<p><span id=\"cell_outer_12\"><strong>Exercise:</strong> Write a function that computes the square-free decomposition of a polynomial (over a field of characteristic zero) using Tobey-Horowitz algorithm.</span></p>"
   ]
  },
  {
   "cell_type": "code",
   "execution_count": 151,
   "metadata": {},
   "outputs": [
    {
     "data": {
      "text/plain": []
     },
     "execution_count": 151,
     "metadata": {},
     "output_type": "execute_result"
    }
   ],
   "source": [
    "# version using lists that stores ALL intermediate steps\n",
    "\n",
    "def square_free_decomposition( f, omit_trivial_factors = true ) :\n",
    "    \"\"\"\n",
    "    This function takes a polynomial `f` and returns its square-free \\\n",
    "    decomposition computed using Tobey-Horowitz algorithm.\n",
    "    The additional parameter omit_trivial_factors constrols whether factors = 1\n",
    "    should be omitted (default) or not.\n",
    "    \"\"\"\n",
    "    # The base ring must be a field of characteristic zero\n",
    "    assert f.base_ring().characteristic() == 0, \"The characteristic must be zero!\"\n",
    "    assert f.base_ring().is_field(), \"The base ring must be a field!\"\n",
    "\n",
    "    # Store the ring of polys in P\n",
    "    P = f.parent()\n",
    "    # normalize f\n",
    "    lcf = f.leading_coefficient()\n",
    "    f = f.monic()\n",
    "    # compute a0, a1 and b1\n",
    "    A = [f]\n",
    "    A.append( gcd(A[0], A[0].derivative()) )\n",
    "    B = [0, P( A[0]/A[1] )]\n",
    "    # the list of square-free factors\n",
    "    G = []\n",
    "    # the counter\n",
    "    j = 1\n",
    "    # main loop\n",
    "    while B[j] != 1 :\n",
    "        # compute next aj\n",
    "        A.append( gcd(A[j], A[j].derivative()) )\n",
    "        # compute next bj\n",
    "        B.append( P(A[j]/A[j+1]) )\n",
    "        # compute a square-free factor...\n",
    "        gj = P(B[j]/B[j+1])\n",
    "        # ...and append it to G\n",
    "        if gj != 1 or not omit_trivial_factors :\n",
    "            G.append( (gj, j) )\n",
    "        # increment the counter\n",
    "        j += 1\n",
    "    return Factorization(G, unit = lcf, sort = false)"
   ]
  },
  {
   "cell_type": "code",
   "execution_count": 153,
   "metadata": {},
   "outputs": [
    {
     "data": {
      "text/plain": []
     },
     "execution_count": 153,
     "metadata": {},
     "output_type": "execute_result"
    }
   ],
   "source": [
    "# alternative solution that stores only the important intermediates\n",
    "\n",
    "def square_free_decomposition( f, omit_trivial_factors = true ) :\n",
    "    \"\"\"\n",
    "    This function takes a polynomial f and returns its square-free \n",
    "    decomposition computed using Tobey-Horowitz algorithm.\n",
    "    The additional parameter omit_trivial_factors constrols whether factors = 1\n",
    "    should be omitted (default) or not.\n",
    "    \"\"\"\n",
    "    # The base ring must be a field of characteristic zero\n",
    "    assert f.base_ring().characteristic() == 0, \"The characteristic must be zero!\"\n",
    "    assert f.base_ring().is_field(), \"The base ring must be a field!\"\n",
    "\n",
    "    # Store the ring of polys in P\n",
    "    P = f.parent()\n",
    "    # normalize f\n",
    "    lcf = f.leading_coefficient()\n",
    "    f = f.monic()\n",
    "    # compute a0, a1 and b1\n",
    "    a0 = f\n",
    "    a1 = gcd(a0, a0.derivative())\n",
    "    b1 = P( a0/a1 )\n",
    "    # the list of square-free factors\n",
    "    G = []\n",
    "    # the counter\n",
    "    j = 1\n",
    "    # main loop\n",
    "    while b1 != 1 :\n",
    "        # compute next aj\n",
    "        a0 = a1\n",
    "        a1 = gcd(a0, a0.derivative()) \n",
    "        # compute next bj\n",
    "        b2 =  P(a0/a1)\n",
    "        # compute a square-free factor...\n",
    "        gj = P(b1/b2)\n",
    "        # ...and append it to G\n",
    "        if gj != 1 or not omit_trivial_factors :\n",
    "            G.append( (gj, j) )\n",
    "        # substitute bj by b_{j+1}\n",
    "        b1 = b2\n",
    "        # increment the counter\n",
    "        j += 1\n",
    "    return Factorization(G, unit = lcf, sort = false)"
   ]
  },
  {
   "cell_type": "code",
   "execution_count": 27,
   "metadata": {},
   "outputs": [
    {
     "data": {
      "text/plain": [
       "\n"
      ]
     },
     "execution_count": 27,
     "metadata": {},
     "output_type": "execute_result"
    }
   ],
   "source": [
    "# test it with a previous example\n",
    "P.<x> = QQ[]\n",
    "f = 4*(x^7+x^6-x^5-x^4-x^3-x^2+x+1); view(\"f = \" + latex(f))\n",
    "view(\"f = \" + latex( square_free_decomposition(f) ))"
   ]
  },
  {
   "cell_type": "markdown",
   "metadata": {},
   "source": [
    "<p><strong>Exercise:</strong> Write a function testing if a polynomial is a square of another polynomial.</p>"
   ]
  },
  {
   "cell_type": "code",
   "execution_count": 26,
   "metadata": {},
   "outputs": [
    {
     "data": {
      "text/plain": []
     },
     "execution_count": 26,
     "metadata": {},
     "output_type": "execute_result"
    }
   ],
   "source": [
    "def is_square( f ) :\n",
    "    \"\"\"\n",
    "    This function takes a polynomial f and returns true iff there exists a polynomial g s.t. f = g^2\n",
    "    \"\"\"\n",
    "    # compute the square-free decomposition of f\n",
    "    G = square_free_decomposition( f )\n",
    "    c = G.unit()\n",
    "    # check if all the exponents are even\n",
    "    A = [ is_even(k) for (g,k) in G ]\n",
    "    # if not (or c is not a square) then return false, otherwise return true\n",
    "    return all(A) and c.is_square()"
   ]
  },
  {
   "cell_type": "code",
   "execution_count": 28,
   "metadata": {},
   "outputs": [
    {
     "data": {
      "text/plain": [
       "False\n",
       "True\n",
       "True\n",
       "False"
      ]
     },
     "execution_count": 28,
     "metadata": {},
     "output_type": "execute_result"
    }
   ],
   "source": [
    "# test it:\n",
    "P.<x> = QQ[]\n",
    "K.<sqrt2> = QuadraticField(2)\n",
    "print is_square( 2*(x-1)^2 ) \n",
    "print is_square( K[x](2*(x-1)^2) )\n",
    "print is_square( 4*(x-1)^2 ) \n",
    "print is_square( 4*(x-1)^3 )"
   ]
  },
  {
   "cell_type": "markdown",
   "metadata": {},
   "source": [
    "<p><strong>Exercise:</strong> Write a function computing the square root of a given polynomial (or returning false if the polynomial is not a square).</p>"
   ]
  },
  {
   "cell_type": "code",
   "execution_count": 30,
   "metadata": {},
   "outputs": [
    {
     "data": {
      "text/plain": []
     },
     "execution_count": 30,
     "metadata": {},
     "output_type": "execute_result"
    }
   ],
   "source": [
    "def square_root( f ) :\n",
    "    \"\"\"\n",
    "    This function takes a polynomial f and return such a polynomial g, \n",
    "    that f = g^2 or false if such g does not exist\n",
    "    \"\"\"\n",
    "    # compute the square-free decomposition of f\n",
    "    G = square_free_decomposition( f )\n",
    "    c = G.unit()\n",
    "    # check if all the exponents are even\n",
    "    A = [ is_even(k) for (g,k) in G ]\n",
    "    # return false if f is not a square\n",
    "    if false in A or not c.is_square(): \n",
    "        return false\n",
    "    # return the product of the square root of the leading coefficient \n",
    "    # times the product of the factors to half of their exponents\n",
    "    return prod( g^(ZZ(k/2)) for (g,k) in G )*sqrt(c)"
   ]
  },
  {
   "cell_type": "code",
   "execution_count": 32,
   "metadata": {},
   "outputs": [
    {
     "data": {
      "text/plain": [
       "\n",
       "\n",
       "\n"
      ]
     },
     "execution_count": 32,
     "metadata": {},
     "output_type": "execute_result"
    }
   ],
   "source": [
    "# test it:\n",
    "P.<x> = QQ[]\n",
    "K.<sqrt2> = QuadraticField(2)\n",
    "view( square_root( 2*(x-1)^2 ) )\n",
    "view( square_root( K[x](2*(x-1)^2) ))\n",
    "view( square_root( 4*(x-1)^2 ) )\n",
    "view( square_root( 4*(x-1)^3 ) )"
   ]
  },
  {
   "cell_type": "code",
   "execution_count": 248,
   "metadata": {},
   "outputs": [
    {
     "data": {
      "text/plain": []
     },
     "execution_count": 248,
     "metadata": {},
     "output_type": "execute_result"
    }
   ],
   "source": []
  }
 ],
 "metadata": {
  "kernelspec": {
   "display_name": "SageMath 9.0",
   "language": "sage",
   "name": "sagemath"
  },
  "language": "python",
  "language_info": {
   "codemirror_mode": {
    "name": "ipython",
    "version": 3
   },
   "file_extension": ".py",
   "mimetype": "text/x-python",
   "name": "python",
   "nbconvert_exporter": "python",
   "pygments_lexer": "ipython3",
   "version": "3.7.6"
  }
 },
 "nbformat": 4,
 "nbformat_minor": 4
}
