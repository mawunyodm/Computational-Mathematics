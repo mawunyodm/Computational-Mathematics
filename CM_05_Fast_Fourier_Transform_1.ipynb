{
 "cells": [
  {
   "cell_type": "markdown",
   "metadata": {},
   "source": [
    "<h1>Exercise set 5: Fast Fourier Transform (part 1)</h1>\n",
    "<p><span id=\"cell_outer_30\"><strong>Exercise:</strong> Compute a complex primitive roots of unity of degree 16</span></p>"
   ]
  },
  {
   "cell_type": "code",
   "execution_count": 2,
   "metadata": {},
   "outputs": [
    {
     "data": {
      "text/plain": [
       "0.923879532511287 + 0.382683432365090*I"
      ]
     },
     "execution_count": 2,
     "metadata": {},
     "output_type": "execute_result"
    }
   ],
   "source": [
    "n = 16\n",
    "omega = CC( cos(2*pi/n) + i*sin(2*pi/n) )\n",
    "omega"
   ]
  },
  {
   "cell_type": "code",
   "execution_count": 3,
   "metadata": {},
   "outputs": [
    {
     "data": {
      "text/plain": [
       "1.00000000000000 + 1.33226762955019e-15*I"
      ]
     },
     "execution_count": 3,
     "metadata": {},
     "output_type": "execute_result"
    }
   ],
   "source": [
    "# verification \n",
    "omega^16"
   ]
  },
  {
   "cell_type": "markdown",
   "metadata": {},
   "source": [
    "<p><strong>Exercise:</strong> Write a function that computes a primitive root of unity of a given degree.</p>"
   ]
  },
  {
   "cell_type": "code",
   "execution_count": 4,
   "metadata": {},
   "outputs": [],
   "source": [
    "def root_of_unity( n, K = CC ) :\n",
    "    \"\"\"\n",
    "    This function computes the primitive root of unity of degree `n` in `\\\\mathbb{C}`\n",
    "    \"\"\"\n",
    "    return K( cos(2*pi/n) + i*sin(2*pi/n) )"
   ]
  },
  {
   "cell_type": "code",
   "execution_count": 5,
   "metadata": {},
   "outputs": [
    {
     "data": {
      "text/plain": [
       "0.999999999999999"
      ]
     },
     "execution_count": 5,
     "metadata": {},
     "output_type": "execute_result"
    }
   ],
   "source": [
    "root_of_unity(8)^8"
   ]
  },
  {
   "cell_type": "markdown",
   "metadata": {},
   "source": [
    "<p><strong>Exercise:</strong> Compute directly by definition the discrete Fourier transform of a sequence $(1,\\dotsc, 8)$.</p>"
   ]
  },
  {
   "cell_type": "code",
   "execution_count": 7,
   "metadata": {},
   "outputs": [
    {
     "data": {
      "text/html": [
       "<html><script type=\"math/tex; mode=display\">\\newcommand{\\Bold}[1]{\\mathbf{#1}}l = \\left[1, 2, 3, 4, 5, 6, 7, 8\\right]</script></html>"
      ],
      "text/plain": [
       "l = \\left[1, 2, 3, 4, 5, 6, 7, 8\\right]"
      ]
     },
     "metadata": {},
     "output_type": "display_data"
    },
    {
     "data": {
      "text/html": [
       "<html><script type=\"math/tex; mode=display\">\\newcommand{\\Bold}[1]{\\mathbf{#1}}\\hat{l}= \\left[36, 4 i \\, \\sqrt{2} + 4 i - 4, 4 i - 4, 4 i \\, \\sqrt{2} - 4 i - 4, -4, -4 i \\, \\sqrt{2} + 4 i - 4, -4 i - 4, -4 i \\, \\sqrt{2} - 4 i - 4\\right]</script></html>"
      ],
      "text/plain": [
       "\\hat{l}= \\left[36, 4 i \\, \\sqrt{2} + 4 i - 4, 4 i - 4, 4 i \\, \\sqrt{2} - 4 i - 4, -4, -4 i \\, \\sqrt{2} + 4 i - 4, -4 i - 4, -4 i \\, \\sqrt{2} - 4 i - 4\\right]"
      ]
     },
     "metadata": {},
     "output_type": "display_data"
    }
   ],
   "source": [
    "l = [1..8]; show(\"l = \"+latex(l))\n",
    "omega = root_of_unity( len(l), SR )\n",
    "L = [ sum( l[k]*omega^(-k*n) for k in range(len(l)) ) for n in range(len(l)) ]\n",
    "show(\"\\\\hat{l}=\"+latex(L))"
   ]
  },
  {
   "cell_type": "markdown",
   "metadata": {},
   "source": [
    "<p><strong>Theorem:</strong> The discrete Fourier transform of a polynomial $f$ (of its sequence of coefficients), computed using a primitive root of unity $\\omega$ of degree $1+\\deg f$, is the sequence of values of $f$ evalueated over consecutive powers of $\\frac1\\omega$.</p>\n",
    "<p><strong>Exercise:</strong> Compute the discrete Fourier transform (of the same polynomial as above) using the above theorem.</p>"
   ]
  },
  {
   "cell_type": "code",
   "execution_count": 9,
   "metadata": {},
   "outputs": [
    {
     "data": {
      "text/html": [
       "<html><script type=\"math/tex; mode=display\">\\newcommand{\\Bold}[1]{\\mathbf{#1}}f = 8x^{7} + 7x^{6} + 6x^{5} + 5x^{4} + 4x^{3} + 3x^{2} + 2x + 1</script></html>"
      ],
      "text/plain": [
       "f = 8x^{7} + 7x^{6} + 6x^{5} + 5x^{4} + 4x^{3} + 3x^{2} + 2x + 1"
      ]
     },
     "metadata": {},
     "output_type": "display_data"
    },
    {
     "data": {
      "text/html": [
       "<html><script type=\"math/tex; mode=display\">\\newcommand{\\Bold}[1]{\\mathbf{#1}}\\hat{f} = \\left[36, 4 i \\, \\sqrt{2} + 4 i - 4, 4 i - 4, 4 i \\, \\sqrt{2} - 4 i - 4, -4, -4 i \\, \\sqrt{2} + 4 i - 4, -4 i - 4, -4 i \\, \\sqrt{2} - 4 i - 4\\right]</script></html>"
      ],
      "text/plain": [
       "\\hat{f} = \\left[36, 4 i \\, \\sqrt{2} + 4 i - 4, 4 i - 4, 4 i \\, \\sqrt{2} - 4 i - 4, -4, -4 i \\, \\sqrt{2} + 4 i - 4, -4 i - 4, -4 i \\, \\sqrt{2} - 4 i - 4\\right]"
      ]
     },
     "metadata": {},
     "output_type": "display_data"
    }
   ],
   "source": [
    "P.<x> = ZZ[]\n",
    "f = P(l); show(\"f = \" + latex(f))\n",
    "F = [ f(omega^(-j)) for j in [0..f.degree()] ]\n",
    "show(\"\\\\hat{f} = \"+latex(F))"
   ]
  },
  {
   "cell_type": "markdown",
   "metadata": {},
   "source": [
    "<p><span style=\"color: #0000ff;\">Th next cell contains a function <span style=\"font-family: courier new,courier;\">split_list</span> from exercise set 3. It will get executed automatically (the command <span style=\"font-family: courier new,courier;\">%auto</span> at the top serves this purpose)</span><strong><br /></strong></p>"
   ]
  },
  {
   "cell_type": "code",
   "execution_count": 12,
   "metadata": {},
   "outputs": [
    {
     "data": {
      "text/plain": []
     },
     "execution_count": 12,
     "metadata": {},
     "output_type": "execute_result"
    }
   ],
   "source": [
    "\n",
    "def split_list( L ) :\n",
    "    \"\"\"\n",
    "    Given a list `L` this function constructs lists `E` with elements of `L` having even indices \\\n",
    "    and `O` with elements of `L` having odd indices.\n",
    "    \"\"\"\n",
    "    n = len(L)\n",
    "    E = [ L[j] for j in [0,2,..,n-1] ]\n",
    "    O = [ L[j] for j in [1,3,..,n-1] ]\n",
    "    return E,O"
   ]
  },
  {
   "cell_type": "markdown",
   "metadata": {},
   "source": [
    "<p><strong>Exercise:</strong> Execute <b>step-by-step</b> Cooley-Tukey algorithm to compute DFT of $(1,2,3,4)$.</p>\n",
    "<p>1. Construct the sequence and split it into its even and odd parts.</p>"
   ]
  },
  {
   "cell_type": "code",
   "execution_count": 13,
   "metadata": {},
   "outputs": [
    {
     "data": {
      "text/plain": [
       "e =  [1, 3] \n",
       "o =  [2, 4]"
      ]
     },
     "execution_count": 13,
     "metadata": {},
     "output_type": "execute_result"
    }
   ],
   "source": [
    "l = [1..4]\n",
    "e, o = split_list(l); print \"e = \", e, \"\\no = \", o"
   ]
  },
  {
   "cell_type": "markdown",
   "metadata": {},
   "source": [
    "<p>2. Split each part again.</p>"
   ]
  },
  {
   "cell_type": "code",
   "execution_count": 15,
   "metadata": {},
   "outputs": [
    {
     "data": {
      "text/plain": [
       "ee =  [1] \n",
       "eo =  [3]\n",
       "oe =  [2] \n",
       "pp =  [4]"
      ]
     },
     "execution_count": 15,
     "metadata": {},
     "output_type": "execute_result"
    }
   ],
   "source": [
    "ee, eo = split_list(e); print \"ee = \", ee, \"\\neo = \", eo\n",
    "oe, oo = split_list(o); print \"oe = \", oe, \"\\npp = \", oo"
   ]
  },
  {
   "cell_type": "markdown",
   "metadata": {},
   "source": [
    "<p>3. Compute the trivial Fourier transforms of all the singletons.</p>"
   ]
  },
  {
   "cell_type": "code",
   "execution_count": 16,
   "metadata": {},
   "outputs": [
    {
     "data": {
      "text/plain": []
     },
     "execution_count": 16,
     "metadata": {},
     "output_type": "execute_result"
    }
   ],
   "source": [
    "EE, EO, OE, OO = ee, eo, oe, oo"
   ]
  },
  {
   "cell_type": "markdown",
   "metadata": {},
   "source": [
    "<p>4. Combine the singletons into pairs of Fourier tranforms of 2-element sequences.</p>"
   ]
  },
  {
   "cell_type": "code",
   "execution_count": 17,
   "metadata": {},
   "outputs": [
    {
     "data": {
      "text/plain": [
       "E =  [4, -2]\n",
       "O =  [6, -2]"
      ]
     },
     "execution_count": 17,
     "metadata": {},
     "output_type": "execute_result"
    }
   ],
   "source": [
    "omega = root_of_unity(2, SR)\n",
    "E = [ EE[0] + omega^(-0)*EO[0] ] + [ EE[0] - omega^(-0)*EO[0] ]; print \"E = \", E\n",
    "O = [ OE[0] + omega^(-0)*OO[0] ] + [ OE[0] - omega^(-0)*OO[0] ]; print \"O = \", O"
   ]
  },
  {
   "cell_type": "markdown",
   "metadata": {},
   "source": [
    "<p>5. Combine the pairs into a final Fourier transform.</p>"
   ]
  },
  {
   "cell_type": "code",
   "execution_count": 18,
   "metadata": {},
   "outputs": [
    {
     "data": {
      "text/plain": [
       "L =  [10, 2*I - 2, -2, -2*I - 2]"
      ]
     },
     "execution_count": 18,
     "metadata": {},
     "output_type": "execute_result"
    }
   ],
   "source": [
    "omega = root_of_unity(4, SR)\n",
    "L = [ E[j] + omega^(-j)*O[j] for j in [0..1] ] + [ E[j] - omega^(-j)*O[j] for j in [0..1] ]\n",
    "print \"L = \", L"
   ]
  }
 ],
 "metadata": {
  "kernelspec": {
   "display_name": "SageMath 9.0",
   "language": "sage",
   "name": "sagemath"
  },
  "language": "python",
  "language_info": {
   "codemirror_mode": {
    "name": "ipython",
    "version": 3
   },
   "file_extension": ".py",
   "mimetype": "text/x-python",
   "name": "python",
   "nbconvert_exporter": "python",
   "pygments_lexer": "ipython3",
   "version": "3.7.6"
  }
 },
 "nbformat": 4,
 "nbformat_minor": 4
}
