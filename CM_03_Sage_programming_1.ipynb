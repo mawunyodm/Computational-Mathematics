{
 "cells": [
  {
   "cell_type": "markdown",
   "metadata": {},
   "source": [
    "<h1>Exercise Set 3: Sage programming (part 1)</h1>\n",
    "<p>CAS Sage uses a programming language called <a href=\"https://en.wikipedia.org/wiki/Python_(programming_language)\">Python</a>. The aim of this exercise set is to learn some elementary, basic programming in Python, needed for solving problems in Sage. There are lots of online materials on Python, for example:</p>\n",
    "<ul>\n",
    "<li><a href=\"http://www.tutorialspoint.com/python/index.htm\">http://www.tutorialspoint.com/python/index.htm</a></li>\n",
    "<li><a href=\"https://docs.python.org/2/contents.html\">https://docs.python.org/2/contents.html</a></li>\n",
    "</ul>\n",
    "<h2>Functions</h2>\n",
    "<p>A function (in programming sense) is defined as follows:</p>\n",
    "<pre><span style=\"font-family: courier new,courier;\">def <em><span style=\"color: #ff0000;\">name</span></em> ( <span style=\"color: #ff0000;\"><em>arguments</em></span> ) :</span><br />   <span style=\"color: #ff0000; font-family: courier new,courier;\"><em> body</em></span><br />   <span style=\"font-family: courier new,courier;\"> ...</span><br />   <span style=\"font-family: courier new,courier;\"> return </span><em><span style=\"color: #ff0000;\"><span style=\"font-family: courier new,courier;\">result</span></span></em></pre>\n",
    "<p>The indentations controls which part of the code is a function's body<span style=\"color: #000000;\"> (grrr...)!</span></p>\n",
    "<p><strong>Exercise:</strong></p>\n",
    "<ol>\n",
    "<li>How many prime numbers are smaller than 200? (<em>Hint</em>: use <span style=\"font-family: courier new,courier;\">len</span> and <span style=\"font-family: courier new,courier;\">prime_range</span>)</li>\n",
    "<li>Write a function, that returns the number of primes smaller than the absolute value of a given number (function's argument).</li>\n",
    "</ol>"
   ]
  },
  {
   "cell_type": "code",
   "execution_count": 4,
   "metadata": {},
   "outputs": [
    {
     "data": {
      "text/plain": [
       "46"
      ]
     },
     "execution_count": 4,
     "metadata": {},
     "output_type": "execute_result"
    }
   ],
   "source": [
    "len(prime_range(200))"
   ]
  },
  {
   "cell_type": "code",
   "execution_count": 5,
   "metadata": {},
   "outputs": [],
   "source": [
    "def num_of_primes( n ) :\n",
    "    \"\"\"\n",
    "    This function returns the number of primes smaller than the absolute value of `n`\n",
    "    \"\"\"\n",
    "    return len(prime_range(abs(n)))"
   ]
  },
  {
   "cell_type": "code",
   "execution_count": 6,
   "metadata": {},
   "outputs": [
    {
     "data": {
      "text/plain": [
       "46"
      ]
     },
     "execution_count": 6,
     "metadata": {},
     "output_type": "execute_result"
    }
   ],
   "source": [
    "num_of_primes(200)"
   ]
  },
  {
   "cell_type": "markdown",
   "metadata": {},
   "source": [
    "<p><strong>Exercise:</strong> Write a function that takes an integer $n$ and returns a list of powers of two: $2^0, 2^1, \\dotsc, 2^n$.</p>"
   ]
  },
  {
   "cell_type": "code",
   "execution_count": 7,
   "metadata": {},
   "outputs": [],
   "source": [
    "def powers_of_2( n ) :\n",
    "    \"\"\"\n",
    "    This function constructs powers `2^0, 2^1,\\\\dotsc, 2^n`\n",
    "    \"\"\"\n",
    "    L = [ 2^j for j in [0..n] ]\n",
    "    return L"
   ]
  },
  {
   "cell_type": "code",
   "execution_count": 8,
   "metadata": {},
   "outputs": [
    {
     "data": {
      "text/plain": [
       "[1, 2, 4, 8, 16, 32, 64, 128, 256, 512, 1024]"
      ]
     },
     "execution_count": 8,
     "metadata": {},
     "output_type": "execute_result"
    }
   ],
   "source": [
    "powers_of_2(10)"
   ]
  },
  {
   "cell_type": "markdown",
   "metadata": {},
   "source": [
    "<p><span style=\"color: #3366ff;\">Directly after opening a function's body (i.e. next line after <span style=\"font-family: 'courier new',courier;\">def</span>) one may include the description of the function encapsulated in triple quation marks. This description will be then available in Sage help system, when <span style=\"font-family: 'courier new',courier;\">Tab</span> key is pressed after the opening parenthesis of the function.</span></p>\n",
    "<p><strong>Exercise:</strong> write a function that takes a list $L$ as its input, and outputs two list $E$ and $O$, where $E$ consists of those elements of $L$ that have even indices, while $O$ oth those with odd indices.</p>"
   ]
  },
  {
   "cell_type": "code",
   "execution_count": 9,
   "metadata": {},
   "outputs": [],
   "source": [
    "def split_list( L ) :\n",
    "    \"\"\"\n",
    "    This function returns lists E and O, consisting of those elements of L, \\\n",
    "    that have even and odd indices, repsectively.\n",
    "    \"\"\"\n",
    "    n = len(L)\n",
    "    E = [ L[j] for j in [0,2,..,n-1] ]\n",
    "    O = [ L[j] for j in [1,3,..,n-1] ]\n",
    "    return E,O"
   ]
  },
  {
   "cell_type": "code",
   "execution_count": 10,
   "metadata": {},
   "outputs": [],
   "source": [
    "# alternative solution\n",
    "\n",
    "def split_list( L ) :\n",
    "    \"\"\"\n",
    "    Thise function returns lists E and O, consisting of those elements of L, \\\n",
    "    that have even and odd indices, repsectively.\n",
    "    \"\"\"\n",
    "    return L[::2], L[1::2]"
   ]
  },
  {
   "cell_type": "code",
   "execution_count": 12,
   "metadata": {},
   "outputs": [
    {
     "name": "stdout",
     "output_type": "stream",
     "text": [
      "[1, 2, 4, 8, 16, 32, 64, 128, 256, 512, 1024]\n"
     ]
    },
    {
     "data": {
      "text/plain": [
       "([1, 4, 16, 64, 256, 1024], [2, 8, 32, 128, 512])"
      ]
     },
     "execution_count": 12,
     "metadata": {},
     "output_type": "execute_result"
    }
   ],
   "source": [
    "L = powers_of_2(10); print(L)\n",
    "split_list(L)"
   ]
  },
  {
   "cell_type": "markdown",
   "metadata": {},
   "source": [
    "<p><span style=\"background-color: #ffffff;\">In Sage one defines polynomials in the following manner:</span></p>\n",
    "<ol>\n",
    "<li><span style=\"background-color: #ffffff;\">Define the polynomial ring, syntax: <span style=\"font-family: courier new,courier;\"><span style=\"color: #ff0000;\"><em>name</em></span>.<<span style=\"color: #ff0000;\"><em>variable</em></span>> = <span style=\"color: #ff0000;\"><em>ring_of_coeffs</em></span>[]</span></span></li>\n",
    "<li><span style=\"background-color: #ffffff;\">Define the actual polynomial.</span></li>\n",
    "</ol>\n",
    "<p><strong>Exercise:</strong> Try the following commands.</p>"
   ]
  },
  {
   "cell_type": "code",
   "execution_count": 13,
   "metadata": {},
   "outputs": [
    {
     "name": "stdout",
     "output_type": "stream",
     "text": [
      "An error occurred.\n",
      "Latex error\n"
     ]
    }
   ],
   "source": [
    "P.<x> = QQ[]\n",
    "f = 1 + 2*x + 3*x^2 + 4*x^3; view(\"f = \" + latex(f))"
   ]
  },
  {
   "cell_type": "code",
   "execution_count": 14,
   "metadata": {},
   "outputs": [
    {
     "name": "stdout",
     "output_type": "stream",
     "text": [
      "An error occurred.\n",
      "Latex error\n"
     ]
    }
   ],
   "source": [
    "g = P([1,2,4,8]); view(\"g = \" + latex(g))"
   ]
  },
  {
   "cell_type": "markdown",
   "metadata": {},
   "source": [
    "<p><strong>Exercise:</strong></p>\n",
    "<ol>\n",
    "<li>Compute (by hand) the derivative of the above polynomial $f$.</li>\n",
    "<li>Compute it in Sage, constructing a list of coefficients of $f'$.</li>\n",
    "<li>Verify the results - us the built-in method <span style=\"font-family: courier new,courier;\">derivative</span>.</li>\n",
    "<li>Write your own function computing the derivative of a polynomial.</li>\n",
    "</ol>"
   ]
  },
  {
   "cell_type": "code",
   "execution_count": 16,
   "metadata": {},
   "outputs": [
    {
     "data": {
      "text/html": [
       "<html><script type=\"math/tex; mode=display\">\\newcommand{\\Bold}[1]{\\mathbf{#1}}f' = 12 x^{2} + 6 x + 2</script></html>"
      ],
      "text/plain": [
       "f' = 12 x^{2} + 6 x + 2"
      ]
     },
     "metadata": {},
     "output_type": "display_data"
    }
   ],
   "source": [
    "fp = P([ j*f[j] for j in [1..3] ]); show(\"f' = \" + latex(fp))"
   ]
  },
  {
   "cell_type": "code",
   "execution_count": 17,
   "metadata": {},
   "outputs": [
    {
     "data": {
      "text/plain": [
       "12*x^2 + 6*x + 2"
      ]
     },
     "execution_count": 17,
     "metadata": {},
     "output_type": "execute_result"
    }
   ],
   "source": [
    "f.derivative()"
   ]
  },
  {
   "cell_type": "code",
   "execution_count": 18,
   "metadata": {},
   "outputs": [],
   "source": [
    "def my_derivative( f ) :\n",
    "    \"\"\"\n",
    "    This function computes the derivative `f'` of a given polynomial `f`.\n",
    "    \"\"\"\n",
    "    P = f.parent()\n",
    "    return P([ j*f[j] for j in [1..f.degree()] ])"
   ]
  },
  {
   "cell_type": "code",
   "execution_count": 19,
   "metadata": {},
   "outputs": [
    {
     "data": {
      "text/plain": [
       "12*x^2 + 6*x + 2"
      ]
     },
     "execution_count": 19,
     "metadata": {},
     "output_type": "execute_result"
    }
   ],
   "source": [
    "my_derivative(f)"
   ]
  },
  {
   "cell_type": "markdown",
   "metadata": {},
   "source": [
    "<p>The conditional statement in Python has the following syntax. Short form:</p>\n",
    "<pre><span style=\"font-family: courier new,courier;\">if <span style=\"color: #ff0000;\"><em>condition</em></span> :</span><br />    <span style=\"color: #ff0000;\"><em><span style=\"font-family: courier new,courier;\">body1</span><br /></em></span></pre>\n",
    "<p>extended version:<strong><br /></strong></p>\n",
    "<pre><span style=\"font-family: courier new,courier;\">if <span style=\"color: #ff0000;\"><em>condition</em></span> :</span><br />   <span style=\"color: #ff0000; font-family: courier new,courier;\"> <em>body1</em></span><strong><span style=\"color: #ff0000; font-family: courier new,courier;\"><em><br /></em></span></strong><span style=\"color: #ff0000; font-family: courier new,courier;\"><span style=\"color: #ff0000;\"><span style=\"color: #000000;\">else :</span><em><br />   </em></span></span><span style=\"color: #ff0000; font-family: courier new,courier;\"><span style=\"color: #ff0000;\"><em>body2</em></span></span><strong><span style=\"color: #ff0000; font-family: courier new,courier;\"><span style=\"color: #ff0000;\"><em><br /></em></span></span></strong></pre>\n",
    "<p><span style=\"color: #000000;\">Body1 is executed if and only if the condition is satsified and body2 iff the condition is not satisfied.</span></p>\n",
    "<p><strong>Exercise:</strong> Write a function that takes a real number $x$ and returns the smallest even number $n$ such that $n \\geq x$.</p>"
   ]
  },
  {
   "cell_type": "code",
   "execution_count": 20,
   "metadata": {},
   "outputs": [],
   "source": [
    "def next_even( x ) :\n",
    "    \"\"\"\n",
    "    This function returns the smallest integer `\\\\geq n`\n",
    "    \"\"\"\n",
    "    # round n up to an integer\n",
    "    n_ = ceil(x)\n",
    "    # check the parity\n",
    "    if is_even( n_ ) :\n",
    "        return n_\n",
    "    return n_ + 1"
   ]
  },
  {
   "cell_type": "code",
   "execution_count": 21,
   "metadata": {},
   "outputs": [
    {
     "data": {
      "text/plain": [
       "12"
      ]
     },
     "execution_count": 21,
     "metadata": {},
     "output_type": "execute_result"
    }
   ],
   "source": [
    "next_even( 11 )"
   ]
  },
  {
   "cell_type": "code",
   "execution_count": 22,
   "metadata": {},
   "outputs": [
    {
     "data": {
      "text/plain": [
       "8"
      ]
     },
     "execution_count": 22,
     "metadata": {},
     "output_type": "execute_result"
    }
   ],
   "source": [
    "next_even( 8 )"
   ]
  },
  {
   "cell_type": "code",
   "execution_count": 23,
   "metadata": {},
   "outputs": [
    {
     "data": {
      "text/plain": [
       "4"
      ]
     },
     "execution_count": 23,
     "metadata": {},
     "output_type": "execute_result"
    }
   ],
   "source": [
    "next_even( 11/3 )"
   ]
  },
  {
   "cell_type": "markdown",
   "metadata": {},
   "source": [
    "<p><strong>Exercise:</strong> Compute $\\gcd(2035, 481)$, step by step, using Sage just as a big calculator.</p>"
   ]
  },
  {
   "cell_type": "code",
   "execution_count": 24,
   "metadata": {},
   "outputs": [
    {
     "data": {
      "text/html": [
       "<html><script type=\"math/tex; mode=display\">\\newcommand{\\Bold}[1]{\\mathbf{#1}}a = 2035 ,\\quad b = 481</script></html>"
      ],
      "text/plain": [
       "a = 2035 ,\\quad b = 481"
      ]
     },
     "metadata": {},
     "output_type": "display_data"
    }
   ],
   "source": [
    "a, b = 2035, 481; show(\"a = \" + latex(a) + \",\\\\quad b = \" + latex(b))"
   ]
  },
  {
   "cell_type": "code",
   "execution_count": 25,
   "metadata": {},
   "outputs": [
    {
     "data": {
      "text/html": [
       "<html><script type=\"math/tex; mode=display\">\\newcommand{\\Bold}[1]{\\mathbf{#1}}r = 111</script></html>"
      ],
      "text/plain": [
       "r = 111"
      ]
     },
     "metadata": {},
     "output_type": "display_data"
    },
    {
     "data": {
      "text/html": [
       "<html><script type=\"math/tex; mode=display\">\\newcommand{\\Bold}[1]{\\mathbf{#1}}a = 481 ,\\quad b = 111</script></html>"
      ],
      "text/plain": [
       "a = 481 ,\\quad b = 111"
      ]
     },
     "metadata": {},
     "output_type": "display_data"
    }
   ],
   "source": [
    "r = a.mod(b); show(\"r = \" + latex(r))\n",
    "a, b = b, r; show(\"a = \" + latex(a) + \",\\\\quad b = \" + latex(b))"
   ]
  },
  {
   "cell_type": "code",
   "execution_count": 17,
   "metadata": {},
   "outputs": [
    {
     "data": {
      "text/plain": [
       "\n"
      ]
     },
     "execution_count": 17,
     "metadata": {},
     "output_type": "execute_result"
    }
   ],
   "source": [
    "r = a.mod(b); show(\"r = \" + latex(r))\n",
    "a, b = b, r; show(\"a = \" + latex(a) + \",\\\\quad b = \" + latex(b))"
   ]
  },
  {
   "cell_type": "code",
   "execution_count": 26,
   "metadata": {},
   "outputs": [
    {
     "data": {
      "text/html": [
       "<html><script type=\"math/tex; mode=display\">\\newcommand{\\Bold}[1]{\\mathbf{#1}}r = 37</script></html>"
      ],
      "text/plain": [
       "r = 37"
      ]
     },
     "metadata": {},
     "output_type": "display_data"
    },
    {
     "data": {
      "text/html": [
       "<html><script type=\"math/tex; mode=display\">\\newcommand{\\Bold}[1]{\\mathbf{#1}}a = 111 ,\\quad b = 37</script></html>"
      ],
      "text/plain": [
       "a = 111 ,\\quad b = 37"
      ]
     },
     "metadata": {},
     "output_type": "display_data"
    }
   ],
   "source": [
    "r = a.mod(b); show(\"r = \" + latex(r))\n",
    "a, b = b, r; show(\"a = \" + latex(a) + \",\\\\quad b = \" + latex(b))"
   ]
  },
  {
   "cell_type": "code",
   "execution_count": 27,
   "metadata": {},
   "outputs": [
    {
     "data": {
      "text/html": [
       "<html><script type=\"math/tex; mode=display\">\\newcommand{\\Bold}[1]{\\mathbf{#1}}\\gcd(2035, 481) = 111</script></html>"
      ],
      "text/plain": [
       "\\gcd(2035, 481) = 111"
      ]
     },
     "metadata": {},
     "output_type": "display_data"
    }
   ],
   "source": [
    "show(\"\\\\gcd(2035, 481) = \" + latex(a))"
   ]
  },
  {
   "cell_type": "code",
   "execution_count": 28,
   "metadata": {},
   "outputs": [
    {
     "data": {
      "text/plain": [
       "37"
      ]
     },
     "execution_count": 28,
     "metadata": {},
     "output_type": "execute_result"
    }
   ],
   "source": [
    "# verification\n",
    "gcd(2035, 481)"
   ]
  },
  {
   "cell_type": "markdown",
   "metadata": {},
   "source": [
    "<p><span id=\"cell_outer_24\"><strong>Exercise:</strong> <span id=\"cell_outer_21\">Implement the recursive version of Euclid algorithm.</span></span></p>"
   ]
  },
  {
   "cell_type": "code",
   "execution_count": 21,
   "metadata": {},
   "outputs": [
    {
     "data": {
      "text/plain": []
     },
     "execution_count": 21,
     "metadata": {},
     "output_type": "execute_result"
    }
   ],
   "source": [
    "def GCD_r( n, m ) :\n",
    "    \"\"\"\n",
    "    This function computes the `\\\\gcd` of `n` and `m` using the recursive version of the Euclidean algorithm.\n",
    "    \"\"\"\n",
    "    # check if m divides n\n",
    "    if m.divides(n) :\n",
    "        # if so, then return |m|\n",
    "        return abs(m) if m in ZZ else m\n",
    "    # (return quits the functiion so we do not need else here)\n",
    "    # compute the remained r of n mod m\n",
    "    r = n.mod(m)\n",
    "    # use the recursive formula\n",
    "    return GCD_r(m, r)"
   ]
  },
  {
   "cell_type": "code",
   "execution_count": 23,
   "metadata": {},
   "outputs": [
    {
     "data": {
      "text/plain": [
       "37"
      ]
     },
     "execution_count": 23,
     "metadata": {},
     "output_type": "execute_result"
    }
   ],
   "source": [
    "# test it - previous example\n",
    "GCD_r(2035, 481)"
   ]
  },
  {
   "cell_type": "code",
   "execution_count": 24,
   "metadata": {},
   "outputs": [
    {
     "data": {
      "text/plain": [
       "True"
      ]
     },
     "execution_count": 24,
     "metadata": {},
     "output_type": "execute_result"
    }
   ],
   "source": [
    "# test it on 1000 random pair of integers\n",
    "L = [ (ZZ.random_element(), ZZ.random_element()) for j in range(1000) ]\n",
    "all( [ gcd(n,m) == GCD_r(n,m) for (n,m) in L ] )"
   ]
  },
  {
   "cell_type": "markdown",
   "metadata": {},
   "source": [
    "<p><strong>Definition:</strong> Two integers $n,m\\in \\mathbb{N}$ are called <em>amicable</em>, if the sum of <span style=\"text-decoration: underline;\">proper</span> divisors (i.e. divisors $\\neq n$) of $n$ equals $m$ and the sum of <span style=\"text-decoration: underline;\">proper</span> divisors of $m$ equals $n$.</p>\n",
    "<p><em>Example:</em> Numbers 220, 284 are amicable.</p>\n",
    "<p><strong>Exercise:</strong> Write a function that checks if two integers are amicable.</p>"
   ]
  },
  {
   "cell_type": "code",
   "execution_count": 78,
   "metadata": {},
   "outputs": [
    {
     "data": {
      "text/plain": []
     },
     "execution_count": 78,
     "metadata": {},
     "output_type": "execute_result"
    }
   ],
   "source": [
    "def are_amicable(n, m):\n",
    "    \"\"\"\n",
    "    This function checks whether `n` and `m` are amicable.\n",
    "    \"\"\"\n",
    "    # compute all proper divisors of n\n",
    "    dn = [ k for k in n.divisors() if k < n ]\n",
    "    # if the sum != m we are done\n",
    "    if sum(dn) != m :\n",
    "        return false\n",
    "    # otherwise compute all proper divisors of m\n",
    "    dm = [ k for k in m.divisors() if k < m ]\n",
    "    # return the result\n",
    "    return sum(dm) == n"
   ]
  },
  {
   "cell_type": "code",
   "execution_count": 79,
   "metadata": {},
   "outputs": [
    {
     "data": {
      "text/plain": [
       "True\n",
       "True"
      ]
     },
     "execution_count": 79,
     "metadata": {},
     "output_type": "execute_result"
    }
   ],
   "source": [
    "# verification\n",
    "print are_amicable(220, 284)\n",
    "print are_amicable(100485, 124155)"
   ]
  },
  {
   "cell_type": "code",
   "execution_count": 80,
   "metadata": {},
   "outputs": [
    {
     "data": {
      "text/plain": []
     },
     "execution_count": 80,
     "metadata": {},
     "output_type": "execute_result"
    }
   ],
   "source": []
  }
 ],
 "metadata": {
  "kernelspec": {
   "display_name": "SageMath 9.0",
   "language": "sage",
   "name": "sagemath"
  },
  "language": "python",
  "language_info": {
   "codemirror_mode": {
    "name": "ipython",
    "version": 3
   },
   "file_extension": ".py",
   "mimetype": "text/x-python",
   "name": "python",
   "nbconvert_exporter": "python",
   "pygments_lexer": "ipython3",
   "version": "3.7.6"
  }
 },
 "nbformat": 4,
 "nbformat_minor": 4
}
