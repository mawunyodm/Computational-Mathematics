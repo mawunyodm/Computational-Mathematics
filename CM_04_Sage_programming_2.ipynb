{
 "cells": [
  {
   "cell_type": "markdown",
   "metadata": {},
   "source": [
    "<h1>Exercise Set 4: Sage programming (part 2)</h1>\n",
    "<p>Python/Sage offers two loops. They basic syntax is</p>\n",
    "<pre>for <span style=\"color: #ff0000;\"><em>variable</em></span> in <em><span style=\"color: #ff0000;\">list</span></em> :</pre>\n",
    "<pre>    <span style=\"color: #ff0000;\"><em>body</em></span></pre>\n",
    "<p>and</p>\n",
    "<pre>while <span style=\"color: #ff0000;\"><em>condition</em></span> :</pre>\n",
    "<pre>    <span style=\"color: #ff0000;\"><em>body</em></span></pre>\n",
    "<p><strong><strong>Exercise:</strong></strong> Implement Horner's algorithm for evaluating a polynomial at some point.</p>"
   ]
  },
  {
   "cell_type": "code",
   "execution_count": 62,
   "metadata": {},
   "outputs": [
    {
     "data": {
      "text/plain": []
     },
     "execution_count": 62,
     "metadata": {},
     "output_type": "execute_result"
    }
   ],
   "source": [
    "def Horner(f, a) :\n",
    "    \"\"\"\n",
    "    This function evaluates `f(a)` using Horner rule.\n",
    "    \n",
    "    INPUT::\n",
    "        \n",
    "        - `f` a polynomial\n",
    "        - `a` point of evaluation\n",
    "    \"\"\"\n",
    "    # we will acumulate the result in a variable fa\n",
    "    # start from the leading coefficient of f\n",
    "    fa = f.leading_coefficient()\n",
    "    # main loop\n",
    "    for j in [ f.degree()-1, f.degree()-2..0 ] :\n",
    "        # multiply the accumulated value by a and add the j-th coefficient of f\n",
    "        fa = f[j] + a*fa\n",
    "    # return the result\n",
    "    return fa"
   ]
  },
  {
   "cell_type": "code",
   "execution_count": 64,
   "metadata": {},
   "outputs": [
    {
     "data": {
      "text/plain": [
       "\n",
       "\n"
      ]
     },
     "execution_count": 64,
     "metadata": {},
     "output_type": "execute_result"
    }
   ],
   "source": [
    "# test it\n",
    "P.<x> = QQ[]\n",
    "f = (1 - x)*(3 + 2*x - 4*x^3 + 7*x^11); view(\"f = \" + latex(f))\n",
    "f1 = Horner(f,1); view(\"f(1) = \" + latex(f1) + \": \" + latex(f1 == f(1)))\n",
    "f7 = Horner(f,7); view(\"f(7) = \" + latex(f7) + \": \" + latex(f7 == f(7)))"
   ]
  },
  {
   "cell_type": "markdown",
   "metadata": {},
   "source": [
    "<p><span id=\"cell_outer_0\"><strong><strong>Exercise:</strong></strong> Implement the iterative version of Euclid algorithm.</span></p>"
   ]
  },
  {
   "cell_type": "code",
   "execution_count": 42,
   "metadata": {},
   "outputs": [
    {
     "data": {
      "text/plain": []
     },
     "execution_count": 42,
     "metadata": {},
     "output_type": "execute_result"
    }
   ],
   "source": [
    "def GCD_i( n, m ) :\n",
    "    \"\"\"\n",
    "    This function computes the `\\\\gcd(n,m)` using the iterative version of Euclid algorithm.\n",
    "    \"\"\"\n",
    "    # as long as m ≠ 0\n",
    "    while m != 0 :\n",
    "        # compute the remainder r of n mod m\n",
    "        r = n.mod(m)\n",
    "        # substitute: n ← m and m ← r\n",
    "        n, m = m, r\n",
    "    # return the result\n",
    "    return abs(n) if n in ZZ else n"
   ]
  },
  {
   "cell_type": "code",
   "execution_count": 44,
   "metadata": {},
   "outputs": [
    {
     "data": {
      "text/plain": [
       "True"
      ]
     },
     "execution_count": 44,
     "metadata": {},
     "output_type": "execute_result"
    }
   ],
   "source": [
    "# test it on 1000 random pairs of integers\n",
    "L = [ (ZZ.random_element(), ZZ.random_element()) for j in range(1000) ]\n",
    "all( [ gcd(n,m) == GCD_i(n,m) for (n,m) in L ] )"
   ]
  },
  {
   "cell_type": "markdown",
   "metadata": {},
   "source": [
    "<div id=\"cell_text_41\" class=\"text_cell\">\n",
    "<p><a href=\"https://en.wikipedia.org/wiki/Sieve_of_Eratosthenes\">Sieve of Eratosthenes</a> is an algorithm that finds primes in $\\{2,\\dotsc, n\\}$. It works as follows:</p>\n",
    "<ol>\n",
    "<li>Construct a list $S$ of all integers from $2$ to $n$;</li>\n",
    "<li>append the first element of $S$ to the list of primes;</li>\n",
    "<li>remove from $S$ all multiplicities of its first element (including itself);</li>\n",
    "<li>if $S$ is not empty, then repeat steps 2-4.</li>\n",
    "</ol>\n",
    "<p><strong>Exercise:</strong> Implement the described algorithm.</p>\n",
    "</div>"
   ]
  },
  {
   "cell_type": "code",
   "execution_count": 66,
   "metadata": {},
   "outputs": [
    {
     "data": {
      "text/plain": []
     },
     "execution_count": 66,
     "metadata": {},
     "output_type": "execute_result"
    }
   ],
   "source": [
    "def sieve( n ) :\n",
    "    \"\"\"\n",
    "    This function finds all primes `\\\\leq n` using sieve of Erathostenes.\n",
    "    \"\"\"\n",
    "    assert n in ZZ, \"The argument must be an integer!\"\n",
    "    assert n >= 2, \"The argument must be >= 2.\"\n",
    "\n",
    "    # construct a list S\n",
    "    S = [2..n]\n",
    "    # initialize the list of primes\n",
    "    P = []\n",
    "    # repeat as long as S≠∅\n",
    "    while S :\n",
    "        # append the first element of S to the list of primes\n",
    "        p = S[0]\n",
    "        P.append(p)\n",
    "        # remove all multiplicities of p from S\n",
    "        S = [k for k in S if not p.divides(k)]\n",
    "    # return the resulting list P\n",
    "    return P"
   ]
  },
  {
   "cell_type": "code",
   "execution_count": 67,
   "metadata": {},
   "outputs": [
    {
     "data": {
      "text/plain": [
       "[2, 3, 5, 7, 11, 13, 17, 19, 23, 29, 31, 37, 41, 43, 47, 53, 59, 61, 67, 71, 73, 79, 83, 89, 97]\n",
       "True"
      ]
     },
     "execution_count": 67,
     "metadata": {},
     "output_type": "execute_result"
    }
   ],
   "source": [
    "# test it\n",
    "S =  sieve(100)\n",
    "print S\n",
    "print S == prime_range(100)"
   ]
  },
  {
   "cell_type": "markdown",
   "metadata": {},
   "source": [
    "<p><strong>Exercise:</strong> Write a function that constructs all permutations of a given list.</p>"
   ]
  },
  {
   "cell_type": "code",
   "execution_count": 68,
   "metadata": {},
   "outputs": [
    {
     "data": {
      "text/plain": []
     },
     "execution_count": 68,
     "metadata": {},
     "output_type": "execute_result"
    }
   ],
   "source": [
    "def permutations( L ) : \n",
    "    \"\"\"\n",
    "    This function constructs all the permutations of the list `L`\n",
    "    \"\"\"\n",
    "    # store the length of L\n",
    "    n = len(L)\n",
    "    # empty lists and singletons are obvious\n",
    "    if n <= 1 :\n",
    "        return [ L ]\n",
    "    # recursively  permute L shortened by 1 element\n",
    "    P = permutations( L[:n-1] )\n",
    "    return [ M[:k] + [ L[n-1] ] + M[k:] for M in P for k in [0..n-1] ]"
   ]
  },
  {
   "cell_type": "code",
   "execution_count": 69,
   "metadata": {},
   "outputs": [
    {
     "data": {
      "text/plain": [
       "[[4, 3, 2, 1], [3, 4, 2, 1], [3, 2, 4, 1], [3, 2, 1, 4], [4, 2, 3, 1], [2, 4, 3, 1], [2, 3, 4, 1], [2, 3, 1, 4], [4, 2, 1, 3], [2, 4, 1, 3], [2, 1, 4, 3], [2, 1, 3, 4], [4, 3, 1, 2], [3, 4, 1, 2], [3, 1, 4, 2], [3, 1, 2, 4], [4, 1, 3, 2], [1, 4, 3, 2], [1, 3, 4, 2], [1, 3, 2, 4], [4, 1, 2, 3], [1, 4, 2, 3], [1, 2, 4, 3], [1, 2, 3, 4]]"
      ]
     },
     "execution_count": 69,
     "metadata": {},
     "output_type": "execute_result"
    }
   ],
   "source": [
    "print permutations([1..4])"
   ]
  },
  {
   "cell_type": "markdown",
   "metadata": {},
   "source": [
    "<p><strong>Zadanie:</strong> Compute (step by step) Bezout's coefficients for 2035 i 481 using Extended Euclidean algorithm.</p>"
   ]
  },
  {
   "cell_type": "code",
   "execution_count": 45,
   "metadata": {},
   "outputs": [
    {
     "data": {
      "text/plain": [
       "\n"
      ]
     },
     "execution_count": 45,
     "metadata": {},
     "output_type": "execute_result"
    }
   ],
   "source": [
    "a, b = 2035, 481; view(\"a = \" + latex(a) + \",\\\\quad b = \" + latex(b))\n",
    "alpha, alpha1 = 1, 0\n",
    "beta, beta1 = 0, 1\n",
    "view(\"\\\\alpha = \" + latex(alpha) + \",\\\\quad \\\\beta = \" + latex(beta))"
   ]
  },
  {
   "cell_type": "code",
   "execution_count": 47,
   "metadata": {},
   "outputs": [
    {
     "data": {
      "text/plain": [
       "\n",
       "\n"
      ]
     },
     "execution_count": 47,
     "metadata": {},
     "output_type": "execute_result"
    }
   ],
   "source": [
    "q, r = a.quo_rem(b); view(\"q = \" + latex(q) + \",\\\\quad r = \" + latex(r))\n",
    "a, b = b, r; view(\"a = \" + latex(a) + \",\\\\quad b = \" + latex(b))\n",
    "alpha, alpha1 = alpha1, alpha - q*alpha1\n",
    "beta, beta1 = beta1, beta - q*beta1\n",
    "view(\"\\\\alpha = \" + latex(alpha) + \",\\\\quad \\\\beta = \" + latex(beta))"
   ]
  },
  {
   "cell_type": "code",
   "execution_count": 48,
   "metadata": {},
   "outputs": [
    {
     "data": {
      "text/plain": [
       "\n",
       "\n"
      ]
     },
     "execution_count": 48,
     "metadata": {},
     "output_type": "execute_result"
    }
   ],
   "source": [
    "q, r = a.quo_rem(b); view(\"q = \" + latex(q) + \",\\\\quad r = \" + latex(r))\n",
    "a, b = b, r; view(\"a = \" + latex(a) + \",\\\\quad b = \" + latex(b))\n",
    "alpha, alpha1 = alpha1, alpha - q*alpha1\n",
    "beta, beta1 = beta1, beta - q*beta1\n",
    "view(\"\\\\alpha = \" + latex(alpha) + \",\\\\quad \\\\beta = \" + latex(beta))"
   ]
  },
  {
   "cell_type": "code",
   "execution_count": 49,
   "metadata": {},
   "outputs": [
    {
     "data": {
      "text/plain": [
       "\n",
       "\n"
      ]
     },
     "execution_count": 49,
     "metadata": {},
     "output_type": "execute_result"
    }
   ],
   "source": [
    "q, r = a.quo_rem(b); view(\"q = \" + latex(q) + \",\\\\quad r = \" + latex(r))\n",
    "a, b = b, r; view(\"a = \" + latex(a) + \",\\\\quad b = \" + latex(b))\n",
    "alpha, alpha1 = alpha1, alpha - q*alpha1\n",
    "beta, beta1 = beta1, beta - q*beta1\n",
    "view(\"\\\\alpha = \" + latex(alpha) + \",\\\\quad \\\\beta = \" + latex(beta))"
   ]
  },
  {
   "cell_type": "code",
   "execution_count": 50,
   "metadata": {},
   "outputs": [
    {
     "data": {
      "text/plain": [
       "37"
      ]
     },
     "execution_count": 50,
     "metadata": {},
     "output_type": "execute_result"
    }
   ],
   "source": [
    "# verification\n",
    "2035*alpha + 481*beta"
   ]
  },
  {
   "cell_type": "markdown",
   "metadata": {},
   "source": [
    "<p><strong>Exercise:</strong> Implement extended Euclidean algorithm.</p>"
   ]
  },
  {
   "cell_type": "code",
   "execution_count": 51,
   "metadata": {},
   "outputs": [
    {
     "data": {
      "text/plain": []
     },
     "execution_count": 51,
     "metadata": {},
     "output_type": "execute_result"
    }
   ],
   "source": [
    "def GCD_ex( n, m ) :\n",
    "    \"\"\"\n",
    "    Extended Euclidean algorithm\n",
    "    \n",
    "    INPUT:\n",
    "        \n",
    "         - `n`, `m` two integers\n",
    "    \n",
    "    OUTPUT:\n",
    "        \n",
    "        - `g = \\\\gcd(n, m)`\n",
    "        \n",
    "        - `\\\\alpha`, `\\\\beta` such that `\\\\alpha\\\\cdot n + \\\\beta\\\\cdot m = \\\\gcd(n,m)`\n",
    "    \"\"\"\n",
    "    \n",
    "    # initialization\n",
    "    alpha, alpha_ = 1, 0\n",
    "    beta, beta_ = 0, 1\n",
    "    # reapat as long as m ≠ 0\n",
    "    while m != 0 :\n",
    "        # compute the quotient q and remainder r of n modulo m\n",
    "        q, r = n.quo_rem(m)\n",
    "        # substitute: n <- m and m <- r\n",
    "        n, m = m, r\n",
    "        # substitute alpha's and beta's\n",
    "        alpha, alpha_ = alpha_, alpha - q*alpha_\n",
    "        beta, beta_ = beta_, beta - q*beta_\n",
    "    # the result\n",
    "    return abs(n), sign(n)*alpha, sign(n)*beta"
   ]
  },
  {
   "cell_type": "code",
   "execution_count": 53,
   "metadata": {},
   "outputs": [
    {
     "data": {
      "text/plain": [
       "gcd(2035, -481) =  37\n",
       "37"
      ]
     },
     "execution_count": 53,
     "metadata": {},
     "output_type": "execute_result"
    }
   ],
   "source": [
    "# test it\n",
    "g, alpha, beta = GCD_ex(2035, -481); print \"gcd(2035, -481) = \", g\n",
    "alpha*2035 - beta*481"
   ]
  },
  {
   "cell_type": "code",
   "execution_count": 70,
   "metadata": {},
   "outputs": [
    {
     "data": {
      "text/plain": []
     },
     "execution_count": 70,
     "metadata": {},
     "output_type": "execute_result"
    }
   ],
   "source": []
  }
 ],
 "metadata": {
  "kernelspec": {
   "display_name": "SageMath 9.0",
   "language": "sage",
   "name": "sagemath"
  },
  "language": "python",
  "language_info": {
   "codemirror_mode": {
    "name": "ipython",
    "version": 3
   },
   "file_extension": ".py",
   "mimetype": "text/x-python",
   "name": "python",
   "nbconvert_exporter": "python",
   "pygments_lexer": "ipython3",
   "version": "3.7.6"
  }
 },
 "nbformat": 4,
 "nbformat_minor": 4
}
