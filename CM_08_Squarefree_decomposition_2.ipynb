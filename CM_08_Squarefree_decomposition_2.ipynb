{
 "cells": [
  {
   "cell_type": "markdown",
   "metadata": {},
   "source": [
    "<h1>Square-free decomposition (part 2)</h1>\n",
    "<h2>Partial fraction decomposition</h2>"
   ]
  },
  {
   "cell_type": "code",
   "execution_count": 1,
   "metadata": {
    "jupyter": {
     "source_hidden": true
    }
   },
   "outputs": [],
   "source": [
    "\n",
    "def is_square_free( f ) :\n",
    "    \"\"\"\n",
    "    This function checks if the polynomial `f` is square-free.\n",
    "    \"\"\"\n",
    "    return gcd( f, f.derivative() ) == 1\n",
    "    \n",
    "def rad( f ) :\n",
    "    \"\"\"\n",
    "    This function computes the radical of `f`.\n",
    "    \"\"\"\n",
    "    # find the ring of polynomials\n",
    "    P = f.parent()\n",
    "    # return the radical\n",
    "    return P(f/gcd(f,f.derivative()))\n",
    "    \n",
    "def square_free_decomposition( f, omit_trivial_factors = true ) :\n",
    "    \"\"\"\n",
    "    This function takes a polynomial f and returns its square-free \n",
    "    decomposition computed using Tobey-Horowitz algorithm.\n",
    "    The additional parameter omit_trivial_factors constrols whether factors = 1\n",
    "    should be omitted (default) or not.\n",
    "    \"\"\"\n",
    "    # The base ring must be a field of characteristic zero\n",
    "    assert f.base_ring().characteristic() == 0, \"The characteristic must be zero!\"\n",
    "    assert f.base_ring().is_field(), \"The base ring must be a field!\"\n",
    "\n",
    "    # Store the ring of polys in P\n",
    "    P = f.parent()\n",
    "    # normalize f\n",
    "    lcf = f.leading_coefficient()\n",
    "    f = f.monic()\n",
    "    # compute a0, a1 and b1\n",
    "    a0 = f\n",
    "    a1 = gcd(a0, a0.derivative())\n",
    "    b1 = P( a0/a1 )\n",
    "    # the list of square-free factors\n",
    "    G = []\n",
    "    # the counter\n",
    "    j = 1\n",
    "    # main loop\n",
    "    while b1 != 1 :\n",
    "        # compute next aj\n",
    "        a0 = a1\n",
    "        a1 = gcd(a0, a0.derivative()) \n",
    "        # compute next bj\n",
    "        b2 =  P(a0/a1)\n",
    "        # compute a square-free factor...\n",
    "        gj = P(b1/b2)\n",
    "        # ...and append it to G\n",
    "        if gj != 1 or not omit_trivial_factors :\n",
    "            G.append( (gj, j) )\n",
    "        # substitute bj by b_{j+1}\n",
    "        b1 = b2\n",
    "        # increment the counter\n",
    "        j += 1\n",
    "    return Factorization(G, unit = lcf, sort = false)"
   ]
  },
  {
   "cell_type": "markdown",
   "metadata": {},
   "source": [
    "<p><span style=\"color: #ff0000;\">The above hidden cell will execute automatically upon opening the worksheet. It contains the following functions from exercise set 7:</span></p>\n",
    "<ul>\n",
    "<li><span style=\"color: #ff0000; font-family: courier new,courier;\">is_square_free( f )</span></li>\n",
    "<li><span style=\"color: #ff0000; font-family: courier new,courier;\">rad( f )</span></li>\n",
    "<li><span style=\"color: #ff0000; font-family: courier new,courier;\">square_free_decomposition( f, omit_trivial_factors = true )</span></li>\n",
    "</ul>\n",
    "\n",
    "\n",
    "\n",
    "\n",
    "<p><strong>Exercise:</strong> Decompose the fraction $r = \\frac{7}{40}$ step by step.</p>\n",
    "<p>1) Define and display the fraction.</p>"
   ]
  },
  {
   "cell_type": "code",
   "execution_count": 20,
   "metadata": {},
   "outputs": [
    {
     "data": {
      "text/html": [
       "<html><script type=\"math/tex; mode=display\">\\newcommand{\\Bold}[1]{\\mathbf{#1}}\\frac{7}{40}</script></html>"
      ],
      "text/plain": [
       "7/40"
      ]
     },
     "metadata": {},
     "output_type": "display_data"
    }
   ],
   "source": [
    "r = 7/40; show(r)"
   ]
  },
  {
   "cell_type": "markdown",
   "metadata": {},
   "source": [
    "<p>2) Define the divisors $a = 8$, $b = 5$ of the denominator. Use the build-in implementation of the extended Euclidean algorithm (function <span style=\"font-family: courier new,courier;\">xgcd</span>) to compute the Bezout coefficients $\\alpha, \\beta$ s.t. $1 = GCD(a,b) = a\\cdot \\alpha + b\\cdot \\beta$.</p>"
   ]
  },
  {
   "cell_type": "code",
   "execution_count": 21,
   "metadata": {},
   "outputs": [
    {
     "data": {
      "text/html": [
       "<html><script type=\"math/tex; mode=display\">\\newcommand{\\Bold}[1]{\\mathbf{#1}}\\alpha = 2</script></html>"
      ],
      "text/plain": [
       "\\alpha = 2"
      ]
     },
     "metadata": {},
     "output_type": "display_data"
    },
    {
     "data": {
      "text/html": [
       "<html><script type=\"math/tex; mode=display\">\\newcommand{\\Bold}[1]{\\mathbf{#1}}\\beta = -3</script></html>"
      ],
      "text/plain": [
       "\\beta = -3"
      ]
     },
     "metadata": {},
     "output_type": "display_data"
    }
   ],
   "source": [
    "a = 8; b = 5\n",
    "_, alpha, beta = xgcd(a,b)\n",
    "show(\"\\\\alpha = \"+latex(alpha))\n",
    "show(\"\\\\beta = \"+latex(beta))"
   ]
  },
  {
   "cell_type": "code",
   "execution_count": 22,
   "metadata": {},
   "outputs": [
    {
     "data": {
      "text/plain": [
       "1"
      ]
     },
     "execution_count": 22,
     "metadata": {},
     "output_type": "execute_result"
    }
   ],
   "source": [
    "# test it\n",
    "a*alpha + b*beta"
   ]
  },
  {
   "cell_type": "markdown",
   "metadata": {},
   "source": [
    "<p>3) Decompose the fraction $r$ and display the result.</p>"
   ]
  },
  {
   "cell_type": "code",
   "execution_count": 23,
   "metadata": {},
   "outputs": [
    {
     "data": {
      "text/plain": [
       "7/40"
      ]
     },
     "execution_count": 23,
     "metadata": {},
     "output_type": "execute_result"
    }
   ],
   "source": [
    "r.numerator()*beta/a + r.numerator()*alpha/b"
   ]
  },
  {
   "cell_type": "code",
   "execution_count": 24,
   "metadata": {},
   "outputs": [
    {
     "data": {
      "text/html": [
       "<html><script type=\"math/tex; mode=display\">\\newcommand{\\Bold}[1]{\\mathbf{#1}}\\frac{7}{40} = -\\frac{21}{8} + \\frac{14}{5}</script></html>"
      ],
      "text/plain": [
       "\\frac{7}{40} = -\\frac{21}{8} + \\frac{14}{5}"
      ]
     },
     "metadata": {},
     "output_type": "display_data"
    }
   ],
   "source": [
    "show( latex(r) + \" = \" + latex(r.numerator()*beta/a) + \"+\" + latex(r.numerator()*alpha/b) )"
   ]
  },
  {
   "cell_type": "markdown",
   "metadata": {},
   "source": [
    "<p>4) Reduce the numerators modulo the denominators (preserve the signs).</p>"
   ]
  },
  {
   "cell_type": "code",
   "execution_count": 25,
   "metadata": {},
   "outputs": [
    {
     "data": {
      "text/html": [
       "<html><script type=\"math/tex; mode=display\">\\newcommand{\\Bold}[1]{\\mathbf{#1}}\\frac{7}{40} = -\\frac{5}{8} + \\frac{4}{5}</script></html>"
      ],
      "text/plain": [
       "\\frac{7}{40} = -\\frac{5}{8} + \\frac{4}{5}"
      ]
     },
     "metadata": {},
     "output_type": "display_data"
    },
    {
     "data": {
      "text/plain": [
       "True"
      ]
     },
     "execution_count": 25,
     "metadata": {},
     "output_type": "execute_result"
    }
   ],
   "source": [
    "r1 = sign(beta)*abs(r.numerator()*beta).mod(a)\n",
    "r2 = (r.numerator()*alpha).mod(b)\n",
    "show( latex(r) + \" = \" + latex(r1/a) + \"+\" + latex(r2/b) )\n",
    "r == r1/a + r2/b"
   ]
  },
  {
   "cell_type": "markdown",
   "metadata": {},
   "source": [
    "<p><strong>Exercise:</strong> Decompose the rational function $\\frac{f}{g} = \\frac{x^4 + 9x^3 + 30x^2 + 52x + 42}{x^3 + 8x^2 + 21x + 18}$ step by step.</p>\n",
    "<p>1) Define the numerator and the denominator. Display the rational function.</p>"
   ]
  },
  {
   "cell_type": "code",
   "execution_count": 26,
   "metadata": {},
   "outputs": [
    {
     "data": {
      "text/html": [
       "<html><script type=\"math/tex; mode=display\">\\newcommand{\\Bold}[1]{\\mathbf{#1}}\\frac{f}{g} = \\frac{x^{4} + 9 x^{3} + 30 x^{2} + 52 x + 42}{x^{3} + 8 x^{2} + 21 x + 18}</script></html>"
      ],
      "text/plain": [
       "\\frac{f}{g} = \\frac{x^{4} + 9 x^{3} + 30 x^{2} + 52 x + 42}{x^{3} + 8 x^{2} + 21 x + 18}"
      ]
     },
     "metadata": {},
     "output_type": "display_data"
    }
   ],
   "source": [
    "# define the rational function\n",
    "P.<x> = QQ[]\n",
    "f = x^4 + 9*x^3 + 30*x^2 + 52*x + 42\n",
    "g = x^3 + 8*x^2 + 21*x + 18\n",
    "fg = f/g\n",
    "show(\"\\\\frac{f}{g} = \"+latex(fg))"
   ]
  },
  {
   "cell_type": "markdown",
   "metadata": {},
   "source": [
    "<p>2) Compute the polynomial part and the remainder.</p>"
   ]
  },
  {
   "cell_type": "code",
   "execution_count": 28,
   "metadata": {},
   "outputs": [
    {
     "data": {
      "text/html": [
       "<html><script type=\"math/tex; mode=display\">\\newcommand{\\Bold}[1]{\\mathbf{#1}}f_0 = x + 1</script></html>"
      ],
      "text/plain": [
       "f_0 = x + 1"
      ]
     },
     "metadata": {},
     "output_type": "display_data"
    }
   ],
   "source": [
    "# compute the polynomial part (i.e. the quotient)\n",
    "f0, r = f.quo_rem(g); \n",
    "show(\"f_0 = \" + latex(f0));"
   ]
  },
  {
   "cell_type": "markdown",
   "metadata": {},
   "source": [
    "<p>3) Compute the square-free decomposition of the denominator.</p>"
   ]
  },
  {
   "cell_type": "code",
   "execution_count": 29,
   "metadata": {},
   "outputs": [
    {
     "data": {
      "text/html": [
       "<html><script type=\"math/tex; mode=display\">\\newcommand{\\Bold}[1]{\\mathbf{#1}}g = (x + 2) \\cdot (x + 3)^{2}</script></html>"
      ],
      "text/plain": [
       "g = (x + 2) \\cdot (x + 3)^{2}"
      ]
     },
     "metadata": {},
     "output_type": "display_data"
    }
   ],
   "source": [
    "# compute the square-free decomposition\n",
    "G = square_free_decomposition(g); show(\"g = \" + latex(G))"
   ]
  },
  {
   "cell_type": "code",
   "execution_count": 30,
   "metadata": {},
   "outputs": [
    {
     "data": {
      "text/html": [
       "<html><script type=\"math/tex; mode=display\">\\newcommand{\\Bold}[1]{\\mathbf{#1}}g_1 = x + 2</script></html>"
      ],
      "text/plain": [
       "g_1 = x + 2"
      ]
     },
     "metadata": {},
     "output_type": "display_data"
    },
    {
     "data": {
      "text/html": [
       "<html><script type=\"math/tex; mode=display\">\\newcommand{\\Bold}[1]{\\mathbf{#1}}g_2 = x + 3</script></html>"
      ],
      "text/plain": [
       "g_2 = x + 3"
      ]
     },
     "metadata": {},
     "output_type": "display_data"
    }
   ],
   "source": [
    "g1 = G[0][0]; show(\"g_1 = \"+latex(g1))\n",
    "g2 = G[1][0]; show(\"g_2 = \"+latex(g2))"
   ]
  },
  {
   "cell_type": "markdown",
   "metadata": {},
   "source": [
    "<p>4) Compute the Bezout coefficients $\\alpha$, $\\beta$ s.t. $1 = GCD(g_2^2, g_1) = \\alpha\\cdot g_2^2 + \\beta\\cdot g_1$.</p>"
   ]
  },
  {
   "cell_type": "code",
   "execution_count": 31,
   "metadata": {},
   "outputs": [
    {
     "data": {
      "text/html": [
       "<html><script type=\"math/tex; mode=display\">\\newcommand{\\Bold}[1]{\\mathbf{#1}}\\alpha = 1</script></html>"
      ],
      "text/plain": [
       "\\alpha = 1"
      ]
     },
     "metadata": {},
     "output_type": "display_data"
    },
    {
     "data": {
      "text/html": [
       "<html><script type=\"math/tex; mode=display\">\\newcommand{\\Bold}[1]{\\mathbf{#1}}\\beta = -x - 4</script></html>"
      ],
      "text/plain": [
       "\\beta = -x - 4"
      ]
     },
     "metadata": {},
     "output_type": "display_data"
    }
   ],
   "source": [
    "# use the extended Euclid algorithm\n",
    "_, alpha, beta = xgcd(g2^2,g1)\n",
    "show(\"\\\\alpha = \"+latex(alpha))\n",
    "show(\"\\\\beta = \"+latex(beta))"
   ]
  },
  {
   "cell_type": "markdown",
   "metadata": {},
   "source": [
    "<p>5) Decompose the fraction into a sum of two fractions with denominators respectively $g_1$ and $g_2^2$.</p>"
   ]
  },
  {
   "cell_type": "code",
   "execution_count": 32,
   "metadata": {},
   "outputs": [
    {
     "data": {
      "text/html": [
       "<html><script type=\"math/tex; mode=display\">\\newcommand{\\Bold}[1]{\\mathbf{#1}}f_1 = 2</script></html>"
      ],
      "text/plain": [
       "f_1 = 2"
      ]
     },
     "metadata": {},
     "output_type": "display_data"
    }
   ],
   "source": [
    "# compute the first numerator\n",
    "f1 = (r*alpha).mod(g1)\n",
    "show(\"f_1 = \" + latex(f1))"
   ]
  },
  {
   "cell_type": "code",
   "execution_count": 34,
   "metadata": {},
   "outputs": [
    {
     "data": {
      "text/html": [
       "<html><script type=\"math/tex; mode=display\">\\newcommand{\\Bold}[1]{\\mathbf{#1}}f_2 = -x + 3</script></html>"
      ],
      "text/plain": [
       "f_2 = -x + 3"
      ]
     },
     "metadata": {},
     "output_type": "display_data"
    }
   ],
   "source": [
    "# compute the second numerator\n",
    "f2 = (r*beta).mod(g2^2)\n",
    "show(\"f_2 = \" + latex(f2))"
   ]
  },
  {
   "cell_type": "markdown",
   "metadata": {},
   "source": [
    "<p>6) Check the correctness and display the result.</p>"
   ]
  },
  {
   "cell_type": "code",
   "execution_count": 35,
   "metadata": {},
   "outputs": [
    {
     "data": {
      "text/plain": [
       "True"
      ]
     },
     "execution_count": 35,
     "metadata": {},
     "output_type": "execute_result"
    }
   ],
   "source": [
    "# check whether the value is correct\n",
    "f0 + f1/g1 + f2/g2^2 == fg"
   ]
  },
  {
   "cell_type": "code",
   "execution_count": 36,
   "metadata": {},
   "outputs": [
    {
     "data": {
      "text/html": [
       "<html><script type=\"math/tex; mode=display\">\\newcommand{\\Bold}[1]{\\mathbf{#1}}\\frac{f}{g} = x + 1 + \\frac{ 2 }{ x + 2 } + \\frac{ -x + 3 }{( x + 3 )^2}</script></html>"
      ],
      "text/plain": [
       "\\frac{f}{g} = x + 1 + \\frac{ 2 }{ x + 2 } + \\frac{ -x + 3 }{( x + 3 )^2}"
      ]
     },
     "metadata": {},
     "output_type": "display_data"
    }
   ],
   "source": [
    "# display the decomposition\n",
    "show(\"\\\\frac{f}{g} = \" + latex(f0) + \" + \\\\frac{\" + latex(f1) + \"}{\" + latex(g1) + \n",
    "\"} + \\\\frac{\" + latex(f2) + \"}{(\" + latex(g2) + \")^2}\")"
   ]
  },
  {
   "cell_type": "markdown",
   "metadata": {},
   "source": [
    "<p><strong>Exercise:</strong> Write a function for the <b>incomplete</b> square-free partial fraction decomposition (ISPFD) of a rational function. Test it with the previous example.</p>"
   ]
  },
  {
   "cell_type": "code",
   "execution_count": 39,
   "metadata": {},
   "outputs": [],
   "source": [
    "def ispfd( fg ) :\n",
    "    \"\"\"\n",
    "    This function computes the incomplete square-free partial fraction \n",
    "    decomposition of a rational function f/g.\n",
    "    \"\"\"\n",
    "    # let f,g be the numerator and the denominator\n",
    "    f = fg.numerator()\n",
    "    g = fg.denominator()\n",
    "    # store the ring of polynomials\n",
    "    P = f.parent()\n",
    "    # compute the polynomial (integral) part\n",
    "    f0,r = f.quo_rem(g)\n",
    "    # compute the square-free decomposition of the denominator\n",
    "    G = square_free_decomposition(g) \n",
    "    # the leading coeff of the denominator\n",
    "    c = g.leading_coefficient()\n",
    "    k = len(G)\n",
    "    A, B, F = [0]*(k+1), [0]*(k+1), [0]*(k+1)\n",
    "    # compute a0, b0 and f0\n",
    "    A[0] = r/c\n",
    "    B[0] = g/c\n",
    "    F[0] = f0\n",
    "    # main loop\n",
    "    for i in [1..k-1] :\n",
    "        # next denominator, i.e. g_i^i\n",
    "        gii = G[i-1][0]^(G[i-1][1])\n",
    "        # and its \"completion\" b_i\n",
    "        B[i] = P(B[i-1]/gii)\n",
    "        # extended Euclidean algorithm\n",
    "        _,alpha,beta = xgcd(B[i], gii)\n",
    "        # compute the next numerator f_i\n",
    "        F[i] = (A[i-1]*alpha).mod(gii)\n",
    "        # and its \"completion\" a_i\n",
    "        A[i] = (A[i-1]*beta).mod(B[i])\n",
    "    F[k] = A[k-1]\n",
    "    # return the resulting decomposition\n",
    "    return [ f0 ] + [ F[i]/G[i-1][0]^(G[i-1][1]) for i in [1..k] ]"
   ]
  },
  {
   "cell_type": "code",
   "execution_count": null,
   "metadata": {},
   "outputs": [],
   "source": []
  },
  {
   "cell_type": "code",
   "execution_count": 40,
   "metadata": {},
   "outputs": [
    {
     "data": {
      "text/plain": [
       "[x + 1, 2/(x + 2), (-x + 3)/(x^2 + 6*x + 9)]"
      ]
     },
     "execution_count": 40,
     "metadata": {},
     "output_type": "execute_result"
    }
   ],
   "source": [
    "# test it with the previous example\n",
    "P.<x> = QQ[]\n",
    "f = x^4 + 9*x^3 + 30*x^2 + 52*x + 42\n",
    "g = x^3 + 8*x^2 + 21*x + 18\n",
    "fg = f/g\n",
    "ispfd(fg)"
   ]
  },
  {
   "cell_type": "code",
   "execution_count": 41,
   "metadata": {},
   "outputs": [
    {
     "data": {
      "text/plain": [
       "True"
      ]
     },
     "execution_count": 41,
     "metadata": {},
     "output_type": "execute_result"
    }
   ],
   "source": [
    "sum(ispfd(fg)) == fg"
   ]
  },
  {
   "cell_type": "markdown",
   "metadata": {},
   "source": [
    "<p><strong>Exercise:</strong> Decompose the function \\[ \\frac{243 x^{12} + 243 x^{11} + 1458 x^{10} + 1215 x^{9} + 3645 x^{8} + 2430 x^{7} + 4860 x^{6} + 2430 x^{5} + 3648 x^{4} + 1218 x^{3} + 1458 x^{2} + 241 x + 241}{243 x^{11} + 243 x^{10} + 1215 x^{9} + 1215 x^{8} + 2430 x^{7} + 2430 x^{6} + 2430 x^{5} + 2430 x^{4} + 1215 x^{3} + 1215 x^{2} + 243 x + 243} \\]</p>"
   ]
  },
  {
   "cell_type": "code",
   "execution_count": 42,
   "metadata": {},
   "outputs": [
    {
     "data": {
      "text/html": [
       "<html><script type=\"math/tex; mode=display\">\\newcommand{\\Bold}[1]{\\mathbf{#1}}\\left[x, \\frac{1}{x + 1}, \\frac{\\frac{1}{81} x^{3} - \\frac{2}{243}}{x^{10} + 5 x^{8} + 10 x^{6} + 10 x^{4} + 5 x^{2} + 1}\\right]</script></html>"
      ],
      "text/plain": [
       "[x, 1/(x + 1), (1/81*x^3 - 2/243)/(x^10 + 5*x^8 + 10*x^6 + 10*x^4 + 5*x^2 + 1)]"
      ]
     },
     "metadata": {},
     "output_type": "display_data"
    }
   ],
   "source": [
    "P.<x> = QQ[]\n",
    "f = (243*x^12 + 243*x^11 + 1458*x^10 + 1215*x^9 + 3645*x^8 + 2430*x^7 + 4860*x^6 + 2430*x^5 + 3648*x^4 + 1218*x^3 + 1458*x^2 + 241*x + 241)\n",
    "g = (243*x^11 + 243*x^10 + 1215*x^9 + 1215*x^8 + 2430*x^7 + 2430*x^6 + 2430*x^5 + 2430*x^4 + 1215*x^3 + 1215*x^2 + 243*x + 243) \n",
    "show( ispfd(f/g) )"
   ]
  },
  {
   "cell_type": "code",
   "execution_count": 43,
   "metadata": {},
   "outputs": [
    {
     "data": {
      "text/plain": [
       "True"
      ]
     },
     "execution_count": 43,
     "metadata": {},
     "output_type": "execute_result"
    }
   ],
   "source": [
    "sum(ispfd(f/g)) == f/g"
   ]
  },
  {
   "cell_type": "markdown",
   "metadata": {},
   "source": [
    "<p><strong>Exercise:</strong> Write a function for the <b>complete</b> square-free partial fraction decomposition (CSPFD) of a rational function. Test it on the previous examples.</p>"
   ]
  },
  {
   "cell_type": "code",
   "execution_count": 44,
   "metadata": {},
   "outputs": [],
   "source": [
    "def cspfd( fg ) :\n",
    "    \"\"\"\n",
    "    This function computes the complete square-free partial fraction decomposition\n",
    "    of a rational function.\n",
    "    \"\"\"\n",
    "    # find the incomplete decomposition\n",
    "    I = ispfd( fg )\n",
    "    P = I[0].parent()\n",
    "    # D will be the list of summand\n",
    "    # start from the polynomial (integral) part\n",
    "    D = [ I[0] ]\n",
    "    # main loop\n",
    "    for fgi in I[1:] :\n",
    "        fi = fgi.numerator()\n",
    "        # the following is not too elegant\n",
    "        # it would be better if ispfd returned factored denominators\n",
    "        gii = fgi.denominator()\n",
    "        gi = rad(gii)\n",
    "        i = ZZ(gii.degree()/gi.degree())\n",
    "        a = fi\n",
    "        T = []\n",
    "        # the internal loop decomposing fi/gi^i\n",
    "        for j in [i,i-1..1] :\n",
    "            q,r = a.quo_rem(gi)\n",
    "            # omit zeros\n",
    "            if r != 0 :\n",
    "                T = [ r/gi^j ] + T\n",
    "            a = q\n",
    "        # append the decomposition of fi/gi^i to the whole decomposition\n",
    "        D += T\n",
    "    # return the result\n",
    "    return D"
   ]
  },
  {
   "cell_type": "code",
   "execution_count": 54,
   "metadata": {},
   "outputs": [
    {
     "data": {
      "text/html": [
       "<html><script type=\"math/tex; mode=display\">\\newcommand{\\Bold}[1]{\\mathbf{#1}}\\left[x + 1, \\frac{2}{x + 2}, \\frac{-1}{x + 3}, \\frac{6}{x^{2} + 6 x + 9}\\right]</script></html>"
      ],
      "text/plain": [
       "[x + 1, 2/(x + 2), -1/(x + 3), 6/(x^2 + 6*x + 9)]"
      ]
     },
     "metadata": {},
     "output_type": "display_data"
    }
   ],
   "source": [
    "# test\n",
    "P.<x> = QQ[]\n",
    "f = x^4 + 9*x^3 + 30*x^2 + 52*x + 42\n",
    "g = x^3 + 8*x^2 + 21*x + 18\n",
    "fg = f/g\n",
    "show( cspfd( fg ) )"
   ]
  },
  {
   "cell_type": "code",
   "execution_count": 55,
   "metadata": {},
   "outputs": [
    {
     "data": {
      "text/plain": [
       "True"
      ]
     },
     "execution_count": 55,
     "metadata": {},
     "output_type": "execute_result"
    }
   ],
   "source": [
    "sum( cspfd(fg) ) == fg"
   ]
  },
  {
   "cell_type": "code",
   "execution_count": 56,
   "metadata": {},
   "outputs": [
    {
     "data": {
      "text/html": [
       "<html><script type=\"math/tex; mode=display\">\\newcommand{\\Bold}[1]{\\mathbf{#1}}\\left[x, \\frac{1}{x + 1}, \\frac{\\frac{1}{81} x}{x^{8} + 4 x^{6} + 6 x^{4} + 4 x^{2} + 1}, \\frac{-\\frac{1}{81} x - \\frac{2}{243}}{x^{10} + 5 x^{8} + 10 x^{6} + 10 x^{4} + 5 x^{2} + 1}\\right]</script></html>"
      ],
      "text/plain": [
       "[x,\n",
       " 1/(x + 1),\n",
       " 1/81*x/(x^8 + 4*x^6 + 6*x^4 + 4*x^2 + 1),\n",
       " (-1/81*x - 2/243)/(x^10 + 5*x^8 + 10*x^6 + 10*x^4 + 5*x^2 + 1)]"
      ]
     },
     "metadata": {},
     "output_type": "display_data"
    }
   ],
   "source": [
    "# test\n",
    "P.<x> = QQ[]\n",
    "f = (243*x^12 + 243*x^11 + 1458*x^10 + 1215*x^9 + 3645*x^8 + 2430*x^7 + 4860*x^6 + 2430*x^5 + 3648*x^4 + 1218*x^3 + 1458*x^2 + 241*x + 241)\n",
    "g = (243*x^11 + 243*x^10 + 1215*x^9 + 1215*x^8 + 2430*x^7 + 2430*x^6 + 2430*x^5 + 2430*x^4 + 1215*x^3 + 1215*x^2 + 243*x + 243) \n",
    "show( cspfd(f/g) )"
   ]
  },
  {
   "cell_type": "code",
   "execution_count": 57,
   "metadata": {},
   "outputs": [
    {
     "data": {
      "text/plain": [
       "True"
      ]
     },
     "execution_count": 57,
     "metadata": {},
     "output_type": "execute_result"
    }
   ],
   "source": [
    "sum( cspfd(fg) ) == fg"
   ]
  },
  {
   "cell_type": "code",
   "execution_count": 58,
   "metadata": {},
   "outputs": [
    {
     "data": {
      "text/html": [
       "<html><script type=\"math/tex; mode=display\">\\newcommand{\\Bold}[1]{\\mathbf{#1}}\\frac{x^{8} + 13 x^{7} + 68 x^{6} + 190 x^{5} + 361 x^{4} + 697 x^{3} + 1324 x^{2} + 1533 x + 703}{x^{6} + 14 x^{5} + 80 x^{4} + 238 x^{3} + 387 x^{2} + 324 x + 108}</script></html>"
      ],
      "text/plain": [
       "(x^8 + 13*x^7 + 68*x^6 + 190*x^5 + 361*x^4 + 697*x^3 + 1324*x^2 + 1533*x + 703)/(x^6 + 14*x^5 + 80*x^4 + 238*x^3 + 387*x^2 + 324*x + 108)"
      ]
     },
     "metadata": {},
     "output_type": "display_data"
    }
   ],
   "source": [
    "# example from the lecture\n",
    "P.<x> = QQ[]\n",
    "f = x^8 + 13*x^7 + 68*x^6 + 190*x^5 + 361*x^4 + 697*x^3 + 1324*x^2 + 1533*x + 703\n",
    "g = x^6 + 14*x^5 + 80*x^4 + 238*x^3 + 387*x^2 + 324*x + 108\n",
    "fg = f/g\n",
    "show(fg)"
   ]
  },
  {
   "cell_type": "code",
   "execution_count": 59,
   "metadata": {},
   "outputs": [
    {
     "data": {
      "text/html": [
       "<html><script type=\"math/tex; mode=display\">\\newcommand{\\Bold}[1]{\\mathbf{#1}}\\left[x^{2} - x + 2, \\frac{3}{x + 1}, \\frac{x + 5}{x^{2} + 4 x + 4}, \\frac{-2 x + 7}{x^{3} + 9 x^{2} + 27 x + 27}\\right]</script></html>"
      ],
      "text/plain": [
       "[x^2 - x + 2,\n",
       " 3/(x + 1),\n",
       " (x + 5)/(x^2 + 4*x + 4),\n",
       " (-2*x + 7)/(x^3 + 9*x^2 + 27*x + 27)]"
      ]
     },
     "metadata": {},
     "output_type": "display_data"
    }
   ],
   "source": [
    "show( ispfd(fg) )"
   ]
  },
  {
   "cell_type": "code",
   "execution_count": 60,
   "metadata": {},
   "outputs": [
    {
     "data": {
      "text/html": [
       "<html><script type=\"math/tex; mode=display\">\\newcommand{\\Bold}[1]{\\mathbf{#1}}\\left[x^{2} - x + 2, \\frac{3}{x + 1}, \\frac{1}{x + 2}, \\frac{3}{x^{2} + 4 x + 4}, \\frac{-2}{x^{2} + 6 x + 9}, \\frac{13}{x^{3} + 9 x^{2} + 27 x + 27}\\right]</script></html>"
      ],
      "text/plain": [
       "[x^2 - x + 2,\n",
       " 3/(x + 1),\n",
       " 1/(x + 2),\n",
       " 3/(x^2 + 4*x + 4),\n",
       " -2/(x^2 + 6*x + 9),\n",
       " 13/(x^3 + 9*x^2 + 27*x + 27)]"
      ]
     },
     "metadata": {},
     "output_type": "display_data"
    }
   ],
   "source": [
    "show( cspfd(fg) )"
   ]
  },
  {
   "cell_type": "markdown",
   "metadata": {},
   "source": [
    "<h2>Symbolic integration of rational functions</h2>\n",
    "\n",
    "<p><strong>Exercise:</strong> Write a function that computes the antiderivative of a polynomial.</p>"
   ]
  },
  {
   "cell_type": "code",
   "execution_count": 207,
   "metadata": {},
   "outputs": [
    {
     "data": {
      "text/plain": []
     },
     "execution_count": 207,
     "metadata": {},
     "output_type": "execute_result"
    }
   ],
   "source": [
    "def polynomial_integral( f, use_C = false ) :\n",
    "    \"\"\"\n",
    "    This function computes the antiderivative of a polynomial f. \n",
    "    By default the constant term of the result is null unless\n",
    "    the parameter use_C is set to true, then a new symbolic constant\n",
    "    is defined and used.\n",
    "    \"\"\"\n",
    "    if use_C :\n",
    "        P = f.base_ring()['C'][f.variable_name()]\n",
    "        h = [P.base_ring().0]\n",
    "    else :\n",
    "        P = f.parent()\n",
    "        h = [0]\n",
    "    h += [ f[i]/(i+1) for i in [0,..,f.degree()] ]\n",
    "    return P(h)"
   ]
  },
  {
   "cell_type": "code",
   "execution_count": 210,
   "metadata": {},
   "outputs": [
    {
     "data": {
      "text/plain": [
       "\n"
      ]
     },
     "execution_count": 210,
     "metadata": {},
     "output_type": "execute_result"
    }
   ],
   "source": [
    "# test\n",
    "P.<x> = QQ[]\n",
    "f = P([1..5]); show(\"f = \" + latex(f))\n",
    "F = polynomial_integral(f, true)\n",
    "show(\"\\\\int f(\" + latex(P.0) + \")d\" + latex(P.0) + \" = \" + latex(F))"
   ]
  },
  {
   "cell_type": "markdown",
   "metadata": {},
   "source": [
    "<p><strong>Exercise:</strong> Compute the Hermite's reduction of the following integral step by step \\[ \\int \\frac{3 x^{2} + 2 x + 1}{(x^2 + 1)^3} dx \\]</p>\n",
    "<p>1) define: the numerator and the needed polynomials $a = 3 x^{2} + 2 x + 1$, $b = x^2 + 1$, exponent $n = 3$  and the function under the integral $\\frac{a}{b^n}$.</p>"
   ]
  },
  {
   "cell_type": "code",
   "execution_count": 214,
   "metadata": {},
   "outputs": [
    {
     "data": {
      "text/plain": []
     },
     "execution_count": 214,
     "metadata": {},
     "output_type": "execute_result"
    }
   ],
   "source": [
    "P.<x> = QQ[]\n",
    "a = 1+2*x+3*x^2\n",
    "b = 1+x^2\n",
    "n = 3\n",
    "abn = a/b^n; view(abn)"
   ]
  },
  {
   "cell_type": "markdown",
   "metadata": {},
   "source": [
    "<p>2) Compute the Bezout coefficients $c,d$.</p>"
   ]
  },
  {
   "cell_type": "code",
   "execution_count": 217,
   "metadata": {},
   "outputs": [
    {
     "data": {
      "text/plain": []
     },
     "execution_count": 217,
     "metadata": {},
     "output_type": "execute_result"
    }
   ],
   "source": [
    "# compute the Bezout coefficients\n",
    "_,c,d = xgcd(b, b.derivative())\n",
    "view(\"c = \" + latex(c) + \",\\ d = \" + latex(d))"
   ]
  },
  {
   "cell_type": "markdown",
   "metadata": {},
   "source": [
    "<p>3) Reduce the degree by one using the formula presented on the lecture (integration in parts) and check the correctness of the result.</p>"
   ]
  },
  {
   "cell_type": "code",
   "execution_count": 216,
   "metadata": {},
   "outputs": [
    {
     "data": {
      "text/plain": [
       "\n"
      ]
     },
     "execution_count": 216,
     "metadata": {},
     "output_type": "execute_result"
    }
   ],
   "source": [
    "# define the fractions A, B\n",
    "A = 1/(1-n)*a*d/b^(n-1); view(\"A = \" + latex(A))\n",
    "B = ( a*c + 1/(n-1)*(a*d).derivative() )/b^(n-1); view(\"B = \" + latex(B))"
   ]
  },
  {
   "cell_type": "code",
   "execution_count": 215,
   "metadata": {},
   "outputs": [
    {
     "data": {
      "text/plain": [
       "True"
      ]
     },
     "execution_count": 215,
     "metadata": {},
     "output_type": "execute_result"
    }
   ],
   "source": [
    "# check the correctness\n",
    "A.derivative() + B == abn"
   ]
  },
  {
   "cell_type": "markdown",
   "metadata": {},
   "source": [
    "<p>4) Reduce the degree one more time.</p>"
   ]
  },
  {
   "cell_type": "code",
   "execution_count": 218,
   "metadata": {},
   "outputs": [
    {
     "data": {
      "text/plain": [
       "\n"
      ]
     },
     "execution_count": 218,
     "metadata": {},
     "output_type": "execute_result"
    }
   ],
   "source": [
    "# second (and last) iteration\n",
    "\n",
    "# new numerator\n",
    "a = B.numerator()\n",
    "A += 1/(2-n)*a*d/b^(n-2); view(\"A = \" + latex(A))\n",
    "B = ( a*c + 1/(n-2)*(a*d).derivative() )/b^(n-2); view(\"B = \" + latex(B))"
   ]
  },
  {
   "cell_type": "markdown",
   "metadata": {},
   "source": [
    "<p>5) Remove the polynomial (integral) part from the function being integrated.</p>"
   ]
  },
  {
   "cell_type": "code",
   "execution_count": 221,
   "metadata": {},
   "outputs": [
    {
     "data": {
      "text/plain": [
       "\n"
      ]
     },
     "execution_count": 221,
     "metadata": {},
     "output_type": "execute_result"
    }
   ],
   "source": [
    "# find the integral part of B...\n",
    "a = B.numerator()\n",
    "q, r = a.quo_rem(b)\n",
    "# ...and add its antiderivative to A\n",
    "A += polynomial_integral(q); view(\"A = \" + latex(A))\n",
    "B = r/b; view(\"B = \" + latex(B))"
   ]
  },
  {
   "cell_type": "markdown",
   "metadata": {},
   "source": [
    "<p>6) Check the correctness and display the result.</p>"
   ]
  },
  {
   "cell_type": "code",
   "execution_count": 220,
   "metadata": {},
   "outputs": [
    {
     "data": {
      "text/plain": [
       "True"
      ]
     },
     "execution_count": 220,
     "metadata": {},
     "output_type": "execute_result"
    }
   ],
   "source": [
    "# check the correctness\n",
    "A.derivative() + B == abn"
   ]
  },
  {
   "cell_type": "code",
   "execution_count": 219,
   "metadata": {},
   "outputs": [
    {
     "data": {
      "text/plain": []
     },
     "execution_count": 219,
     "metadata": {},
     "output_type": "execute_result"
    }
   ],
   "source": [
    "# display the result\n",
    "show(\"\\\\int \" + latex(abn) + \"d\" + latex(P.0) + \" = \" + latex(A) + \" + \\\\int \" + latex(B) + \"d\" + latex(P.0))"
   ]
  },
  {
   "cell_type": "markdown",
   "metadata": {},
   "source": [
    "<p><strong>Exercise:</strong> Write a function computing Hermite's reduction.</p>"
   ]
  },
  {
   "cell_type": "code",
   "execution_count": 212,
   "metadata": {},
   "outputs": [
    {
     "data": {
      "text/plain": []
     },
     "execution_count": 212,
     "metadata": {},
     "output_type": "execute_result"
    }
   ],
   "source": [
    "def Hermite_reduction( abn ) :\n",
    "    \"\"\"\n",
    "    This function computes the Hermite's reduction of the integral $\\int a/b^n$, \n",
    "    where $b$ is a square-free polynomial and $a$, $b$ are relative prime.\n",
    "    It return two functions $A/b^{n-1}$ and $r/b$ satisfying the condition\n",
    "    ` \\int a/b^n = A/b^{n-1} + \\int r/b `\n",
    "    \"\"\"\n",
    "    # find the numerator, denominator and the exponent\n",
    "    a = abn.numerator()\n",
    "    P = a.parent()\n",
    "    b_to_n = abn.denominator()\n",
    "    b = rad( b_to_n )\n",
    "    n = b_to_n.degree()//b.degree()\n",
    "    # initiate A, B\n",
    "    A = 0\n",
    "    B = a\n",
    "    # compute the Bezout coeffs\n",
    "    _,c,d = xgcd(b, b.derivative())\n",
    "    # main loop\n",
    "    for i in [n-1,n-2,..,1] :\n",
    "        # update A and B using the formula from the lecture\n",
    "        A += -1/i*B*d*b^(n-i-1)\n",
    "        B = B*c + 1/i*(B*d).derivative()\n",
    "    # get rid of the integral part\n",
    "    q,r = B.quo_rem(b)\n",
    "    # return the result\n",
    "    return A/b^(n-1) + polynomial_integral(q), r/b"
   ]
  },
  {
   "cell_type": "code",
   "execution_count": 236,
   "metadata": {},
   "outputs": [
    {
     "data": {
      "text/plain": []
     },
     "execution_count": 236,
     "metadata": {},
     "output_type": "execute_result"
    }
   ],
   "source": [
    "# test (previous example)\n",
    "abn = (3*x^2 + 2*x + 1)/(x^6 + 3*x^4 + 3*x^2 + 1)\n",
    "A, B = Hermite_reduction(abn)\n",
    "show(\"\\int \" + latex(abn) + \"=\" + latex(A) + \"+\\int\" + latex(B))"
   ]
  },
  {
   "cell_type": "code",
   "execution_count": 237,
   "metadata": {},
   "outputs": [
    {
     "data": {
      "text/plain": [
       "True"
      ]
     },
     "execution_count": 237,
     "metadata": {},
     "output_type": "execute_result"
    }
   ],
   "source": [
    "# check the correctness\n",
    "A.derivative() + B == abn"
   ]
  },
  {
   "cell_type": "code",
   "execution_count": 238,
   "metadata": {},
   "outputs": [
    {
     "data": {
      "text/plain": []
     },
     "execution_count": 238,
     "metadata": {},
     "output_type": "execute_result"
    }
   ],
   "source": [
    "# test (example from the lecture notes)\n",
    "P.<t> = QQ[]\n",
    "fg = (240+72*t-72*t^2-48*t^3)/(27+27*t^2+9*t^4+t^6)\n",
    "A, B = Hermite_reduction(fg)\n",
    "show(\"\\int \" + latex(fg) + \"=\" + latex(A) + \"+\\int\" + latex(B))"
   ]
  },
  {
   "cell_type": "code",
   "execution_count": 239,
   "metadata": {},
   "outputs": [
    {
     "data": {
      "text/plain": [
       "True"
      ]
     },
     "execution_count": 239,
     "metadata": {},
     "output_type": "execute_result"
    }
   ],
   "source": [
    "# check the correctness\n",
    "A.derivative() + B == fg"
   ]
  },
  {
   "cell_type": "markdown",
   "metadata": {},
   "source": [
    "<p><strong>Exercise:</strong> Write a function computing the symbolic integral of a rational function (assuming that the roots of the denominator can be found). Test it using the example presented during the lecture: \\[ \\frac{72 t^{3} + 144 t + 504}{t^{5} + 9 t^{4} + 27 t^{3} + 23 t^{2} - 24 t - 36} \\]</p>\n",
    "<p><em>Hint:</em> If $f$ is a polynomial then <tt>f.roots(QQ)</tt> return its rational roots.</p>"
   ]
  },
  {
   "cell_type": "code",
   "execution_count": 241,
   "metadata": {},
   "outputs": [
    {
     "data": {
      "text/plain": []
     },
     "execution_count": 241,
     "metadata": {},
     "output_type": "execute_result"
    }
   ],
   "source": [
    "def rational_integral( fg ) :\n",
    "    \"\"\"\n",
    "    This function computes the antiderivative of a rational function $f/g$.\n",
    "    \"\"\"\n",
    "    # store the ring of polynomials in P\n",
    "    f = fg.numerator()\n",
    "    P = f.parent()\n",
    "    # compute the complete square-free partial fraction decomposition of f/g\n",
    "    D = cspfd( fg ) \n",
    "    # take the polynomial (integral) part out\n",
    "    f0 = 0\n",
    "    if D[0] in P :\n",
    "        f0 = D[0]\n",
    "    # and integrate it\n",
    "    F0 = polynomial_integral(f0)\n",
    "    # I will accumulate the integral, \n",
    "    # first it is the antiderivative of the polynomial part\n",
    "    I = F0\n",
    "    # loop over the decomposition\n",
    "    for h in D :\n",
    "        # omit zeros (if there are any)\n",
    "        if h == 0 :\n",
    "            continue\n",
    "        # find the square-free part of the denominator \n",
    "        # (this is an ugly solution)\n",
    "        gi_to_j = h.denominator()\n",
    "        gi = rad( gi_to_j )\n",
    "        # us Hermite's reduction\n",
    "        A, B = Hermite_reduction( h )\n",
    "        # compute the roots of the denominator\n",
    "        Z = gi.roots(QQ)\n",
    "        # use Proposition 6.1.3 from the lecture,\n",
    "        # sum it and add the result to I\n",
    "        H = [ B.numerator()(z)/gi.derivative()(z)*log(t-z) for (z,k) in Z ]\n",
    "        I += A + sum(H)\n",
    "    # return the result\n",
    "    return I"
   ]
  },
  {
   "cell_type": "code",
   "execution_count": 242,
   "metadata": {},
   "outputs": [
    {
     "data": {
      "text/plain": []
     },
     "execution_count": 242,
     "metadata": {},
     "output_type": "execute_result"
    }
   ],
   "source": [
    "P.<t> = QQ[]\n",
    "f = (72*t^3 + 144*t + 504)/(t^5 + 9*t^4 + 27*t^3 + 23*t^2 - 24*t - 36)\n",
    "F = rational_integral(f)\n",
    "show(\"\\int \" + latex(f) + \"=\" + latex(F))"
   ]
  },
  {
   "cell_type": "code",
   "execution_count": 246,
   "metadata": {},
   "outputs": [
    {
     "data": {
      "text/plain": []
     },
     "execution_count": 246,
     "metadata": {},
     "output_type": "execute_result"
    }
   ],
   "source": []
  }
 ],
 "metadata": {
  "kernelspec": {
   "display_name": "SageMath 9.0",
   "language": "sage",
   "name": "sagemath"
  },
  "language": "python",
  "language_info": {
   "codemirror_mode": {
    "name": "ipython",
    "version": 3
   },
   "file_extension": ".py",
   "mimetype": "text/x-python",
   "name": "python",
   "nbconvert_exporter": "python",
   "pygments_lexer": "ipython3",
   "version": "3.7.6"
  }
 },
 "nbformat": 4,
 "nbformat_minor": 4
}
