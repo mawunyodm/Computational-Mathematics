{
 "cells": [
  {
   "cell_type": "markdown",
   "metadata": {},
   "source": [
    "<h1>Exercise Set 2: Lists</h1>\n",
    "<h2>List construction</h2>\n",
    "<p><span style=\"color: #3366ff;\">List is a data type that represents a finite sequence (of elements from some arbitrary set). In Sage, basic lists are created by enclosing the elements (separated by commas) with square brackets.</span></p>\n",
    "<p><strong><strong>Exercise</strong>:</strong> Build a list $1,7,-3,4,7$</p>"
   ]
  },
  {
   "cell_type": "code",
   "execution_count": 2,
   "metadata": {},
   "outputs": [
    {
     "data": {
      "text/html": [
       "<html><script type=\"math/tex; mode=display\">\\newcommand{\\Bold}[1]{\\mathbf{#1}}L = \\left[1, 7, -3, 4, 7\\right]</script></html>"
      ],
      "text/plain": [
       "L = \\left[1, 7, -3, 4, 7\\right]"
      ]
     },
     "metadata": {},
     "output_type": "display_data"
    }
   ],
   "source": [
    "L = [1,7,-3,4,7]; show(\"L = \" + latex(L))"
   ]
  },
  {
   "cell_type": "markdown",
   "metadata": {},
   "source": [
    "<p><span style=\"color: #3366ff;\"><strong>Important:</strong> List <span style=\"text-decoration: underline;\">is not</span> the same as the set of its elements. Order of elements in a list is fixed and elements of a list may be repeated.</span></p>\n",
    "<p><span style=\"color: #3366ff;\">Set are constructed with a command <span style=\"font-family: courier new,courier;\">Set</span>.</span></p>\n",
    "<p><strong><strong>Exercise</strong>:</strong> Construct a set of elements of the previous list.</p>"
   ]
  },
  {
   "cell_type": "code",
   "execution_count": 3,
   "metadata": {},
   "outputs": [
    {
     "data": {
      "text/html": [
       "<html><script type=\"math/tex; mode=display\">\\newcommand{\\Bold}[1]{\\mathbf{#1}}\\left\\{1, 4, -3, 7\\right\\}</script></html>"
      ],
      "text/plain": [
       "{1, 4, -3, 7}"
      ]
     },
     "metadata": {},
     "output_type": "display_data"
    }
   ],
   "source": [
    "show( Set(L) )"
   ]
  },
  {
   "cell_type": "markdown",
   "metadata": {},
   "source": [
    "<p><span style=\"color: #3366ff;\"><span style=\"font-family: courier new,courier;\">[n..m]</span> or <span style=\"font-family: courier new,courier;\">[n,..,m]</span> constructs a list of consecutive integers $n$ through $m$</span></p>\n",
    "<p><span style=\"color: #3366ff;\"><span style=\"font-family: courier new,courier;\">[n,k,..,m]</span> constructs a list of integers $n$ through $m$ with step $k-n$</span></p>\n",
    "<p> </p>\n",
    "<p><strong><strong>Exercise</strong>:</strong> Construct the lists: $[3, 4, 5, 6, 7, 8, 9, 10, 11]$, $[3, 5, 7, 9, 11]$ and $\\left[3, \\frac{7}{2}, 4, \\frac{9}{2}, 5, \\frac{11}{2}, 6, \\frac{13}{2}, 7, \\frac{15}{2}, 8, \\frac{17}{2}, 9, \\frac{19}{2}, 10, \\frac{21}{2}, 11\\right]$</p>"
   ]
  },
  {
   "cell_type": "code",
   "execution_count": 158,
   "metadata": {},
   "outputs": [
    {
     "data": {
      "text/plain": [
       "[3, 4, 5, 6, 7, 8, 9, 10, 11]"
      ]
     },
     "execution_count": 158,
     "metadata": {},
     "output_type": "execute_result"
    }
   ],
   "source": [
    "[3..11]"
   ]
  },
  {
   "cell_type": "code",
   "execution_count": 160,
   "metadata": {},
   "outputs": [
    {
     "data": {
      "text/plain": [
       "[3, 5, 7, 9, 11]"
      ]
     },
     "execution_count": 160,
     "metadata": {},
     "output_type": "execute_result"
    }
   ],
   "source": [
    "[3,5,..,11]"
   ]
  },
  {
   "cell_type": "code",
   "execution_count": 161,
   "metadata": {},
   "outputs": [
    {
     "data": {
      "text/plain": [
       "[3, 7/2, 4, 9/2, 5, 11/2, 6, 13/2, 7, 15/2, 8, 17/2, 9, 19/2, 10, 21/2, 11]"
      ]
     },
     "execution_count": 161,
     "metadata": {},
     "output_type": "execute_result"
    }
   ],
   "source": [
    "[3,7/2,..,11]"
   ]
  },
  {
   "cell_type": "markdown",
   "metadata": {},
   "source": [
    "<p><span style=\"color: #3366ff;\">Suppose $L$ is a list, then  <span style=\"font-family: courier new,courier;\">[ <span style=\"color: #ff0000;\"><em>expression</em></span> for <span style=\"color: #ff0000;\"><em>variable</em></span> in L ]</span> creates a new list, with elements being the values of the given expression computed for consecutive members of $L$. In other words:</span></p>\n",
    "<p>\\[ \\text{[ f(a_n) for a_n in  L ]}\\qquad\\cong\\qquad \\bigl( f(a_n): a_n\\in L\\bigr)\\]</p>\n",
    "<p>\\[ \\text{ Set( f(x) for x in L )}\\qquad\\cong\\qquad \\bigl\\{ f(x): x\\in L \\bigr\\} \\]</p>\n",
    "<p><strong><strong>Exercise</strong>:</strong> Create a list of successive powers of two: $2^0, 2^1, \\dotsc, 2^{10}$</p>"
   ]
  },
  {
   "cell_type": "code",
   "execution_count": 162,
   "metadata": {},
   "outputs": [
    {
     "data": {
      "text/plain": [
       "[1, 2, 4, 8, 16, 32, 64, 128, 256, 512, 1024]"
      ]
     },
     "execution_count": 162,
     "metadata": {},
     "output_type": "execute_result"
    }
   ],
   "source": [
    "[ 2^j for j in [0..10] ]"
   ]
  },
  {
   "cell_type": "markdown",
   "metadata": {},
   "source": [
    "<p><strong><strong>Exercise</strong>:</strong> Construct a matrix $7\\times 7$ filled with zeros/ones forming a chessboard.</p>"
   ]
  },
  {
   "cell_type": "code",
   "execution_count": 1,
   "metadata": {},
   "outputs": [
    {
     "data": {
      "text/html": [
       "<html><script type=\"math/tex; mode=display\">\\newcommand{\\Bold}[1]{\\mathbf{#1}}\\left(\\begin{array}{rrrrrrr}\n",
       "0 & 1 & 0 & 1 & 0 & 1 & 0 \\\\\n",
       "1 & 0 & 1 & 0 & 1 & 0 & 1 \\\\\n",
       "0 & 1 & 0 & 1 & 0 & 1 & 0 \\\\\n",
       "1 & 0 & 1 & 0 & 1 & 0 & 1 \\\\\n",
       "0 & 1 & 0 & 1 & 0 & 1 & 0 \\\\\n",
       "1 & 0 & 1 & 0 & 1 & 0 & 1 \\\\\n",
       "0 & 1 & 0 & 1 & 0 & 1 & 0\n",
       "\\end{array}\\right)</script></html>"
      ],
      "text/plain": [
       "[0 1 0 1 0 1 0]\n",
       "[1 0 1 0 1 0 1]\n",
       "[0 1 0 1 0 1 0]\n",
       "[1 0 1 0 1 0 1]\n",
       "[0 1 0 1 0 1 0]\n",
       "[1 0 1 0 1 0 1]\n",
       "[0 1 0 1 0 1 0]"
      ]
     },
     "metadata": {},
     "output_type": "display_data"
    }
   ],
   "source": [
    "show( matrix(GF(2), [ [k+w for k in [1..7]] for w in [1..7]] ) )"
   ]
  },
  {
   "cell_type": "markdown",
   "metadata": {},
   "source": [
    "<p><span style=\"color: #3366ff;\">Let $L$ be a list. Command</span> <span>[ <span style=\"color: #ff0000;\"><em>expression</em></span> for <span style=\"color: #ff0000;\"><em>variable</em></span> in L if <span style=\"color: #ff0000;\"><em>condition</em></span> ]</span> <span style=\"color: #3366ff;\">constructs a new list consisting of values of the expression computed on those elements of $L$, that satisfy the given expression. In other words:</span></p>\n",
    "<p>\\[ \\text{[ f(a_n) for a_n in L if psi(x) ]}\\qquad\\cong\\qquad \\bigl\\{ f(a_n):a_n\\in L\\wedge \\psi(x) \\bigr\\}\\]</p>\n",
    "<p>\\[ \\text{Set( f(x) for x in L if psi(x) )}\\qquad\\cong\\qquad \\bigl\\{ f(x):x\\in L\\wedge \\psi(x) \\bigr\\}\\]</p>\n",
    "<p><strong><strong>Exercise</strong>:</strong> For primes $p \\leq 700$, construct a list of integers of the form $2^p - 1$ which are themslves primes, too  (they are called <span id=\"cell_outer_30\"><a title=\"Mersenne primes\" href=\"https://en.wikipedia.org/wiki/Mersenne_prime\">Mersenne primes</a></span>).</p>\n",
    "<p><em>Hint:</em> <span style=\"font-family: courier new,courier;\">prime_range(n)</span> constructs a list of primes less than $n$, <span style=\"font-family: courier new,courier;\">n.is_primes()</span> checks if $n$ is a prime.</p>"
   ]
  },
  {
   "cell_type": "code",
   "execution_count": 169,
   "metadata": {},
   "outputs": [
    {
     "data": {
      "text/plain": [
       "[3, 7, 31, 127, 8191, 131071, 524287, 2147483647, 2305843009213693951, 618970019642690137449562111, 162259276829213363391578010288127, 170141183460469231731687303715884105727, 6864797660130609714981900799081393217269435300143305409394463459185543183397656052122559640661454554977296311391480858037121987999716643812574028291115057151, 531137992816767098689588206552468627329593117727031923199444138200403559860852242739162502265229285668889329486246501015346579337652707239409519978766587351943831270835393219031728127]"
      ]
     },
     "execution_count": 169,
     "metadata": {},
     "output_type": "execute_result"
    }
   ],
   "source": [
    "M = [ 2^p-1 for p in prime_range(700) if (2^p-1).is_prime() ]\n",
    "print M"
   ]
  },
  {
   "cell_type": "markdown",
   "metadata": {},
   "source": [
    "<p><strong><strong>Exercise</strong>:</strong> Build a list of positive integers $< 40$ having exactly two prime divisors.</p>"
   ]
  },
  {
   "cell_type": "code",
   "execution_count": 171,
   "metadata": {},
   "outputs": [
    {
     "data": {
      "text/plain": [
       "[6, 10, 12, 14, 15, 18, 20, 21, 22, 24, 26, 28, 33, 34, 35, 36, 38, 39]"
      ]
     },
     "execution_count": 171,
     "metadata": {},
     "output_type": "execute_result"
    }
   ],
   "source": [
    "[ n for n in [1..39] if len(prime_divisors(n)) == 2 ]"
   ]
  },
  {
   "cell_type": "markdown",
   "metadata": {},
   "source": [
    "<p><strong><strong>Exercise</strong>:</strong> Compute all the <a title=\"twin primes\" href=\"https://en.wikipedia.org/wiki/Twin_prime\">twin primes</a> $\\leq 100$.</p>"
   ]
  },
  {
   "cell_type": "code",
   "execution_count": 7,
   "metadata": {},
   "outputs": [
    {
     "data": {
      "text/plain": [
       "{3, 5, 7, 71, 41, 73, 11, 43, 13, 17, 19, 61, 59, 29, 31}"
      ]
     },
     "execution_count": 7,
     "metadata": {},
     "output_type": "execute_result"
    }
   ],
   "source": [
    "Set([ n for n in prime_range(100) if is_prime(n+2) or is_prime(n-2)])"
   ]
  },
  {
   "cell_type": "code",
   "execution_count": 5,
   "metadata": {},
   "outputs": [
    {
     "data": {
      "text/plain": [
       "[(3, 5), (5, 7), (11, 13), (17, 19), (29, 31), (41, 43), (59, 61), (71, 73)]"
      ]
     },
     "execution_count": 5,
     "metadata": {},
     "output_type": "execute_result"
    }
   ],
   "source": [
    "# alternative solution\n",
    "[ (n,n+2) for n in prime_range(100) if (n+2).is_prime() ]"
   ]
  },
  {
   "cell_type": "markdown",
   "metadata": {},
   "source": [
    "<p><span style=\"font-family: courier new,courier;\">L + M</span> <span style=\"color: #3366ff;\">concatenates (joins) lists $L$ and $M$</span></p>\n",
    "<p><span style=\"font-family: courier new,courier;\">L*n</span> <span style=\"color: #3366ff;\">concatenates $n$ copies of $L$</span></p>\n",
    "<p><strong>Exercise:</strong> Construct a list \\[ [1, 2, 3, 4, 5, 6, 5, 4, 3, 2, 1, 2, 3, 4, 5, 6, 5, 4, 3, 2, 1, 2, 3, 4, 5, 6, 5, 4, 3, 2, 1, 2, 3, 4, 5, 6, 5, 4, 3, 2,1] \\]</p>"
   ]
  },
  {
   "cell_type": "code",
   "execution_count": 255,
   "metadata": {},
   "outputs": [
    {
     "data": {
      "text/plain": [
       "[1, 2, 3, 4, 5, 6, 5, 4, 3, 2, 1, 2, 3, 4, 5, 6, 5, 4, 3, 2, 1, 2, 3, 4, 5, 6, 5, 4, 3, 2, 1, 2, 3, 4, 5, 6, 5, 4, 3, 2, 1]"
      ]
     },
     "execution_count": 255,
     "metadata": {},
     "output_type": "execute_result"
    }
   ],
   "source": [
    "L = ([1..6] + [5,4..2])*4 + [1]\n",
    "print L"
   ]
  },
  {
   "cell_type": "markdown",
   "metadata": {},
   "source": [
    "<p><span style=\"color: #3366ff;\">Let $L$ be a list:</span></p>\n",
    "<ul>\n",
    "<li><span style=\"font-family: courier new,courier;\">L[j]</span> <span style=\"color: #3366ff;\"><strong>is</strong> the $j$-th element of $L$ <strong>counted from zero!</strong></span></li>\n",
    "<li><span style=\"color: #3366ff;\"><span style=\"font-family: courier new,courier; color: #000000;\">L[j]</span> <span style=\"color: #3366ff;\"><strong>if $j<0$</strong> the count is <strong>from the end</strong>, L[-1] is the last element<strong style=\"color: #3366ff;\"><br /></strong></span></span></li>\n",
    "<li><span style=\"color: #3366ff;\"><span style=\"color: #000000; font-family: courier new,courier;\">L[j:k]</span> are elements from $j$-th till $(k-1)$-th</span></li>\n",
    "<li><span style=\"color: #3366ff;\"><span style=\"color: #3366ff;\"><span style=\"color: #000000; font-family: courier new,courier;\">L[j:k:l]</span> are elements from $j$-th till $(k-1)$-th with the step $l$<strong><br /></strong></span></span></li>\n",
    "</ul>\n",
    "<p><strong>Exercise:</strong> Construct a list $L$ consisting of 50 random integers from $[-10,10]$. Split the list into $L_1$ and $L_2$, where $L_1$ consists of all elements of $L$ strictly less (and $L_2$ greater or equal) than $L_0$.</p>\n",
    "<p><em>Hint:</em> Check the <span style=\"font-family: courier new,courier;\">random_element</span> method in class of an integer.</p>"
   ]
  },
  {
   "cell_type": "code",
   "execution_count": 10,
   "metadata": {},
   "outputs": [
    {
     "name": "stdout",
     "output_type": "stream",
     "text": [
      "[10, 7, 4, 0, 3, 4, -1, -9, 2, 1, -7, -1, -4, 1, -2, 1, 10, 3, -6, -5, -7, 9, -9, 0, -8, 1, -6, -3, 5, -5, 10, 0, -4, 0, 4, -6, 4, 7, -5, -4, -4, 1, 4, -5, -6, -10, -6, 3, 1, 0]\n"
     ]
    }
   ],
   "source": [
    "L = [ ZZ.random_element(-10,11) for j in [1..50] ]\n",
    "print (L)"
   ]
  },
  {
   "cell_type": "code",
   "execution_count": 14,
   "metadata": {},
   "outputs": [
    {
     "name": "stdout",
     "output_type": "stream",
     "text": [
      "[7, 4, 0, 3, 4, -1, -9, 2, 1, -7, -1, -4, 1, -2, 1, 3, -6, -5, -7, 9, -9, 0, -8, 1, -6, -3, 5, -5, 0, -4, 0, 4, -6, 4, 7, -5, -4, -4, 1, 4, -5, -6, -10, -6, 3, 1, 0]\n"
     ]
    }
   ],
   "source": [
    "L1 = [ j for j in L if j < L[0] ]; print (L1)"
   ]
  },
  {
   "cell_type": "code",
   "execution_count": 16,
   "metadata": {},
   "outputs": [
    {
     "name": "stdout",
     "output_type": "stream",
     "text": [
      "[10, 10, 10]\n"
     ]
    }
   ],
   "source": [
    "L2 = [ j for j in L if j >= L[0] ]; print (L2)"
   ]
  },
  {
   "cell_type": "markdown",
   "metadata": {},
   "source": [
    "<p><span id=\"cell_outer_6\"><strong>Exercise:</strong> Count the number of digits of the tenth element of the list of Mersenne primes constructed above?</span></p>"
   ]
  },
  {
   "cell_type": "code",
   "execution_count": 265,
   "metadata": {},
   "outputs": [
    {
     "data": {
      "text/plain": [
       "27"
      ]
     },
     "execution_count": 265,
     "metadata": {},
     "output_type": "execute_result"
    }
   ],
   "source": [
    "# tenth element has index nine!\n",
    "len(str(M[9]))"
   ]
  },
  {
   "cell_type": "code",
   "execution_count": 266,
   "metadata": {},
   "outputs": [
    {
     "data": {
      "text/plain": [
       "27"
      ]
     },
     "execution_count": 266,
     "metadata": {},
     "output_type": "execute_result"
    }
   ],
   "source": [
    "# alternative\n",
    "ceil(log(M[9], 10))"
   ]
  },
  {
   "cell_type": "code",
   "execution_count": 267,
   "metadata": {},
   "outputs": [
    {
     "data": {
      "text/plain": [
       "27"
      ]
     },
     "execution_count": 267,
     "metadata": {},
     "output_type": "execute_result"
    }
   ],
   "source": [
    "# yet another method\n",
    "len( (M[9]).digits() )"
   ]
  },
  {
   "cell_type": "markdown",
   "metadata": {},
   "source": [
    "<p><strong><strong>Exercise</strong>:</strong> Create a lower-triangular matrix of size $13\\times 13$ filled with ones. Don't do it manually!</p>"
   ]
  },
  {
   "cell_type": "code",
   "execution_count": 197,
   "metadata": {},
   "outputs": [
    {
     "data": {
      "text/plain": [
       "[1 0 0 0 0 0 0 0 0 0 0 0 0]\n",
       "[1 1 0 0 0 0 0 0 0 0 0 0 0]\n",
       "[1 1 1 0 0 0 0 0 0 0 0 0 0]\n",
       "[1 1 1 1 0 0 0 0 0 0 0 0 0]\n",
       "[1 1 1 1 1 0 0 0 0 0 0 0 0]\n",
       "[1 1 1 1 1 1 0 0 0 0 0 0 0]\n",
       "[1 1 1 1 1 1 1 0 0 0 0 0 0]\n",
       "[1 1 1 1 1 1 1 1 0 0 0 0 0]\n",
       "[1 1 1 1 1 1 1 1 1 0 0 0 0]\n",
       "[1 1 1 1 1 1 1 1 1 1 0 0 0]\n",
       "[1 1 1 1 1 1 1 1 1 1 1 0 0]\n",
       "[1 1 1 1 1 1 1 1 1 1 1 1 0]\n",
       "[1 1 1 1 1 1 1 1 1 1 1 1 1]"
      ]
     },
     "execution_count": 197,
     "metadata": {},
     "output_type": "execute_result"
    }
   ],
   "source": [
    "m = 13\n",
    "matrix( ZZ, [ [1]*k+[0]*(m-k) for k in [1..m] ] )"
   ]
  },
  {
   "cell_type": "markdown",
   "metadata": {},
   "source": [
    "<p><strong><strong>Exercise</strong>:</strong> Construct an upper-triangular matrix of size $17\\times 17$ having: ones on the main diagonal, twos directly above the diagonal, then threes, fours,... Don't do it manually!</p>"
   ]
  },
  {
   "cell_type": "code",
   "execution_count": 198,
   "metadata": {},
   "outputs": [
    {
     "data": {
      "text/plain": [
       "[ 1  2  3  4  5  6  7  8  9 10 11 12 13 14 15 16 17]\n",
       "[ 0  1  2  3  4  5  6  7  8  9 10 11 12 13 14 15 16]\n",
       "[ 0  0  1  2  3  4  5  6  7  8  9 10 11 12 13 14 15]\n",
       "[ 0  0  0  1  2  3  4  5  6  7  8  9 10 11 12 13 14]\n",
       "[ 0  0  0  0  1  2  3  4  5  6  7  8  9 10 11 12 13]\n",
       "[ 0  0  0  0  0  1  2  3  4  5  6  7  8  9 10 11 12]\n",
       "[ 0  0  0  0  0  0  1  2  3  4  5  6  7  8  9 10 11]\n",
       "[ 0  0  0  0  0  0  0  1  2  3  4  5  6  7  8  9 10]\n",
       "[ 0  0  0  0  0  0  0  0  1  2  3  4  5  6  7  8  9]\n",
       "[ 0  0  0  0  0  0  0  0  0  1  2  3  4  5  6  7  8]\n",
       "[ 0  0  0  0  0  0  0  0  0  0  1  2  3  4  5  6  7]\n",
       "[ 0  0  0  0  0  0  0  0  0  0  0  1  2  3  4  5  6]\n",
       "[ 0  0  0  0  0  0  0  0  0  0  0  0  1  2  3  4  5]\n",
       "[ 0  0  0  0  0  0  0  0  0  0  0  0  0  1  2  3  4]\n",
       "[ 0  0  0  0  0  0  0  0  0  0  0  0  0  0  1  2  3]\n",
       "[ 0  0  0  0  0  0  0  0  0  0  0  0  0  0  0  1  2]\n",
       "[ 0  0  0  0  0  0  0  0  0  0  0  0  0  0  0  0  1]"
      ]
     },
     "execution_count": 198,
     "metadata": {},
     "output_type": "execute_result"
    }
   ],
   "source": [
    "m = 17\n",
    "matrix( ZZ, [ [0]*k + [1..(m-k)] for k in [0..(m-1)] ] )"
   ]
  }
 ],
 "metadata": {
  "kernelspec": {
   "display_name": "SageMath 9.0",
   "language": "sage",
   "name": "sagemath"
  },
  "language": "python",
  "language_info": {
   "codemirror_mode": {
    "name": "ipython",
    "version": 3
   },
   "file_extension": ".py",
   "mimetype": "text/x-python",
   "name": "python",
   "nbconvert_exporter": "python",
   "pygments_lexer": "ipython3",
   "version": "3.7.6"
  }
 },
 "nbformat": 4,
 "nbformat_minor": 4
}
