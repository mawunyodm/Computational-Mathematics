{
 "cells": [
  {
   "cell_type": "code",
   "execution_count": null,
   "metadata": {
    "jupyter": {
     "source_hidden": true
    }
   },
   "outputs": [],
   "source": [
    "\n",
    "def is_square_free( f ) :\n",
    "    \"\"\"\n",
    "    This function checks if the polynomial `f` is square-free.\n",
    "    \"\"\"\n",
    "    return gcd( f, f.derivative() ) == 1\n",
    "    \n",
    "def rad( f ) :\n",
    "    \"\"\"\n",
    "    This function computes the radical of `f`.\n",
    "    \"\"\"\n",
    "    # find the ring of polynomials\n",
    "    P = f.parent()\n",
    "    # return the radical\n",
    "    return P(f/gcd(f,f.derivative()))\n",
    "    \n",
    "def square_free_decomposition( f, omit_trivial_factors = true ) :\n",
    "    \"\"\"\n",
    "    This function takes a polynomial f and returns its square-free \n",
    "    decomposition computed using Tobey-Horowitz algorithm.\n",
    "    The additional parameter omit_trivial_factors constrols whether factors = 1\n",
    "    should be omitted (default) or not.\n",
    "    \"\"\"\n",
    "    # The base ring must be a field of characteristic zero\n",
    "    assert f.base_ring().characteristic() == 0, \"The characteristic must be zero!\"\n",
    "    assert f.base_ring().is_field(), \"The base ring must be a field!\"\n",
    "\n",
    "    # Store the ring of polys in P\n",
    "    P = f.parent()\n",
    "    # normalize f\n",
    "    lcf = f.leading_coefficient()\n",
    "    f = f.monic()\n",
    "    # compute a0, a1 and b1\n",
    "    a0 = f\n",
    "    a1 = gcd(a0, a0.derivative())\n",
    "    b1 = P( a0/a1 )\n",
    "    # the list of square-free factors\n",
    "    G = []\n",
    "    # the counter\n",
    "    j = 1\n",
    "    # main loop\n",
    "    while b1 != 1 :\n",
    "        # compute next aj\n",
    "        a0 = a1\n",
    "        a1 = gcd(a0, a0.derivative()) \n",
    "        # compute next bj\n",
    "        b2 =  P(a0/a1)\n",
    "        # compute a square-free factor...\n",
    "        gj = P(b1/b2)\n",
    "        # ...and append it to G\n",
    "        if gj != 1 or not omit_trivial_factors :\n",
    "            G.append( (gj, j) )\n",
    "        # substitute bj by b_{j+1}\n",
    "        b1 = b2\n",
    "        # increment the counter\n",
    "        j += 1\n",
    "    return Factorization(G, unit = lcf, sort = false)"
   ]
  },
  {
   "cell_type": "markdown",
   "metadata": {},
   "source": [
    "<p><span style=\"color: #ff0000;\">The above hidden cell will execute automatically upon opening the worksheet. It contains the following functions from exercise set 7:</span></p>\n",
    "<ul>\n",
    "<li><span style=\"color: #ff0000; font-family: courier new,courier;\">is_square_free( f )</span></li>\n",
    "<li><span style=\"color: #ff0000; font-family: courier new,courier;\">rad( f )</span></li>\n",
    "<li><span style=\"color: #ff0000; font-family: courier new,courier;\">square_free_decomposition( f, omit_trivial_factors = true )</span></li>\n",
    "</ul>\n",
    "<p> </p>\n",
    "<h1>Root bounds</h1>\n",
    "<p><strong>Theorem (Cauchy):</strong> <em>Let $f = f_0 + f_1x + \\dotsb + f_nx^n$ be a polynomial of degree~$n$ (i.e. $f_n \\neq 0$) and let $\\xi\\in \\mathbb C$ be a root of $f$. Then the absolute value of $\\xi$ can be bounded as follows</em><br />\\[<br />|\\xi| < 1 + \\max_{0\\leq j\\leq n-1} \\left|\\frac{f_j}{f_n}\\right|.<br />\\]</p>\n",
    "<p><strong>Exercise:</strong> Compute the Cauchy bound (the \"first one\") for roots of $f=x^5 - 20x^4 + 152x^3 - 544x^2 + 900x - 529$ (example from LCM). Plot the graph of $f$ on the obtained interval.</p>\n",
    "<p>1) Define the polynomial ring $P = \\mathbb{Q}[x]$ together with the polynomial $f$</p>"
   ]
  },
  {
   "cell_type": "code",
   "execution_count": 4,
   "metadata": {},
   "outputs": [
    {
     "name": "stdout",
     "output_type": "stream",
     "text": [
      "x^5 - 20*x^4 + 152*x^3 - 544*x^2 + 900*x - 529\n"
     ]
    }
   ],
   "source": [
    "P.<x> = QQ[];\n",
    "f = P([-529,900,-544,152,-20,1]);\n",
    "print(f)"
   ]
  },
  {
   "cell_type": "markdown",
   "metadata": {},
   "source": [
    "<p>2) Compute $M > 0$ such that $|\\xi| < M$ for every root $\\xi\\in \\mathbb{C}$ of $f$. Use Cauchy theorem.</p>"
   ]
  },
  {
   "cell_type": "code",
   "execution_count": 31,
   "metadata": {},
   "outputs": [],
   "source": [
    "n = f.degree()\n",
    "M = 1 + max( [abs(f[j]/f[n]) for j in [0..n-1]] )"
   ]
  },
  {
   "cell_type": "code",
   "execution_count": 32,
   "metadata": {},
   "outputs": [
    {
     "data": {
      "text/html": [
       "<html><script type=\"math/tex; mode=display\">\\newcommand{\\Bold}[1]{\\mathbf{#1}}901</script></html>"
      ],
      "text/plain": [
       "901"
      ]
     },
     "metadata": {},
     "output_type": "display_data"
    }
   ],
   "source": [
    "show(M)"
   ]
  },
  {
   "cell_type": "markdown",
   "metadata": {},
   "source": [
    "<p>3) Plot the graph of $f$ on $[-M, M]$. </p>"
   ]
  },
  {
   "cell_type": "code",
   "execution_count": 33,
   "metadata": {},
   "outputs": [
    {
     "data": {
      "image/png": "[encoded data removed]",
      "text/plain": [
       "Graphics object consisting of 1 graphics primitive"
      ]
     },
     "execution_count": 33,
     "metadata": {},
     "output_type": "execute_result"
    }
   ],
   "source": [
    "f.plot(-M,M)"
   ]
  },
  {
   "cell_type": "markdown",
   "metadata": {},
   "source": [
    "<p><strong>Exercise:</strong></p>\n",
    "<ul>\n",
    "<li>Compute the arithemtic mean $\\mu_f$ of roots of $f$.</li>\n",
    "<li>Construct the <em>depressed</em> form $g$ of the polynomial $f$.</li>\n",
    "<li>Compute the Cauchy bound $M_g$ for roots of the depressed polynomial.</li>\n",
    "<li>Is $\\mu_f \\pm M_g$ a better bound than the one computed directly for $f$?</li>\n",
    "</ul>"
   ]
  },
  {
   "cell_type": "code",
   "execution_count": 21,
   "metadata": {},
   "outputs": [
    {
     "data": {
      "text/html": [
       "<html><script type=\"math/tex; mode=display\">\\newcommand{\\Bold}[1]{\\mathbf{#1}}4</script></html>"
      ],
      "text/plain": [
       "4"
      ]
     },
     "metadata": {},
     "output_type": "display_data"
    }
   ],
   "source": [
    "# arithmetic mean\n",
    "mu_f = -f[n-1]/(n*f[n]); show(mu_f)"
   ]
  },
  {
   "cell_type": "code",
   "execution_count": 25,
   "metadata": {},
   "outputs": [
    {
     "data": {
      "text/html": [
       "<html><script type=\"math/tex; mode=display\">\\newcommand{\\Bold}[1]{\\mathbf{#1}}x^{5} - 8 x^{3} + 4 x - 1</script></html>"
      ],
      "text/plain": [
       "x^5 - 8*x^3 + 4*x - 1"
      ]
     },
     "metadata": {},
     "output_type": "display_data"
    }
   ],
   "source": [
    "# depreesed polynomial\n",
    "g = 1/f[n]*f(x+mu_f); show(g)"
   ]
  },
  {
   "cell_type": "code",
   "execution_count": 27,
   "metadata": {},
   "outputs": [
    {
     "data": {
      "text/html": [
       "<html><script type=\"math/tex; mode=display\">\\newcommand{\\Bold}[1]{\\mathbf{#1}}9</script></html>"
      ],
      "text/plain": [
       "9"
      ]
     },
     "metadata": {},
     "output_type": "display_data"
    }
   ],
   "source": [
    "# bound for the depressed polynomial\n",
    "m = g.degree()\n",
    "Mg = 1 + max( [abs(g[j]/g[m]) for j in [0..g.degree()-1]]  ); show(Mg)"
   ]
  },
  {
   "cell_type": "code",
   "execution_count": 28,
   "metadata": {},
   "outputs": [
    {
     "data": {
      "text/html": [
       "<html><script type=\"math/tex; mode=display\">\\newcommand{\\Bold}[1]{\\mathbf{#1}}13</script></html>"
      ],
      "text/plain": [
       "13"
      ]
     },
     "metadata": {},
     "output_type": "display_data"
    }
   ],
   "source": [
    "# new bound for f\n",
    "Mf = Mg+mu_f; show(Mf)"
   ]
  },
  {
   "cell_type": "code",
   "execution_count": 30,
   "metadata": {},
   "outputs": [
    {
     "data": {
      "image/png": "[encoded data removed]",
      "text/plain": [
       "Graphics object consisting of 1 graphics primitive"
      ]
     },
     "execution_count": 30,
     "metadata": {},
     "output_type": "execute_result"
    }
   ],
   "source": [
    "# plot of f on the new interval\n",
    "f.plot(mu_f-Mg,mu_f+Mg)"
   ]
  },
  {
   "cell_type": "markdown",
   "metadata": {},
   "source": [
    "<p><span id=\"cell_outer_16\"><span id=\"cell_outer_3\"><strong>Exercise:</strong> Write a function that computes the \"first Cauchy bound\" for the absolute value of roots of a given polynomial.</span></span></p>"
   ]
  },
  {
   "cell_type": "code",
   "execution_count": 34,
   "metadata": {},
   "outputs": [],
   "source": [
    "def Cauchy_1( f ) :\n",
    "    \"\"\"\n",
    "    Given a polynomial `f`, this function computes `M` s.t. all the roots of `f` are contained in `(-M,M)`.\n",
    "    It uses the \"first\" Cauchy bound.\n",
    "    \"\"\"\n",
    "    n = f.degree()\n",
    "    M = 1 + max( [abs(f[j]/f[n]) for j in [0..n-1]] )\n",
    "    return M"
   ]
  },
  {
   "cell_type": "code",
   "execution_count": 35,
   "metadata": {},
   "outputs": [
    {
     "data": {
      "text/plain": [
       "901"
      ]
     },
     "execution_count": 35,
     "metadata": {},
     "output_type": "execute_result"
    }
   ],
   "source": [
    "Cauchy_1(f)"
   ]
  },
  {
   "cell_type": "markdown",
   "metadata": {},
   "source": [
    "<p><strong>Exercise:</strong> Write a function that construct the depressed form of a given polynomial $f$.</p>"
   ]
  },
  {
   "cell_type": "code",
   "execution_count": 36,
   "metadata": {},
   "outputs": [],
   "source": [
    "# This function computes the depressed form of a given polynomial `f`.\n",
    "def depress(f):\n",
    "    n = f.degree();\n",
    "    mu_f = -f[n-1]/(n*f[n]);\n",
    "    g = 1/f[n]*f(x+mu_f);\n",
    "    return g"
   ]
  },
  {
   "cell_type": "code",
   "execution_count": 37,
   "metadata": {},
   "outputs": [
    {
     "data": {
      "text/plain": [
       "x^5 - 8*x^3 + 4*x - 1"
      ]
     },
     "execution_count": 37,
     "metadata": {},
     "output_type": "execute_result"
    }
   ],
   "source": [
    "depress(f)"
   ]
  },
  {
   "cell_type": "markdown",
   "metadata": {},
   "source": [
    "<p><strong>Theorem (Cauchy):</strong> Let $f = f_0 + f_1x + \\dotsb + f_nx^n$ be a polynomial and $\\xi\\in \\mathbb C$ its root, then\\[|\\xi| \\leq \\max_{0\\leq j < n} \\left(n \\cdot \\left|\\frac{f_j}{f_n} \\right|\\right)^{\\frac{1}{n-j}}.\\]</p>\n",
    "<p><strong>Exercise:</strong> Write a function that computes the \"second\" Cauchy bound for roots of a given polynomial. For our example polynomial, compare the results of these two bounds. Which one is better?</p>"
   ]
  },
  {
   "cell_type": "code",
   "execution_count": 50,
   "metadata": {},
   "outputs": [],
   "source": [
    "#Function Cauchy 2\n",
    "def Cauchy_2(f):\n",
    "    n = f.degree();\n",
    "    M = max( [(n*abs(f[j]/f[n]))^(1/(n-j)) for j in [0..n-1] ])\n",
    "    return M"
   ]
  },
  {
   "cell_type": "code",
   "execution_count": 51,
   "metadata": {},
   "outputs": [
    {
     "data": {
      "text/plain": [
       "100"
      ]
     },
     "execution_count": 51,
     "metadata": {},
     "output_type": "execute_result"
    }
   ],
   "source": [
    "Cauchy_2(f)"
   ]
  },
  {
   "cell_type": "code",
   "execution_count": 52,
   "metadata": {},
   "outputs": [
    {
     "data": {
      "text/html": [
       "<html><script type=\"math/tex; mode=display\">\\newcommand{\\Bold}[1]{\\mathbf{#1}}M_f = 2 \\, \\sqrt{10} + 4 \\approx 10.32</script></html>"
      ],
      "text/plain": [
       "M_f = 2 \\, \\sqrt{10} + 4 \\approx 10.32"
      ]
     },
     "metadata": {},
     "output_type": "display_data"
    }
   ],
   "source": [
    "Mf = mu_f + Cauchy_2(g)\n",
    "show(\"M_f = \" + latex(Mf) + \"\\\\approx\" + latex(round(Mf,2)))"
   ]
  },
  {
   "cell_type": "markdown",
   "metadata": {},
   "source": [
    "<p><strong>Theorem (Hong):</strong> Let $f = f_0 + f_1x + \\dotsb + f_nx^n$ be a polynomial with a strictly positive leading coefficient. If $\\xi\\in \\mathbb R$ is a root of $f$, then<br />\\[<br />\\xi < 2 \\max_{\\substack{j\\in \\{0,\\dotsc, n-1\\}\\\\ f_j < 0}}\\min_{\\substack{i\\in \\{j+1, \\dotsc, n\\}\\\\ f_i > 0}} \\biggl( \\frac{-f_j}{f_i} \\biggr)^{\\frac{1}{i-j}}.<br />\\]</p>\n",
    "<p><strong>Exercise:</strong> Write a function that computes Hong's bound for real roots of a polynomial.</p>"
   ]
  },
  {
   "cell_type": "code",
   "execution_count": 69,
   "metadata": {},
   "outputs": [],
   "source": [
    "def Hong( f ) :\n",
    "    \"\"\"\n",
    "    Given a polynomial `f`, thsi function computes `M > 0` s.t. all the REAL roots of `f` are contained in `(-M,M)`.\n",
    "    It uses Hong's theorem.\n",
    "    \"\"\"\n",
    "    if f.leading_coefficient() < 0 :\n",
    "        f = -f\n",
    "    n = f.degree()\n",
    "    H = max([ min([ (-f[j]/f[i])^(1/(i-j)) for i in [j+1..n] if f[i] > 0 ]) for j in [0..n-1] if f[j] < 0 ])\n",
    "    return 2*H"
   ]
  },
  {
   "cell_type": "code",
   "execution_count": 70,
   "metadata": {},
   "outputs": [
    {
     "data": {
      "text/plain": [
       "40"
      ]
     },
     "execution_count": 70,
     "metadata": {},
     "output_type": "execute_result"
    }
   ],
   "source": [
    "Hong(f)"
   ]
  },
  {
   "cell_type": "code",
   "execution_count": 71,
   "metadata": {},
   "outputs": [
    {
     "data": {
      "text/html": [
       "<html><script type=\"math/tex; mode=display\">\\newcommand{\\Bold}[1]{\\mathbf{#1}}M_f = 4 \\, \\sqrt{2} + 4 \\approx 9.66</script></html>"
      ],
      "text/plain": [
       "M_f = 4 \\, \\sqrt{2} + 4 \\approx 9.66"
      ]
     },
     "metadata": {},
     "output_type": "display_data"
    }
   ],
   "source": [
    "Mf = mu_f + Hong(g)\n",
    "show(\"M_f = \" + latex(Mf) + \"\\\\approx\" + latex(round(Mf,2)))"
   ]
  },
  {
   "cell_type": "markdown",
   "metadata": {},
   "source": [
    "<p><strong>Exercise:</strong> Write a function that computes Vikglas' local-max bound for real roots of a given polynomial (see LCM).</p>"
   ]
  },
  {
   "cell_type": "code",
   "execution_count": null,
   "metadata": {},
   "outputs": [],
   "source": []
  },
  {
   "cell_type": "code",
   "execution_count": null,
   "metadata": {},
   "outputs": [],
   "source": [
    "# local_max(f)"
   ]
  },
  {
   "cell_type": "code",
   "execution_count": null,
   "metadata": {},
   "outputs": [],
   "source": [
    "# Mf = mu_f + local_max(g)\n",
    "# show(\"M_f = \" + latex(Mf))"
   ]
  },
  {
   "cell_type": "markdown",
   "metadata": {},
   "source": [
    "<p><strong>Theorem (Laguerre-Samuelson):</strong> Let $f = f_0 + f_1x +\\dotsb + f_nx^n$ be a polynomial of degree $\\deg f\\geq 2$. Assume that all the roots of $f$ are real. Then the roots of $f$ are contained in the interval  $[M_-, M_+]$, where <br />\\[ <br />M_\\pm := -\\frac{f_{n-1}}{n\\cdot f_n} \\pm \\frac{n-1}{n}\\cdot \\sqrt{\\frac{f_{n-1}^2}{f_n^2} - \\frac{2n\\cdot f_{n-2}}{(n-1)\\cdot f_n}} <br />\\]</p>\n",
    "<p><strong>Exercise:</strong> Write a function that localizes the roots of a polynomial using Laguerre-Samuelson theorem. Compare the estimates computed by this function with the previous (simpler) bounds.</p>"
   ]
  },
  {
   "cell_type": "code",
   "execution_count": null,
   "metadata": {},
   "outputs": [],
   "source": []
  },
  {
   "cell_type": "code",
   "execution_count": null,
   "metadata": {},
   "outputs": [],
   "source": [
    "# Mm, Mp = Laguerre_Samuelson(f)\n",
    "# show(\"(M_-,M_+)=(\"+latex(Mm)+\",\"+latex(Mp)+\")\\\\approx (\"+latex(round(Mm,2))+\",\"+latex(round(Mp,2)) +\")\")"
   ]
  },
  {
   "cell_type": "code",
   "execution_count": null,
   "metadata": {},
   "outputs": [],
   "source": [
    "# plot the graph of f\n",
    "# f.plot(Mm, Mp, ymin = -25, ymax = 25)"
   ]
  },
  {
   "cell_type": "markdown",
   "metadata": {},
   "source": [
    "<p><strong>Exercise:</strong> Analyze the code of the following interactive cell. Play with it.</p>"
   ]
  },
  {
   "cell_type": "code",
   "execution_count": null,
   "metadata": {},
   "outputs": [],
   "source": [
    "@interact\n",
    "def illustration( f = input_box(default = x^2-1, label=\"$f=$\"), \n",
    "               ab = range_slider([-10..10], default = (-2,2), label = \"$(a,b)=$\"),\n",
    "               typ = selector([\"Cauchy 1\", \"Cauchy 2\", \"Hong\", \"local-max\", \"Laguerre-Samuelson\"]) ) :\n",
    "    from sage.rings.polynomial.polynomial_element import is_Polynomial\n",
    "    if not is_Polynomial(f) :\n",
    "        pretty_print(html( \"Argument $f$ musi być wielomianem!\" ))\n",
    "        return\n",
    "    if typ == \"Laguerre-Samuelson\" :\n",
    "        M1, M2 = Laguerre_Samuelson(f)\n",
    "    else :\n",
    "        switch = { \"Cauchy 1\" : Cauchy_1(f), \"Cauchy 2\" : Cauchy_2(f), \"Hong\" : Hong(f), \"local-max\" : local_max(f) }\n",
    "        M2 = switch.get(typ)\n",
    "        M1 = -M2\n",
    "    show(\"Interval = \" + latex((M1, M2)) + \"\\\\approx\" + latex(( round(M1,2), round(M2,2) )))\n",
    "    show(f.plot(ab[0], ab[1]))"
   ]
  },
  {
   "cell_type": "code",
   "execution_count": null,
   "metadata": {},
   "outputs": [],
   "source": []
  }
 ],
 "metadata": {
  "kernelspec": {
   "display_name": "SageMath 9.0",
   "language": "sage",
   "name": "sagemath"
  },
  "language": "python",
  "language_info": {
   "codemirror_mode": {
    "name": "ipython",
    "version": 3
   },
   "file_extension": ".py",
   "mimetype": "text/x-python",
   "name": "python",
   "nbconvert_exporter": "python",
   "pygments_lexer": "ipython3",
   "version": "3.7.6"
  }
 },
 "nbformat": 4,
 "nbformat_minor": 4
}
