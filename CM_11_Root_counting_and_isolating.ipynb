{
 "cells": [
  {
   "cell_type": "code",
   "execution_count": 1,
   "metadata": {},
   "outputs": [],
   "source": [
    "\n",
    "def is_square_free( f ) :\n",
    "    \"\"\"\n",
    "    This function checks if the polynomial `f` is square-free.\n",
    "    \"\"\"\n",
    "    return gcd( f, f.derivative() ) == 1\n",
    "    \n",
    "def rad( f ) :\n",
    "    \"\"\"\n",
    "    This function computes the radical of `f`.\n",
    "    \"\"\"\n",
    "    # find the ring of polynomials\n",
    "    P = f.parent()\n",
    "    # return the radical\n",
    "    return P(f/gcd(f,f.derivative()))\n",
    "    \n",
    "def square_free_decomposition( f ) :\n",
    "    \"\"\"\n",
    "    This function takes a polynomial f and returns its square-free decomposition.\n",
    "    \"\"\"\n",
    "    # The base ring must be a field of characteristic zero\n",
    "    assert f.base_ring().characteristic() == 0, \"The characteristic must be zero!\"\n",
    "    assert f.base_ring().is_field(), \"The base ring must be a field!\"\n",
    "\n",
    "    # The base ring must be a field of characteristic zero\n",
    "    assert f.base_ring().characteristic() == 0, \"The characteristic must be zero!\"\n",
    "    assert f.base_ring().is_field(), \"The base ring must be a field!\"\n",
    "\n",
    "    lcf = f.leading_coefficient()\n",
    "    G = list(f.monic().squarefree_decomposition())\n",
    "    return Factorization( G, unit = lcf, sort = false )\n",
    "    \n",
    "def depress( f ) :\n",
    "    \"\"\"\n",
    "    This function computes the depressed form of a given polynomial `f`.\n",
    "    \"\"\"\n",
    "    # take the leading coefficient\n",
    "    lcf = f.leading_coefficient()\n",
    "    # normalize f\n",
    "    f /= lcf\n",
    "    # the degree of f\n",
    "    n = f.degree()\n",
    "    # depress f\n",
    "    g = f( x-f[n-1]/n )\n",
    "    return g\n",
    "    \n",
    "def Cauchy_1( f ) :\n",
    "    \"\"\"\n",
    "    Given a polynomial `f`, this function computes `M` s.t. all the roots of `f` are contained in `(-M,M)`.\n",
    "    It uses the \"first\" Cauchy bound.\n",
    "    \"\"\"\n",
    "    n = f.degree()\n",
    "    return 1 + max([abs(f[j]/f[n]) for j in [0..n-1]])\n",
    "    \n",
    "def Cauchy_2( f ) :\n",
    "    \"\"\"\n",
    "    Given a polynomial `f`, this function computes `M` s.t. all the roots of `f` are contained in `(-M,M)`.\n",
    "    It uses the \"second\" Cauchy bound.\n",
    "    \"\"\"\n",
    "    n = f.degree()\n",
    "    return max( (n*abs(f[n-j]/f[n]))^(1/j) for j in [1..n] )\n",
    "    \n",
    "def Hong( f ) :\n",
    "    \"\"\"\n",
    "    Given a polynomial `f`, thsi function computes `M > 0` s.t. all the REAL roots of `f` are contained in `(-M,M)`.\n",
    "    It uses Hong's theorem.\n",
    "    \"\"\"\n",
    "    if f.leading_coefficient() < 0 :\n",
    "        f = -f\n",
    "    n = f.degree()\n",
    "    H = max( min( (-f[j]/f[i])^(1/(i-j)) for i in [j+1..n] if f[i] > 0 ) for j in [0..n-1] if f[j] < 0 )\n",
    "    return 2*H\n",
    "    \n",
    "def local_max( f ) :\n",
    "    \"\"\"\n",
    "    Given a polynomial `f`, thsi function computes `M > 0` s.t. all the REAL roots of `f` are contained in `(-M,M)`.\n",
    "    It uses local-max algorithm.\n",
    "    \"\"\"\n",
    "    n = f.degree()\n",
    "    M = 0\n",
    "    t = 1\n",
    "    i_max = n\n",
    "    for j in [n-1,n-2,..0] :\n",
    "        if f[j] > f[i_max] :\n",
    "            i_max = j\n",
    "            t = 1\n",
    "        if f[j] < 0 :\n",
    "            m = ( -2^t*f[j]/f[i_max] )^( 1/(i_max - j) )\n",
    "            t = t+1\n",
    "            M = max(m, M)\n",
    "    return M"
   ]
  },
  {
   "cell_type": "markdown",
   "metadata": {},
   "source": [
    "<p><span style=\"color: #ff0000;\">The above hidden cell will execute automatically upon opening the worksheet. It contains the following functions from exercise set 7:</span></p>\n",
    "<ul>\n",
    "<li><span style=\"color: #ff0000; font-family: courier new,courier;\">is_square_free( f )</span></li>\n",
    "<li><span style=\"color: #ff0000; font-family: courier new,courier;\">rad( f )</span></li>\n",
    "<li><span style=\"color: #ff0000; font-family: courier new,courier;\">square_free_decomposition( f, omit_trivial_factors = true )</span></li>\n",
    "<li><span style=\"font-family: courier new,courier; color: #ff0000;\">depress( f )</span></li>\n",
    "<li><span style=\"font-family: courier new,courier; color: #ff0000;\">Cauchy_1( f )</span></li>\n",
    "<li><span style=\"font-family: courier new,courier; color: #ff0000;\">Cauchy_2( f )</span></li>\n",
    "<li><span style=\"font-family: courier new,courier; color: #ff0000;\">Hong( f )</span></li>\n",
    "<li><span style=\"font-family: courier new,courier; color: #ff0000;\">local_max( f )</span></li>\n",
    "</ul>\n",
    "\n",
    "<h2>Strurm sequence</h2>\n",
    "<p><strong>Exercise:</strong> Compute the Sturm sequence of a polynomial $f = x^{4} - 5 x^{2} + 4$ <strong>step by step</strong>.</p>"
   ]
  },
  {
   "cell_type": "code",
   "execution_count": 2,
   "metadata": {},
   "outputs": [
    {
     "data": {
      "text/html": [
       "<html><script type=\"math/tex; mode=display\">\\newcommand{\\Bold}[1]{\\mathbf{#1}}f = x^{4} - 5 x^{2} + 4</script></html>"
      ],
      "text/plain": [
       "f = x^{4} - 5 x^{2} + 4"
      ]
     },
     "metadata": {},
     "output_type": "display_data"
    }
   ],
   "source": [
    "# define a polynomial f\n",
    "P.<x> = QQ[]\n",
    "f = 4-5*x^2+x^4; show(\"f = \" + latex(f))"
   ]
  },
  {
   "cell_type": "code",
   "execution_count": 3,
   "metadata": {},
   "outputs": [
    {
     "data": {
      "text/html": [
       "<html><script type=\"math/tex; mode=display\">\\newcommand{\\Bold}[1]{\\mathbf{#1}}g_0 = x^{4} - 5 x^{2} + 4</script></html>"
      ],
      "text/plain": [
       "g_0 = x^{4} - 5 x^{2} + 4"
      ]
     },
     "metadata": {},
     "output_type": "display_data"
    }
   ],
   "source": [
    "# g_0 is just f\n",
    "g0 = f; show(\"g_0 = \" + latex(g0))"
   ]
  },
  {
   "cell_type": "code",
   "execution_count": 4,
   "metadata": {},
   "outputs": [
    {
     "data": {
      "text/html": [
       "<html><script type=\"math/tex; mode=display\">\\newcommand{\\Bold}[1]{\\mathbf{#1}}g_1 = 4 x^{3} - 10 x</script></html>"
      ],
      "text/plain": [
       "g_1 = 4 x^{3} - 10 x"
      ]
     },
     "metadata": {},
     "output_type": "display_data"
    }
   ],
   "source": [
    "# g_1 is the derivative of f\n",
    "g1 = f.derivative(); show(\"g_1 = \" + latex(g1))"
   ]
  },
  {
   "cell_type": "code",
   "execution_count": 5,
   "metadata": {},
   "outputs": [
    {
     "data": {
      "text/html": [
       "<html><script type=\"math/tex; mode=display\">\\newcommand{\\Bold}[1]{\\mathbf{#1}}g_2 = \\frac{5}{2} x^{2} - 4</script></html>"
      ],
      "text/plain": [
       "g_2 = \\frac{5}{2} x^{2} - 4"
      ]
     },
     "metadata": {},
     "output_type": "display_data"
    }
   ],
   "source": [
    "# next terms are minus remainders\n",
    "g2 = -g0.mod(g1); show(\"g_2 = \" + latex(g2))"
   ]
  },
  {
   "cell_type": "code",
   "execution_count": 6,
   "metadata": {},
   "outputs": [
    {
     "data": {
      "text/html": [
       "<html><script type=\"math/tex; mode=display\">\\newcommand{\\Bold}[1]{\\mathbf{#1}}g_3 = \\frac{18}{5} x</script></html>"
      ],
      "text/plain": [
       "g_3 = \\frac{18}{5} x"
      ]
     },
     "metadata": {},
     "output_type": "display_data"
    }
   ],
   "source": [
    "g3 = -g1.mod(g2); show(\"g_3 = \" + latex(g3))"
   ]
  },
  {
   "cell_type": "code",
   "execution_count": 7,
   "metadata": {},
   "outputs": [
    {
     "data": {
      "text/html": [
       "<html><script type=\"math/tex; mode=display\">\\newcommand{\\Bold}[1]{\\mathbf{#1}}g_4 = 4</script></html>"
      ],
      "text/plain": [
       "g_4 = 4"
      ]
     },
     "metadata": {},
     "output_type": "display_data"
    }
   ],
   "source": [
    "g4 = -g2.mod(g3); show(\"g_4 = \" + latex(g4))"
   ]
  },
  {
   "cell_type": "markdown",
   "metadata": {},
   "source": [
    "<p><strong>Exercise:</strong> Write a function that computes the Sturm sequence of a polynomial.</p>"
   ]
  },
  {
   "cell_type": "code",
   "execution_count": 8,
   "metadata": {},
   "outputs": [],
   "source": [
    "def Sturm_sequence( f ) :\n",
    "    \"\"\"\n",
    "    Given a polynomial `f` this function returns its Sturm sequence.\n",
    "    \"\"\"\n",
    "    # g_0 is just f, while g_1 is the derivative of f\n",
    "    g = f.derivative()\n",
    "    # append both to the list\n",
    "    G = [ f, g ]\n",
    "    # repeat till yu hit a constant\n",
    "    while not g.is_constant() :\n",
    "        # substitute f by g and g by the minus reminder...\n",
    "        f, g = g, -f.mod(g)\n",
    "        # ...and append it to the list\n",
    "        G.append(g)\n",
    "    return G"
   ]
  },
  {
   "cell_type": "code",
   "execution_count": 9,
   "metadata": {},
   "outputs": [
    {
     "data": {
      "text/html": [
       "<html><script type=\"math/tex; mode=display\">\\newcommand{\\Bold}[1]{\\mathbf{#1}}\\left[x^{4} - 5 x^{2} + 4, 4 x^{3} - 10 x, \\frac{5}{2} x^{2} - 4, \\frac{18}{5} x, 4\\right]</script></html>"
      ],
      "text/plain": [
       "[x^4 - 5*x^2 + 4, 4*x^3 - 10*x, 5/2*x^2 - 4, 18/5*x, 4]"
      ]
     },
     "metadata": {},
     "output_type": "display_data"
    }
   ],
   "source": [
    "# check with the previous example\n",
    "show( Sturm_sequence(f) )"
   ]
  },
  {
   "cell_type": "markdown",
   "metadata": {},
   "source": [
    "<p><strong>Exercise:</strong> Write a function that counts the number of essential sign changes in a list. Test it with $(1,3,-2,-4,5,17)$ and $(0,1,0,1,-1,0,0,-1,0,1,0,1)$.</p>"
   ]
  },
  {
   "cell_type": "code",
   "execution_count": 10,
   "metadata": {},
   "outputs": [],
   "source": [
    "def sign_changes( L ) :\n",
    "    \"\"\"\n",
    "    This function counts the number sign changes in `L`\n",
    "    \"\"\"\n",
    "    # remove all zeros and substitute each element by its signature\n",
    "    L = [ sgn(a) for a in L if a != 0 ]\n",
    "    # leave only those element that differs from it predecessors\n",
    "    S = [ L[j] for j in range(1, len(L)) if L[j] != L[j-1] ]\n",
    "    # the number of sign changes in L equals the length of S\n",
    "    return len(S)"
   ]
  },
  {
   "cell_type": "code",
   "execution_count": 11,
   "metadata": {},
   "outputs": [
    {
     "data": {
      "text/plain": [
       "2"
      ]
     },
     "execution_count": 11,
     "metadata": {},
     "output_type": "execute_result"
    }
   ],
   "source": [
    "sign_changes( [1,3,-2,-4,5,17] )"
   ]
  },
  {
   "cell_type": "code",
   "execution_count": null,
   "metadata": {},
   "outputs": [],
   "source": []
  },
  {
   "cell_type": "code",
   "execution_count": 12,
   "metadata": {},
   "outputs": [
    {
     "data": {
      "text/plain": [
       "2"
      ]
     },
     "execution_count": 12,
     "metadata": {},
     "output_type": "execute_result"
    }
   ],
   "source": [
    "sign_changes( [0,1,0,1,-1,0,0,-1,0,1,0,1] )"
   ]
  },
  {
   "cell_type": "code",
   "execution_count": 13,
   "metadata": {},
   "outputs": [],
   "source": [
    "# alternative solution - using an explicit loop\n",
    "\n",
    "def sign_changes( L ) :\n",
    "    \"\"\"\n",
    "    This function counts the number sign changes in `L`\n",
    "    \"\"\"\n",
    "    # initialize the counter to zero\n",
    "    counter = 0\n",
    "    # the initial signature is the signature of the first NONZERO term\n",
    "    for a in L :\n",
    "        if a != 0 :\n",
    "            s = sgn(a)\n",
    "            break\n",
    "    else :\n",
    "        return 0\n",
    "    # for every element of L\n",
    "    for a in L :\n",
    "        # if it has a different sign...\n",
    "        if sgn(a)*s < 0 :\n",
    "            # ...then remember this sign...\n",
    "            s = sgn(a)\n",
    "            # ...and increment the counter\n",
    "            counter += 1\n",
    "    return counter"
   ]
  },
  {
   "cell_type": "markdown",
   "metadata": {},
   "source": [
    "<p><strong>Exercise:</strong> How many real roots does $f=x^{5} - 5 x^{3} + 4 x - 1$ have? How many of them are positive?</p>"
   ]
  },
  {
   "cell_type": "code",
   "execution_count": 14,
   "metadata": {},
   "outputs": [
    {
     "data": {
      "text/html": [
       "<html><script type=\"math/tex; mode=display\">\\newcommand{\\Bold}[1]{\\mathbf{#1}}f= x^{5} - 5 x^{3} + 4 x - 1</script></html>"
      ],
      "text/plain": [
       "f= x^{5} - 5 x^{3} + 4 x - 1"
      ]
     },
     "metadata": {},
     "output_type": "display_data"
    }
   ],
   "source": [
    "# define a polynomial f\n",
    "f = x^5-5*x^3+4*x-1; show(\"f=\" + latex(f))"
   ]
  },
  {
   "cell_type": "code",
   "execution_count": 15,
   "metadata": {},
   "outputs": [
    {
     "data": {
      "text/html": [
       "<html><script type=\"math/tex; mode=display\">\\newcommand{\\Bold}[1]{\\mathbf{#1}}S = \\left[x^{5} - 5 x^{3} + 4 x - 1, 5 x^{4} - 15 x^{2} + 4, 2 x^{3} - \\frac{16}{5} x + 1, 7 x^{2} + \\frac{5}{2} x - 4, \\frac{883}{490} x - \\frac{29}{49}, \\frac{1889881}{779689}\\right]</script></html>"
      ],
      "text/plain": [
       "S = \\left[x^{5} - 5 x^{3} + 4 x - 1, 5 x^{4} - 15 x^{2} + 4, 2 x^{3} - \\frac{16}{5} x + 1, 7 x^{2} + \\frac{5}{2} x - 4, \\frac{883}{490} x - \\frac{29}{49}, \\frac{1889881}{779689}\\right]"
      ]
     },
     "metadata": {},
     "output_type": "display_data"
    }
   ],
   "source": [
    "# compute the Sturm sequence of f\n",
    "S = Sturm_sequence( f ); show(\"S = \" +latex(S))"
   ]
  },
  {
   "cell_type": "code",
   "execution_count": 16,
   "metadata": {},
   "outputs": [
    {
     "data": {
      "text/html": [
       "<html><script type=\"math/tex; mode=display\">\\newcommand{\\Bold}[1]{\\mathbf{#1}}S_+ = \\left[+\\infty, +\\infty, +\\infty, +\\infty, +\\infty, \\frac{1889881}{779689}\\right]</script></html>"
      ],
      "text/plain": [
       "S_+ = \\left[+\\infty, +\\infty, +\\infty, +\\infty, +\\infty, \\frac{1889881}{779689}\\right]"
      ]
     },
     "metadata": {},
     "output_type": "display_data"
    },
    {
     "data": {
      "text/html": [
       "<html><script type=\"math/tex; mode=display\">\\newcommand{\\Bold}[1]{\\mathbf{#1}}S_- = \\left[-\\infty, +\\infty, -\\infty, +\\infty, -\\infty, \\frac{1889881}{779689}\\right]</script></html>"
      ],
      "text/plain": [
       "S_- = \\left[-\\infty, +\\infty, -\\infty, +\\infty, -\\infty, \\frac{1889881}{779689}\\right]"
      ]
     },
     "metadata": {},
     "output_type": "display_data"
    }
   ],
   "source": [
    "# substitute $x = \\pm\\infty$. Warning Sage doesn't like an infinity to be substituted\n",
    "# into a constant polynomial, hence we just copy the last term verbatim\n",
    "Splus  = [ g(oo) for g in S[:-1] ] + [S[-1]]; show(\"S_+ = \" + latex(Splus))\n",
    "Sminus = [ g(-oo) for g in S[:-1] ] + [S[-1]]; show(\"S_- = \" + latex(Sminus))"
   ]
  },
  {
   "cell_type": "code",
   "execution_count": 17,
   "metadata": {},
   "outputs": [
    {
     "data": {
      "text/plain": [
       "5"
      ]
     },
     "execution_count": 17,
     "metadata": {},
     "output_type": "execute_result"
    }
   ],
   "source": [
    "# Sturm theorem asserts tham the number of sign changes in $S_-$ minus the\n",
    "# number of sign changes in $S_+$  equals the number of real roots of $f$\n",
    "sign_changes(Sminus) - sign_changes(Splus)"
   ]
  },
  {
   "cell_type": "code",
   "execution_count": 18,
   "metadata": {},
   "outputs": [
    {
     "data": {
      "text/html": [
       "<html><script type=\"math/tex; mode=display\">\\newcommand{\\Bold}[1]{\\mathbf{#1}}S_0 = \\left[-1, 4, 1, -4, -\\frac{29}{49}, \\frac{1889881}{779689}\\right]</script></html>"
      ],
      "text/plain": [
       "S_0 = \\left[-1, 4, 1, -4, -\\frac{29}{49}, \\frac{1889881}{779689}\\right]"
      ]
     },
     "metadata": {},
     "output_type": "display_data"
    }
   ],
   "source": [
    "# substitute x = 0\n",
    "S0 = [ g(0) for g in S ]; show(\"S_0 = \" + latex(S0))"
   ]
  },
  {
   "cell_type": "code",
   "execution_count": 19,
   "metadata": {},
   "outputs": [
    {
     "data": {
      "text/plain": [
       "3"
      ]
     },
     "execution_count": 19,
     "metadata": {},
     "output_type": "execute_result"
    }
   ],
   "source": [
    "# the number of real roots = sign changes in $S_0$ minus sign changes in $S_+$\n",
    "sign_changes(S0) - sign_changes(Splus)"
   ]
  },
  {
   "cell_type": "markdown",
   "metadata": {},
   "source": [
    "<p><strong>Exercise:</strong> Write a function that counts the number of roots $f$ siting in a real interval $(a,b)\\subset \\mathbb{R}\\cup \\{\\pm\\infty\\}$.</p>"
   ]
  },
  {
   "cell_type": "code",
   "execution_count": 20,
   "metadata": {},
   "outputs": [],
   "source": [
    "def count_roots( f, a=-oo, b=oo, S = [] ) :\n",
    "    \"\"\"\n",
    "    This function counts the number of roots of `f` in the interval `(a,b)`.\n",
    "    \n",
    "    The optional parameter `S` is the Sturm sequence of `f`, if it has already been computed.\n",
    "    \"\"\"\n",
    "    assert a < b, \"Improper interval!\"\n",
    "    \n",
    "    # if we don't have the Sturm sequence, then we must compute it\n",
    "    if S == [] :\n",
    "        S = Sturm_sequence( f )\n",
    "    # substitute the endpoint of the interval to the Sturm sequence\n",
    "    Sa = [ g(a) for g in S[:-1] ] + [S[-1]]\n",
    "    Sb = [ g(b) for g in S[:-1] ] + [S[-1]]\n",
    "    # return the difference of the numbers of sign changes\n",
    "    return sign_changes(Sa) - sign_changes(Sb)"
   ]
  },
  {
   "cell_type": "code",
   "execution_count": 21,
   "metadata": {},
   "outputs": [
    {
     "data": {
      "text/plain": [
       "5"
      ]
     },
     "execution_count": 21,
     "metadata": {},
     "output_type": "execute_result"
    }
   ],
   "source": [
    "# check with the previous example\n",
    "count_roots(x^5-5*x^3+4*x-1, -oo,oo)"
   ]
  },
  {
   "cell_type": "markdown",
   "metadata": {},
   "source": [
    "<h2>Real root isolation<strong><br /></strong></h2>\n",
    "<p><strong>Exercise:</strong> Write a function that isolates real roots of a given polynomial.</p>"
   ]
  },
  {
   "cell_type": "code",
   "execution_count": 77,
   "metadata": {},
   "outputs": [
    {
     "data": {
      "text/plain": []
     },
     "execution_count": 77,
     "metadata": {},
     "output_type": "execute_result"
    }
   ],
   "source": [
    "def root_isolation( f, (a,b), S = [] ) :\n",
    "    \"\"\"\n",
    "    This function takes the following arguments:\n",
    "        \n",
    "       - a polynomial `f`\n",
    "       \n",
    "       - an interval `(a,b)`\n",
    "       \n",
    "       - (optionally) the Sturm sequence of `f`\n",
    "       \n",
    "    as a result it return a list of pairs `( (a_j,b_j) : j ∊ {1,...,n} )` such that:\n",
    "        \n",
    "       - `f(a_j) = 0` iff `a_j = b_j`\n",
    "       \n",
    "       - `f` has precisely one root `x_j` s.t. `a_j < x_j < b_j`\n",
    "       \n",
    "    \"\"\"\n",
    "    assert a < b, \"Improper interval!\"\n",
    "    \n",
    "    # if a is infinite, then substitute it by a bound\n",
    "    if a == -oo :\n",
    "        a = -RDF( local_max(f) )\n",
    "    # if b is infinite, then substitute it by a bound\n",
    "    if b == oo :\n",
    "        b = RDF( local_max(f) )\n",
    "        \n",
    "    # the variable of our polynomial\n",
    "    x = f.parent().0\n",
    "\n",
    "    # if any of the endpoints is a root of f, then append it to the list\n",
    "    # and narrow the interval\n",
    "    if f(a) == 0 :\n",
    "        epsilon = RDF( 1/local_max(f(x+a).list()[::-1]) )\n",
    "        return [(a,a)] + root_isolation(f, (a+epsilon,b), S)\n",
    "    if f(b) == 0 :\n",
    "        epsilon = RDF( 1/local_max(f(x+b).list()[::-1]) )\n",
    "        return root_isolation(f, (a,b-epsilon), S) + [(b,b)]\n",
    "        \n",
    "    # compute the Sturm sequence if it is not provided\n",
    "    if S == [] :\n",
    "        S = Sturm_sequence( f )\n",
    "    # count the number of root of f in (a,b)\n",
    "    p = count_roots(f, (a,b), S )\n",
    "    # if f has no roots, then return an empty list\n",
    "    if p == 0 :\n",
    "        return []\n",
    "    # if f has just one root then we are done\n",
    "    if p == 1 :\n",
    "        return [(a,b)]\n",
    "    # otherwise bisect the interval and call the function recursively for each half\n",
    "    if p > 1 :\n",
    "        c = (a+b)/2\n",
    "        # this \"if\" protects us again c being counted twice\n",
    "        if f(c) != 0 :\n",
    "            return root_isolation(f, (a,c), S) + root_isolation(f, (c,b), S)\n",
    "        else :\n",
    "            epsilon = RDF(1/local_max(f(x-c).list()[::-1]))\n",
    "            return root_isolation(f, (a,c-epsilon), S) + [(c,c)] + root_isolation(f, (c+epsilon,b), S)"
   ]
  },
  {
   "cell_type": "code",
   "execution_count": 79,
   "metadata": {},
   "outputs": [
    {
     "data": {
      "text/plain": [
       "[(-3.1622776601683795, -1.5811388300841898),\n",
       " (-1.5811388300841898, 0.0),\n",
       " (0.0, 0.7905694150420949),\n",
       " (0.7905694150420949, 1.5811388300841898),\n",
       " (1.5811388300841898, 3.1622776601683795)]"
      ]
     },
     "execution_count": 79,
     "metadata": {},
     "output_type": "execute_result"
    }
   ],
   "source": [
    "# check with the previous example\n",
    "f = x^5-5*x^3+4*x-1\n",
    "L = root_isolation(f, (-oo,oo)); L"
   ]
  },
  {
   "cell_type": "code",
   "execution_count": 80,
   "metadata": {},
   "outputs": [
    {
     "data": {
      "text/plain": []
     },
     "execution_count": 80,
     "metadata": {},
     "output_type": "execute_result"
    }
   ],
   "source": [
    "for (a,b) in L :\n",
    "    if a < b :\n",
    "        f.plot( a,b, figsize = 4 )"
   ]
  },
  {
   "cell_type": "markdown",
   "metadata": {},
   "source": [
    "<p><strong>Exercise: </strong>Improve the solution of the previous exercise, so that neither $f'$ nor $f\"$ has a root in any of the return intervals.</p>"
   ]
  },
  {
   "cell_type": "code",
   "execution_count": 81,
   "metadata": {},
   "outputs": [
    {
     "data": {
      "text/plain": []
     },
     "execution_count": 81,
     "metadata": {},
     "output_type": "execute_result"
    }
   ],
   "source": [
    "def root_isolation( f, (a,b), S = [] ) :\n",
    "    \"\"\"\n",
    "    This function takes the following arguments:\n",
    "        \n",
    "       - a polynomial `f`\n",
    "       \n",
    "       - an interval `(a,b)`\n",
    "       \n",
    "       - (optionally) the Sturm sequence of `f`\n",
    "       \n",
    "    as a result it return a list of pairs `( (a_j,b_j) : j ∊ {1,...,n} )` such that:\n",
    "        \n",
    "       - `f(a_j) = 0` iff `a_j = b_j`\n",
    "       \n",
    "       - `f` has precisely one root `x_j` s.t. `a_j < x_j < b_j`\n",
    "       \n",
    "       - `f'`, `f\"` have not roots in `(a_j, b_j)` for every `j`\n",
    "       \n",
    "    \"\"\"\n",
    "    assert a < b, \"Improper interval!\"\n",
    "\n",
    "    # if a is infinite, then substitute it by a bound\n",
    "    if a == -oo :\n",
    "        a = -RDF( local_max(f) )\n",
    "    # if b is infinite, then substitute it by a bound\n",
    "    if b == oo :\n",
    "        b = RDF( local_max(f) )\n",
    "        \n",
    "    # the variable of our polynomial\n",
    "    x = f.parent().0\n",
    "\n",
    "    # if any of the endpoints is a root of f, then append it to the list\n",
    "    # and narrow the interval\n",
    "    if f(a) == 0 :\n",
    "        epsilon = RDF( 1/local_max(f(x+a).list()[::-1]) )\n",
    "        return [(a,a)] + root_isolation(f, (a+epsilon,b), S)\n",
    "    if f(b) == 0 :\n",
    "        epsilon = RDF( 1/local_max(f(x+b).list()[::-1]) )\n",
    "        return root_isolation(f, (a,b-epsilon), S) + [(b,b)]\n",
    "        \n",
    "    # compute the Sturm sequence if it is not provided\n",
    "    if S == [] :\n",
    "        S = Sturm_sequence( f )\n",
    "    # count the number of root of f in (a,b)\n",
    "    p = count_roots(f, (a,b), S )\n",
    "    # if f has no roots, then return an empty list\n",
    "    if p == 0 :\n",
    "        return []\n",
    "\n",
    "    # if `f` has just one root, then count the number of roots of its derivatives\n",
    "    if p == 1 :\n",
    "        fp = f.derivative()\n",
    "        fpp = f.derivative(2)\n",
    "        pp = count_roots(fp, (a,b))\n",
    "        ppp = count_roots(fpp, (a,b))\n",
    "        # if they bot do not have roots, then we are done\n",
    "        if pp == 0 and ppp == 0 :\n",
    "            return [(a,b)]\n",
    "            \n",
    "    # otherwise bisect the interval and call the function recursively for each half\n",
    "    c = (a+b)/2\n",
    "    # this \"if\" protects us again c being counted twice\n",
    "    if f(c) != 0 :\n",
    "        L = root_isolation(f, (a,c), S)\n",
    "        U = root_isolation(f, (c,b), S)\n",
    "        return L + U\n",
    "    else :\n",
    "        epsilon = RDF(1/local_max(f(x-c).list()[::-1]))\n",
    "        return root_isolation(f, (a,c-epsilon), S) + [(c,c)] + root_isolation(f, (c+epsilon,b), S)"
   ]
  },
  {
   "cell_type": "code",
   "execution_count": 83,
   "metadata": {},
   "outputs": [
    {
     "data": {
      "text/plain": [
       "[(-1.9764235376052373, -1.7787811838447136),\n",
       " (-1.1858541225631423, -0.7905694150420949),\n",
       " (0.0, 0.39528470752104744),\n",
       " (0.7905694150420949, 1.1858541225631423),\n",
       " (1.9764235376052373, 2.3717082451262845)]"
      ]
     },
     "execution_count": 83,
     "metadata": {},
     "output_type": "execute_result"
    }
   ],
   "source": [
    "# check with the previous example\n",
    "f = x^5-5*x^3+4*x-1\n",
    "L = root_isolation(f, (-oo,oo)); L"
   ]
  },
  {
   "cell_type": "code",
   "execution_count": 84,
   "metadata": {},
   "outputs": [
    {
     "data": {
      "text/plain": []
     },
     "execution_count": 84,
     "metadata": {},
     "output_type": "execute_result"
    }
   ],
   "source": [
    "for (a,b) in L :\n",
    "    if a < b :\n",
    "        f.plot( a,b, figsize = 4 )"
   ]
  },
  {
   "cell_type": "code",
   "execution_count": 163,
   "metadata": {},
   "outputs": [
    {
     "data": {
      "text/plain": []
     },
     "execution_count": 163,
     "metadata": {},
     "output_type": "execute_result"
    }
   ],
   "source": []
  }
 ],
 "metadata": {
  "kernelspec": {
   "display_name": "SageMath 9.0",
   "language": "sage",
   "name": "sagemath"
  },
  "language": "python",
  "language_info": {
   "codemirror_mode": {
    "name": "ipython",
    "version": 3
   },
   "file_extension": ".py",
   "mimetype": "text/x-python",
   "name": "python",
   "nbconvert_exporter": "python",
   "pygments_lexer": "ipython3",
   "version": "3.7.6"
  }
 },
 "nbformat": 4,
 "nbformat_minor": 4
}
