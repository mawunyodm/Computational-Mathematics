{
 "cells": [
  {
   "cell_type": "markdown",
   "metadata": {},
   "source": [
    "<h1>Exercise set 1: introduction to Sage</h1>\n",
    "<h2>Arithemtic expressions</h2>\n",
    "<p>Sage commands are entered into the input box. The command is then executed by pressing <span style=\"font-family: courier new,courier;\">Shift+Enter</span> (or clicking the 'Evaluate' button). Check it on this example:</p>"
   ]
  },
  {
   "cell_type": "code",
   "execution_count": 1,
   "metadata": {},
   "outputs": [
    {
     "data": {
      "text/plain": [
       "4"
      ]
     },
     "execution_count": 1,
     "metadata": {},
     "output_type": "execute_result"
    }
   ],
   "source": [
    "2+2"
   ]
  },
  {
   "cell_type": "markdown",
   "metadata": {},
   "source": [
    "<p>The basic arithmetic operations are: +, -, * (multiplication), / (division), ^ (exponentiation), <span style=\"font-family: courier new,courier;\">sqrt</span>( ) (square root), <span style=\"font-family: courier new,courier;\">factor</span>( ) factorization.</p>\n",
    "<p><strong>Exercise:</strong> Compute:</p>\n",
    "<ul>\n",
    "<li>$\\displaystyle\\frac{\\bigl(152\\frac{3}{4}-148\\frac{3}{8}\\bigr)\\cdot \\frac{3}{10}}{\\frac{2}{10}}$</li>\n",
    "<li>factor the expression $\\displaystyle37^{21}-73^{12}$</li>\n",
    "</ul>"
   ]
  },
  {
   "cell_type": "code",
   "execution_count": 2,
   "metadata": {},
   "outputs": [
    {
     "data": {
      "text/plain": [
       "105/16"
      ]
     },
     "execution_count": 2,
     "metadata": {},
     "output_type": "execute_result"
    }
   ],
   "source": [
    "( (152+3/4-148-3/8)*3/10 )/(2/10)"
   ]
  },
  {
   "cell_type": "code",
   "execution_count": 3,
   "metadata": {},
   "outputs": [
    {
     "data": {
      "text/plain": [
       "2^2 * 3^3 * 7 * 15233 * 173059 * 429274190513357405563"
      ]
     },
     "execution_count": 3,
     "metadata": {},
     "output_type": "execute_result"
    }
   ],
   "source": [
    "factor( 37^21 - 73^12 )"
   ]
  },
  {
   "cell_type": "markdown",
   "metadata": {},
   "source": [
    "<p>The symbol _ (i.e. underline) is the result of the last computation. <span style=\"font-family: courier new,courier;\">QQ</span> denotes the field of rationals, <span style=\"font-family: courier new,courier;\">RR</span> the field of reals (floating point), <span style=\"font-family: courier new,courier;\">CC</span> the field of complex numbers (floating point), <span style=\"font-family: courier new,courier;\">GF(p)</span> is the finite field (a.k.a. Galois field) $\\mathbb{Z}_p = \\mathbb{F}_p$, of cardinality $p$,... Execute the two cells below.</p>"
   ]
  },
  {
   "cell_type": "code",
   "execution_count": 4,
   "metadata": {},
   "outputs": [
    {
     "data": {
      "text/plain": [
       "2.60000000000000"
      ]
     },
     "execution_count": 4,
     "metadata": {},
     "output_type": "execute_result"
    }
   ],
   "source": [
    "1.3*2"
   ]
  },
  {
   "cell_type": "code",
   "execution_count": 5,
   "metadata": {},
   "outputs": [
    {
     "data": {
      "text/plain": [
       "13/5"
      ]
     },
     "execution_count": 5,
     "metadata": {},
     "output_type": "execute_result"
    }
   ],
   "source": [
    "QQ(_)"
   ]
  },
  {
   "cell_type": "markdown",
   "metadata": {},
   "source": [
    "<p><strong><strong>Exercise</strong>:</strong> Convert:</p>\n",
    "<ul>\n",
    "<li>$\\displaystyle\\frac{2.045\\cdot 0.033+10.518395-0.464774:0.0562}{0.003092/0.0001-5.188}$ to a regular fraction</li>\n",
    "<li>$\\displaystyle\\bigl(1+\\frac{3}{17}\\bigr)\\cdot \\bigl(1-\\frac{7}{13}\\bigr)^{-1}$ to a decimal fraction</li>\n",
    "</ul>"
   ]
  },
  {
   "cell_type": "code",
   "execution_count": 6,
   "metadata": {},
   "outputs": [
    {
     "data": {
      "text/plain": [
       "0.0900000000000000"
      ]
     },
     "execution_count": 6,
     "metadata": {},
     "output_type": "execute_result"
    }
   ],
   "source": [
    "(2.045*0.033 + 10.518395 - 0.464774/0.0562)/(0.003092/0.0001 - 5.188)"
   ]
  },
  {
   "cell_type": "code",
   "execution_count": 7,
   "metadata": {},
   "outputs": [
    {
     "data": {
      "text/plain": [
       "9/100"
      ]
     },
     "execution_count": 7,
     "metadata": {},
     "output_type": "execute_result"
    }
   ],
   "source": [
    "QQ(_)"
   ]
  },
  {
   "cell_type": "code",
   "execution_count": 8,
   "metadata": {},
   "outputs": [
    {
     "data": {
      "text/plain": [
       "130/51"
      ]
     },
     "execution_count": 8,
     "metadata": {},
     "output_type": "execute_result"
    }
   ],
   "source": [
    "(1+3/17)*(1-7/13)^(-1)"
   ]
  },
  {
   "cell_type": "code",
   "execution_count": 9,
   "metadata": {},
   "outputs": [
    {
     "data": {
      "text/plain": [
       "2.54901960784314"
      ]
     },
     "execution_count": 9,
     "metadata": {},
     "output_type": "execute_result"
    }
   ],
   "source": [
    "RR(_)"
   ]
  },
  {
   "cell_type": "markdown",
   "metadata": {},
   "source": [
    "<p><strong><strong>Exercise</strong>:</strong> In the field $\\mathbb{F}_{347}$ compute $(13+\\frac{43}{23})^{11}$.</p>"
   ]
  },
  {
   "cell_type": "code",
   "execution_count": 10,
   "metadata": {},
   "outputs": [
    {
     "data": {
      "text/plain": [
       "265"
      ]
     },
     "execution_count": 10,
     "metadata": {},
     "output_type": "execute_result"
    }
   ],
   "source": [
    "( GF(347)(13) + GF(347)(43)/23 )^11"
   ]
  },
  {
   "cell_type": "markdown",
   "metadata": {},
   "source": [
    "<ul>\n",
    "<li><span style=\"color: #3366ff; font-size: medium;\">In order to get some help about a given function/method in Sage, enter the name of the function together with an opening parentheses and press '<span style=\"font-family: courier new,courier;\">Tab</span>'.</span></li>\n",
    "<li><span style=\"color: #3366ff; font-size: medium;\">In order to get the list of all functions/methods enter the first few letter and press  '<span style=\"font-family: courier new,courier;\">Tab</span>' (without the parentheses)</span></li>\n",
    "</ul>\n",
    "<p><span style=\"font-family: courier new,courier;\">mod</span> = remainder of integer division, <span style=\"font-family: courier new,courier;\">gcd</span> = greatest common divisor, <span style=\"font-family: courier new,courier;\">lcm</span> = least common multiple</p>\n",
    "<ul>\n",
    "<li><span style=\"color: #3366ff;\">Most of Sage command are not stand-alone function but object methods executed as <em>object.method</em>.</span></li>\n",
    "</ul>\n",
    "<p><strong>Exercise:</strong> Compute: $\\gcd( (7 \\bmod 5)^3, (13 \\bmod 7)^2 )$</p>"
   ]
  },
  {
   "cell_type": "code",
   "execution_count": 11,
   "metadata": {},
   "outputs": [
    {
     "data": {
      "text/plain": [
       "4"
      ]
     },
     "execution_count": 11,
     "metadata": {},
     "output_type": "execute_result"
    }
   ],
   "source": [
    "gcd( 7.mod(5)^3, 13.mod(7)^2 )"
   ]
  },
  {
   "cell_type": "markdown",
   "metadata": {},
   "source": [
    "<p><strong><strong>Exercise</strong>:</strong> Compute $\\gcd(691787250, 27824160)$.</p>"
   ]
  },
  {
   "cell_type": "code",
   "execution_count": 12,
   "metadata": {},
   "outputs": [
    {
     "data": {
      "text/plain": [
       "210"
      ]
     },
     "execution_count": 12,
     "metadata": {},
     "output_type": "execute_result"
    }
   ],
   "source": [
    "gcd(691787250, 27824160)"
   ]
  },
  {
   "cell_type": "markdown",
   "metadata": {},
   "source": [
    "<ul>\n",
    "<li><span style=\"color: #3366ff;\">The parent() method returns the set/category from which a given object comes.</span></li>\n",
    "</ul>\n",
    "<p><strong>Exercise:</strong> Try the following examples showing how to force Sage to treat $\\frac{6}{3}$ as an integers.</p>"
   ]
  },
  {
   "cell_type": "code",
   "execution_count": 13,
   "metadata": {},
   "outputs": [
    {
     "data": {
      "text/plain": [
       "Integer Ring"
      ]
     },
     "execution_count": 13,
     "metadata": {},
     "output_type": "execute_result"
    }
   ],
   "source": [
    "2.parent()"
   ]
  },
  {
   "cell_type": "code",
   "execution_count": 14,
   "metadata": {},
   "outputs": [
    {
     "data": {
      "text/plain": [
       "Rational Field"
      ]
     },
     "execution_count": 14,
     "metadata": {},
     "output_type": "execute_result"
    }
   ],
   "source": [
    "(6/3).parent()"
   ]
  },
  {
   "cell_type": "code",
   "execution_count": 15,
   "metadata": {},
   "outputs": [
    {
     "data": {
      "text/plain": [
       "Integer Ring"
      ]
     },
     "execution_count": 15,
     "metadata": {},
     "output_type": "execute_result"
    }
   ],
   "source": [
    "ZZ(6/3).parent()"
   ]
  },
  {
   "cell_type": "code",
   "execution_count": 16,
   "metadata": {},
   "outputs": [
    {
     "data": {
      "text/plain": [
       "Integer Ring"
      ]
     },
     "execution_count": 16,
     "metadata": {},
     "output_type": "execute_result"
    }
   ],
   "source": [
    "# alternative\n",
    "(6//3).parent()"
   ]
  },
  {
   "cell_type": "markdown",
   "metadata": {},
   "source": [
    "<p>Trigonometric functions: <span style=\"font-family: courier new,courier;\">sin, cos, tan, cot</span>.</p>\n",
    "<p><strong>Exercise:</strong> Evaluate an expression \\[ \\frac{\\sin^2(\\frac{2\\pi}{3})\\cdot\\cos(-\\pi)}{\\tan(-\\frac{3\\pi}{4})\\cdot\\cot(\\frac{9\\pi}{4})} \\]</p>"
   ]
  },
  {
   "cell_type": "code",
   "execution_count": 17,
   "metadata": {},
   "outputs": [
    {
     "data": {
      "text/plain": [
       "-1/2*sqrt(3)"
      ]
     },
     "execution_count": 17,
     "metadata": {},
     "output_type": "execute_result"
    }
   ],
   "source": [
    "( sin(2*pi/3)*cos(-pi) )/( tan(-3*pi/4)*cot(9*pi/4) )"
   ]
  },
  {
   "cell_type": "code",
   "execution_count": 18,
   "metadata": {},
   "outputs": [
    {
     "data": {
      "text/html": [
       "<html><script type=\"math/tex; mode=display\">\\newcommand{\\Bold}[1]{\\mathbf{#1}}-\\frac{1}{2} \\, \\sqrt{3}</script></html>"
      ],
      "text/plain": [
       "-1/2*sqrt(3)"
      ]
     },
     "metadata": {},
     "output_type": "display_data"
    }
   ],
   "source": [
    "show(_)"
   ]
  },
  {
   "cell_type": "markdown",
   "metadata": {},
   "source": [
    "<p><strong>Exercise:</strong> Evaluate an expression \\[\\frac{9\\sin(\\pi-\\frac{\\pi}{6})-4\\cos(\\frac{4\\pi}{3})+12\\sin(\\frac{10\\pi}{3})}{3\\sin(-\\frac{\\pi}{4})-2\\cos(-\\frac{7\\pi}{3})} \\]</p>"
   ]
  },
  {
   "cell_type": "code",
   "execution_count": 19,
   "metadata": {},
   "outputs": [
    {
     "data": {
      "text/plain": [
       "(12*sqrt(3) - 13)/(3*sqrt(2) + 2)"
      ]
     },
     "execution_count": 19,
     "metadata": {},
     "output_type": "execute_result"
    }
   ],
   "source": [
    "( 9*sin(pi-pi/6)-4*cos(4*pi/3)+12*sin(10*pi/3) )/( 3*sin(-pi/4)-2*cos(-7*pi/3) )"
   ]
  },
  {
   "cell_type": "code",
   "execution_count": 20,
   "metadata": {},
   "outputs": [
    {
     "data": {
      "text/html": [
       "<html><script type=\"math/tex; mode=display\">\\newcommand{\\Bold}[1]{\\mathbf{#1}}\\frac{12 \\, \\sqrt{3} - 13}{3 \\, \\sqrt{2} + 2}</script></html>"
      ],
      "text/plain": [
       "(12*sqrt(3) - 13)/(3*sqrt(2) + 2)"
      ]
     },
     "metadata": {},
     "output_type": "display_data"
    }
   ],
   "source": [
    "show(_)"
   ]
  },
  {
   "cell_type": "markdown",
   "metadata": {},
   "source": [
    "<h2>Variables and algebraic expressions</h2>\n",
    "<p>Command <span style=\"font-family: courier new,courier;\">var</span>('<span style=\"color: #ff0000;\"><em>variable names</em></span>') declares new variables (symbols).</p>\n",
    "<p><strong>Exercise:</strong> Define a variable $t$, assign it a value of 10, evaluate $t^2$.</p>"
   ]
  },
  {
   "cell_type": "code",
   "execution_count": 22,
   "metadata": {},
   "outputs": [
    {
     "data": {
      "text/html": [
       "<html><script type=\"math/tex; mode=display\">\\newcommand{\\Bold}[1]{\\mathbf{#1}}t^2 = 100</script></html>"
      ],
      "text/plain": [
       "t^2 = 100"
      ]
     },
     "metadata": {},
     "output_type": "display_data"
    }
   ],
   "source": [
    "var('t')\n",
    "t = 10\n",
    "show(\"t^2 = \" + latex(t^2))"
   ]
  },
  {
   "cell_type": "markdown",
   "metadata": {},
   "source": [
    "<p>If you do not assign a value to a variable, that it stays unassigned and is evaluated as a symbolic constant.<strong><br /></strong></p>\n",
    "<p><strong>Exercise:</strong> Define a variable <span style=\"font-family: courier new,courier;\">blahblahblah</span>. Evaluate an expression $(t + \\text{blahblahblah} )\\cdot  (t - \\text{blahblahblah} )$</p>"
   ]
  },
  {
   "cell_type": "code",
   "execution_count": 23,
   "metadata": {},
   "outputs": [
    {
     "data": {
      "text/plain": [
       "-(blahblahblah + 10)*(blahblahblah - 10)"
      ]
     },
     "execution_count": 23,
     "metadata": {},
     "output_type": "execute_result"
    }
   ],
   "source": [
    "var('blahblahblah')\n",
    "(t + blahblahblah)*(t - blahblahblah)"
   ]
  },
  {
   "cell_type": "markdown",
   "metadata": {},
   "source": [
    "<ul>\n",
    "<li><span style=\"color: #3366ff;\">Basic simplifications of algebraic expressions are performed with the following commands: e<span style=\"font-family: courier new,courier;\">xpand, factor, simplify</span>.</span></li>\n",
    "</ul>\n",
    "<p><strong><strong>Exercise</strong>:</strong> Define variables $a,b,c$. Simplify the expression $(a^2-b^2-c^2+2bc)\\colon \\frac{a+b-c}{a+b+c}$</p>"
   ]
  },
  {
   "cell_type": "code",
   "execution_count": 24,
   "metadata": {},
   "outputs": [
    {
     "data": {
      "text/plain": [
       "(a + b + c)*(a - b + c)"
      ]
     },
     "execution_count": 24,
     "metadata": {},
     "output_type": "execute_result"
    }
   ],
   "source": [
    "var('a,b,c')\n",
    "factor( (a^2-b^2-c^2+2*b*c)/((a+b-c)/(a+b+c)) )"
   ]
  },
  {
   "cell_type": "markdown",
   "metadata": {},
   "source": [
    "<p><strong><strong>Exercise</strong>:</strong> Enter the following expression: \\[ a^{\\frac12}-\\frac{a-a^{-2}}{a^{\\frac12}-a^{-\\frac12}} +\\frac{1-a^{-2}}{a^{\\frac12}+a^{-\\frac12}} + \\frac{2}{a^{\\frac32}} \\] Try to simplify it using the above commands. Try also the method <span style=\"font-family: courier new,courier;\">simplify_full.</span></p>"
   ]
  },
  {
   "cell_type": "code",
   "execution_count": 26,
   "metadata": {},
   "outputs": [
    {
     "data": {
      "text/html": [
       "<html><script type=\"math/tex; mode=display\">\\newcommand{\\Bold}[1]{\\mathbf{#1}}\\sqrt{a} - \\frac{a - \\frac{1}{a^{2}}}{\\sqrt{a} - \\frac{1}{\\sqrt{a}}} - \\frac{\\frac{1}{a^{2}} - 1}{\\sqrt{a} + \\frac{1}{\\sqrt{a}}} + \\frac{2}{a^{\\frac{3}{2}}}</script></html>"
      ],
      "text/plain": [
       "sqrt(a) - (a - 1/a^2)/(sqrt(a) - 1/sqrt(a)) - (1/a^2 - 1)/(sqrt(a) + 1/sqrt(a)) + 2/a^(3/2)"
      ]
     },
     "metadata": {},
     "output_type": "display_data"
    }
   ],
   "source": [
    "w = a^(1/2) - (a-a^(-2))/(a^(1/2)-a^(-1/2)) + (1-a^(-2))/(a^(1/2)+a^(-1/2)) + 2/a^(3/2); show(w)"
   ]
  },
  {
   "cell_type": "code",
   "execution_count": 27,
   "metadata": {},
   "outputs": [
    {
     "data": {
      "text/html": [
       "<html><script type=\"math/tex; mode=display\">\\newcommand{\\Bold}[1]{\\mathbf{#1}}\\sqrt{a} - \\frac{a - \\frac{1}{a^{2}}}{\\sqrt{a} - \\frac{1}{\\sqrt{a}}} - \\frac{\\frac{1}{a^{2}} - 1}{\\sqrt{a} + \\frac{1}{\\sqrt{a}}} + \\frac{2}{a^{\\frac{3}{2}}}</script></html>"
      ],
      "text/plain": [
       "sqrt(a) - (a - 1/a^2)/(sqrt(a) - 1/sqrt(a)) - (1/a^2 - 1)/(sqrt(a) + 1/sqrt(a)) + 2/a^(3/2)"
      ]
     },
     "metadata": {},
     "output_type": "display_data"
    }
   ],
   "source": [
    "show( w.simplify() )"
   ]
  },
  {
   "cell_type": "code",
   "execution_count": 28,
   "metadata": {},
   "outputs": [
    {
     "data": {
      "text/html": [
       "<html><script type=\"math/tex; mode=display\">\\newcommand{\\Bold}[1]{\\mathbf{#1}}\\sqrt{a} - \\frac{a}{\\sqrt{a} - \\frac{1}{\\sqrt{a}}} + \\frac{1}{\\sqrt{a} + \\frac{1}{\\sqrt{a}}} + \\frac{2}{a^{\\frac{3}{2}}} - \\frac{1}{a^{2} {\\left(\\sqrt{a} + \\frac{1}{\\sqrt{a}}\\right)}} + \\frac{1}{a^{2} {\\left(\\sqrt{a} - \\frac{1}{\\sqrt{a}}\\right)}}</script></html>"
      ],
      "text/plain": [
       "sqrt(a) - a/(sqrt(a) - 1/sqrt(a)) + 1/(sqrt(a) + 1/sqrt(a)) + 2/a^(3/2) - 1/(a^2*(sqrt(a) + 1/sqrt(a))) + 1/(a^2*(sqrt(a) - 1/sqrt(a)))"
      ]
     },
     "metadata": {},
     "output_type": "display_data"
    }
   ],
   "source": [
    "show( w.expand() )"
   ]
  },
  {
   "cell_type": "code",
   "execution_count": 29,
   "metadata": {},
   "outputs": [
    {
     "data": {
      "text/html": [
       "<html><script type=\"math/tex; mode=display\">\\newcommand{\\Bold}[1]{\\mathbf{#1}}0</script></html>"
      ],
      "text/plain": [
       "0"
      ]
     },
     "metadata": {},
     "output_type": "display_data"
    }
   ],
   "source": [
    "show( w.factor() )"
   ]
  },
  {
   "cell_type": "code",
   "execution_count": 30,
   "metadata": {},
   "outputs": [
    {
     "data": {
      "text/html": [
       "<html><script type=\"math/tex; mode=display\">\\newcommand{\\Bold}[1]{\\mathbf{#1}}0</script></html>"
      ],
      "text/plain": [
       "0"
      ]
     },
     "metadata": {},
     "output_type": "display_data"
    }
   ],
   "source": [
    "show( w.simplify_full() )"
   ]
  },
  {
   "cell_type": "markdown",
   "metadata": {},
   "source": [
    "<p>A method <span style=\"font-family: courier new,courier;\">simplify_trig</span>, as the name suggests, simplifies trigonometric expressions. </p>\n",
    "<p><strong>Expression:</strong> Simplify an expression \\[ \\frac{1-2\\cos(\\alpha)^2}{\\sin(\\alpha)\\cos(\\alpha)}-\\tan(\\alpha) \\]</p>"
   ]
  },
  {
   "cell_type": "code",
   "execution_count": 31,
   "metadata": {},
   "outputs": [
    {
     "data": {
      "text/html": [
       "<html><script type=\"math/tex; mode=display\">\\newcommand{\\Bold}[1]{\\mathbf{#1}}w = -\\frac{2 \\, \\cos\\left(\\alpha\\right)^{2} - 1}{\\cos\\left(\\alpha\\right) \\sin\\left(\\alpha\\right)} - \\tan\\left(\\alpha\\right)</script></html>"
      ],
      "text/plain": [
       "w = -\\frac{2 \\, \\cos\\left(\\alpha\\right)^{2} - 1}{\\cos\\left(\\alpha\\right) \\sin\\left(\\alpha\\right)} - \\tan\\left(\\alpha\\right)"
      ]
     },
     "metadata": {},
     "output_type": "display_data"
    }
   ],
   "source": [
    "var('alpha')\n",
    "w = ( 1-2*cos(alpha)^2 )/( sin(alpha)*cos(alpha) ) - tan(alpha)\n",
    "show(\"w = \" + latex(w))"
   ]
  },
  {
   "cell_type": "code",
   "execution_count": 32,
   "metadata": {},
   "outputs": [
    {
     "data": {
      "text/html": [
       "<html><script type=\"math/tex; mode=display\">\\newcommand{\\Bold}[1]{\\mathbf{#1}}w = -\\frac{\\cos\\left(\\alpha\\right)}{\\sin\\left(\\alpha\\right)}</script></html>"
      ],
      "text/plain": [
       "w = -\\frac{\\cos\\left(\\alpha\\right)}{\\sin\\left(\\alpha\\right)}"
      ]
     },
     "metadata": {},
     "output_type": "display_data"
    }
   ],
   "source": [
    "show(\"w = \" + latex(w.simplify_full()) )"
   ]
  },
  {
   "cell_type": "markdown",
   "metadata": {},
   "source": [
    "<h2>Matrices</h2>\n",
    "<p>A matrix is declared as: <span style=\"font-family: courier new,courier;\">matrix</span>( <span style=\"color: #ff0000;\"><em>ring of coefficients</em></span>, [ [<span style=\"color: #ff0000;\"><em>raw</em></span>], [<span style=\"color: #ff0000;\"><em>raw</em></span>],..., [<span style=\"color: #ff0000;\"><em>raw</em></span>] ] )</p>\n",
    "<p><strong><strong>Exercise</strong>:</strong> Enter the following matrices: \\[ A = \\begin{bmatrix} 1 & 3 & 2\\\\ 0 & 1 & 4\\end{bmatrix},\\qquad B = \\begin{bmatrix} 1 & 2\\\\ 4 & 5\\\\ 2 & 2\\end{bmatrix},\\qquad C = \\begin{bmatrix} 2 & 3\\\\ 4 & 1\\\\ 2 & 5\\end{bmatrix} \\] Compute $\\bigl( A\\cdot (B+C)\\bigr)^{-1}$.</p>"
   ]
  },
  {
   "cell_type": "code",
   "execution_count": 35,
   "metadata": {},
   "outputs": [
    {
     "data": {
      "text/html": [
       "<html><script type=\"math/tex; mode=display\">\\newcommand{\\Bold}[1]{\\mathbf{#1}}A = \\left(\\begin{array}{rrr}\n",
       "1 & 3 & 2 \\\\\n",
       "0 & 1 & 4\n",
       "\\end{array}\\right)</script></html>"
      ],
      "text/plain": [
       "A = \\left(\\begin{array}{rrr}\n",
       "1 & 3 & 2 \\\\\n",
       "0 & 1 & 4\n",
       "\\end{array}\\right)"
      ]
     },
     "metadata": {},
     "output_type": "display_data"
    },
    {
     "data": {
      "text/html": [
       "<html><script type=\"math/tex; mode=display\">\\newcommand{\\Bold}[1]{\\mathbf{#1}}B = \\left(\\begin{array}{rr}\n",
       "1 & 2 \\\\\n",
       "4 & 5 \\\\\n",
       "2 & 2\n",
       "\\end{array}\\right)</script></html>"
      ],
      "text/plain": [
       "B = \\left(\\begin{array}{rr}\n",
       "1 & 2 \\\\\n",
       "4 & 5 \\\\\n",
       "2 & 2\n",
       "\\end{array}\\right)"
      ]
     },
     "metadata": {},
     "output_type": "display_data"
    },
    {
     "data": {
      "text/html": [
       "<html><script type=\"math/tex; mode=display\">\\newcommand{\\Bold}[1]{\\mathbf{#1}}C = \\left(\\begin{array}{rr}\n",
       "2 & 3 \\\\\n",
       "4 & 1 \\\\\n",
       "2 & 5\n",
       "\\end{array}\\right)</script></html>"
      ],
      "text/plain": [
       "C = \\left(\\begin{array}{rr}\n",
       "2 & 3 \\\\\n",
       "4 & 1 \\\\\n",
       "2 & 5\n",
       "\\end{array}\\right)"
      ]
     },
     "metadata": {},
     "output_type": "display_data"
    }
   ],
   "source": [
    "A = matrix(QQ, [[1,3,2],[0,1,4]] ); show(\"A = \" + latex(A))\n",
    "B = matrix(QQ, [[1,2],[4,5],[2,2]] ); show(\"B = \" + latex(B))\n",
    "C = matrix(QQ, [[2,3],[4,1],[2,5]] ); show(\"C = \" + latex(C))"
   ]
  },
  {
   "cell_type": "code",
   "execution_count": 36,
   "metadata": {},
   "outputs": [
    {
     "data": {
      "text/html": [
       "<html><script type=\"math/tex; mode=display\">\\newcommand{\\Bold}[1]{\\mathbf{#1}}\\left(\\begin{array}{rr}\n",
       "\\frac{17}{151} & -\\frac{37}{302} \\\\\n",
       "-\\frac{12}{151} & \\frac{35}{302}\n",
       "\\end{array}\\right)</script></html>"
      ],
      "text/plain": [
       "[ 17/151 -37/302]\n",
       "[-12/151  35/302]"
      ]
     },
     "metadata": {},
     "output_type": "display_data"
    }
   ],
   "source": [
    "show( (A*(B+C))^(-1) )"
   ]
  },
  {
   "cell_type": "markdown",
   "metadata": {},
   "source": [
    "<p><strong><strong>Exercise</strong>:</strong> Compute $A^T\\cdot (B\\cdot C)^{10}$ over the finite field $\\mathbb{F}_7$, were \\[ A = \\begin{bmatrix} 3 & 1 & 0\\\\ 0 & 1 & 2\\\\ 1 & 0 & 3 \\end{bmatrix},\\qquad B = \\begin{bmatrix} 2 & 3\\\\ 0 & 1\\\\ 1 & 4\\end{bmatrix},\\qquad C = \\begin{bmatrix} 1 & 2 & 2\\\\ 3 & 0 & 1\\end{bmatrix} \\]</p>"
   ]
  },
  {
   "cell_type": "code",
   "execution_count": 37,
   "metadata": {},
   "outputs": [
    {
     "data": {
      "text/html": [
       "<html><script type=\"math/tex; mode=display\">\\newcommand{\\Bold}[1]{\\mathbf{#1}}A = \\left(\\begin{array}{rrr}\n",
       "3 & 1 & 0 \\\\\n",
       "0 & 1 & 2 \\\\\n",
       "1 & 0 & 3\n",
       "\\end{array}\\right)</script></html>"
      ],
      "text/plain": [
       "A = \\left(\\begin{array}{rrr}\n",
       "3 & 1 & 0 \\\\\n",
       "0 & 1 & 2 \\\\\n",
       "1 & 0 & 3\n",
       "\\end{array}\\right)"
      ]
     },
     "metadata": {},
     "output_type": "display_data"
    },
    {
     "data": {
      "text/html": [
       "<html><script type=\"math/tex; mode=display\">\\newcommand{\\Bold}[1]{\\mathbf{#1}}B = \\left(\\begin{array}{rr}\n",
       "2 & 3 \\\\\n",
       "0 & 1 \\\\\n",
       "1 & 4\n",
       "\\end{array}\\right)</script></html>"
      ],
      "text/plain": [
       "B = \\left(\\begin{array}{rr}\n",
       "2 & 3 \\\\\n",
       "0 & 1 \\\\\n",
       "1 & 4\n",
       "\\end{array}\\right)"
      ]
     },
     "metadata": {},
     "output_type": "display_data"
    },
    {
     "data": {
      "text/html": [
       "<html><script type=\"math/tex; mode=display\">\\newcommand{\\Bold}[1]{\\mathbf{#1}}C = \\left(\\begin{array}{rrr}\n",
       "1 & 2 & 2 \\\\\n",
       "3 & 0 & 1\n",
       "\\end{array}\\right)</script></html>"
      ],
      "text/plain": [
       "C = \\left(\\begin{array}{rrr}\n",
       "1 & 2 & 2 \\\\\n",
       "3 & 0 & 1\n",
       "\\end{array}\\right)"
      ]
     },
     "metadata": {},
     "output_type": "display_data"
    }
   ],
   "source": [
    "A = matrix(GF(7), [[3,1,0],[0,1,2],[1,0,3]]); show(\"A = \" + latex(A))\n",
    "B = matrix(GF(7), [[2,3],[0,1],[1,4]]); show(\"B = \" + latex(B))\n",
    "C = matrix(GF(7), [[1,2,2],[3,0,1]]); show(\"C = \" + latex(C))"
   ]
  },
  {
   "cell_type": "code",
   "execution_count": 38,
   "metadata": {},
   "outputs": [
    {
     "data": {
      "text/html": [
       "<html><script type=\"math/tex; mode=display\">\\newcommand{\\Bold}[1]{\\mathbf{#1}}\\left(\\begin{array}{rrr}\n",
       "3 & 0 & 1 \\\\\n",
       "3 & 4 & 2 \\\\\n",
       "5 & 6 & 2\n",
       "\\end{array}\\right)</script></html>"
      ],
      "text/plain": [
       "[3 0 1]\n",
       "[3 4 2]\n",
       "[5 6 2]"
      ]
     },
     "metadata": {},
     "output_type": "display_data"
    }
   ],
   "source": [
    "show( A.transpose()*(B*C)^10 )"
   ]
  },
  {
   "cell_type": "markdown",
   "metadata": {},
   "source": [
    "<ul>\n",
    "<li><span style=\"color: #3366ff;\">The symbol # denotes a command in the code - everything from it to the end of the row is ignored by Sage.<strong></strong></span></li>\n",
    "</ul>\n",
    "<p><strong>Exercise:</strong> Factor the determinant of the folowing with integer coefficients \\[ \\begin{bmatrix} 1 & 3 & 4 & 2 \\\\ 3 & 8 & -1 & 2 \\\\ 9 & 0 & -3 & -1 \\\\ -3 & 2 & -2 & 5 \\end{bmatrix} \\]</p>"
   ]
  },
  {
   "cell_type": "code",
   "execution_count": 39,
   "metadata": {},
   "outputs": [
    {
     "data": {
      "text/html": [
       "<html><script type=\"math/tex; mode=display\">\\newcommand{\\Bold}[1]{\\mathbf{#1}}A = \\left(\\begin{array}{rrrr}\n",
       "1 & 3 & 4 & 2 \\\\\n",
       "3 & 8 & -1 & 2 \\\\\n",
       "9 & 0 & -3 & -1 \\\\\n",
       "-3 & 2 & -2 & 5\n",
       "\\end{array}\\right)</script></html>"
      ],
      "text/plain": [
       "A = \\left(\\begin{array}{rrrr}\n",
       "1 & 3 & 4 & 2 \\\\\n",
       "3 & 8 & -1 & 2 \\\\\n",
       "9 & 0 & -3 & -1 \\\\\n",
       "-3 & 2 & -2 & 5\n",
       "\\end{array}\\right)"
      ]
     },
     "metadata": {},
     "output_type": "display_data"
    }
   ],
   "source": [
    "A = matrix(ZZ, [[1,3,4,2],[3,8,-1,2],[9,0,-3,-1],[-3,2,-2,5]]); show(\"A = \" + latex(A))"
   ]
  },
  {
   "cell_type": "code",
   "execution_count": 40,
   "metadata": {},
   "outputs": [
    {
     "data": {
      "text/html": [
       "<html><script type=\"math/tex; mode=display\">\\newcommand{\\Bold}[1]{\\mathbf{#1}}\\det(A) = -1 \\cdot 23 \\cdot 67</script></html>"
      ],
      "text/plain": [
       "\\det(A) = -1 \\cdot 23 \\cdot 67"
      ]
     },
     "metadata": {},
     "output_type": "display_data"
    }
   ],
   "source": [
    "show(\"\\\\det(A) = \" + latex( A.det().factor() ))"
   ]
  },
  {
   "cell_type": "markdown",
   "metadata": {},
   "source": [
    "<p><strong><strong>Exercise</strong>:</strong> Compute the rank and the determinant of the following matrix treated first as a matrix over $\\mathbb{Q}$ and then over the finite field $\\mathbb{F}_{13}$.</p>\n",
    "<p>\\[ \\begin{bmatrix} 1 & 2 & 5 & 3 & 2 & 1 \\\\ 3 & 7 & 4 & 4 & 0 & 2 \\\\ 1 & 2 & 4 & 3 & 1 & 1 \\\\ 9 & 0 & 0 & 2 & 3 & 6 \\\\ 5 & 3 & 7 & 6 & 8 & 6 \\\\ 7 & 7 & 4 & 2 & 10 & 9 \\end{bmatrix} \\]</p>"
   ]
  },
  {
   "cell_type": "code",
   "execution_count": 41,
   "metadata": {},
   "outputs": [
    {
     "data": {
      "text/html": [
       "<html><script type=\"math/tex; mode=display\">\\newcommand{\\Bold}[1]{\\mathbf{#1}}A = \\left(\\begin{array}{rrrrrr}\n",
       "1 & 2 & 5 & 3 & 2 & 1 \\\\\n",
       "3 & 7 & 4 & 4 & 0 & 2 \\\\\n",
       "1 & 2 & 4 & 3 & 1 & 1 \\\\\n",
       "9 & 0 & 0 & 2 & 3 & 6 \\\\\n",
       "5 & 3 & 7 & 6 & 8 & 6 \\\\\n",
       "7 & 7 & 4 & 2 & 10 & 9\n",
       "\\end{array}\\right)</script></html>"
      ],
      "text/plain": [
       "A = \\left(\\begin{array}{rrrrrr}\n",
       "1 & 2 & 5 & 3 & 2 & 1 \\\\\n",
       "3 & 7 & 4 & 4 & 0 & 2 \\\\\n",
       "1 & 2 & 4 & 3 & 1 & 1 \\\\\n",
       "9 & 0 & 0 & 2 & 3 & 6 \\\\\n",
       "5 & 3 & 7 & 6 & 8 & 6 \\\\\n",
       "7 & 7 & 4 & 2 & 10 & 9\n",
       "\\end{array}\\right)"
      ]
     },
     "metadata": {},
     "output_type": "display_data"
    }
   ],
   "source": [
    "A = matrix(QQ, [\n",
    "[1, 2, 5, 3, 2, 1], \n",
    "[3, 7, 4, 4, 0, 2], \n",
    "[1, 2, 4, 3, 1, 1], \n",
    "[9, 0, 0, 2, 3, 6], \n",
    "[5, 3, 7, 6, 8, 6], \n",
    "[7, 7, 4, 2, 10, 9]\n",
    "])\n",
    "show(\"A = \" + latex(A))"
   ]
  },
  {
   "cell_type": "code",
   "execution_count": 146,
   "metadata": {},
   "outputs": [
    {
     "data": {
      "text/plain": [
       "1521"
      ]
     },
     "execution_count": 146,
     "metadata": {},
     "output_type": "execute_result"
    }
   ],
   "source": [
    "A.det()"
   ]
  },
  {
   "cell_type": "code",
   "execution_count": 147,
   "metadata": {},
   "outputs": [
    {
     "data": {
      "text/plain": [
       "6"
      ]
     },
     "execution_count": 147,
     "metadata": {},
     "output_type": "execute_result"
    }
   ],
   "source": [
    "A.rank()"
   ]
  },
  {
   "cell_type": "code",
   "execution_count": 42,
   "metadata": {},
   "outputs": [
    {
     "data": {
      "text/html": [
       "<html><script type=\"math/tex; mode=display\">\\newcommand{\\Bold}[1]{\\mathbf{#1}}B = \\left(\\begin{array}{rrrrrr}\n",
       "1 & 2 & 5 & 3 & 2 & 1 \\\\\n",
       "3 & 7 & 4 & 4 & 0 & 2 \\\\\n",
       "1 & 2 & 4 & 3 & 1 & 1 \\\\\n",
       "9 & 0 & 0 & 2 & 3 & 6 \\\\\n",
       "5 & 3 & 7 & 6 & 8 & 6 \\\\\n",
       "7 & 7 & 4 & 2 & 10 & 9\n",
       "\\end{array}\\right)</script></html>"
      ],
      "text/plain": [
       "B = \\left(\\begin{array}{rrrrrr}\n",
       "1 & 2 & 5 & 3 & 2 & 1 \\\\\n",
       "3 & 7 & 4 & 4 & 0 & 2 \\\\\n",
       "1 & 2 & 4 & 3 & 1 & 1 \\\\\n",
       "9 & 0 & 0 & 2 & 3 & 6 \\\\\n",
       "5 & 3 & 7 & 6 & 8 & 6 \\\\\n",
       "7 & 7 & 4 & 2 & 10 & 9\n",
       "\\end{array}\\right)"
      ]
     },
     "metadata": {},
     "output_type": "display_data"
    }
   ],
   "source": [
    "B = matrix(GF(13), A); show(\"B = \" + latex(B))"
   ]
  },
  {
   "cell_type": "code",
   "execution_count": 149,
   "metadata": {},
   "outputs": [
    {
     "data": {
      "text/plain": [
       "0"
      ]
     },
     "execution_count": 149,
     "metadata": {},
     "output_type": "execute_result"
    }
   ],
   "source": [
    "B.det()"
   ]
  },
  {
   "cell_type": "code",
   "execution_count": 150,
   "metadata": {},
   "outputs": [
    {
     "data": {
      "text/plain": [
       "4"
      ]
     },
     "execution_count": 150,
     "metadata": {},
     "output_type": "execute_result"
    }
   ],
   "source": [
    "B.rank()"
   ]
  },
  {
   "cell_type": "markdown",
   "metadata": {},
   "source": [
    "<p>In order to define a vector use a command vector( <span style=\"color: #ff0000;\"><em>ring of coefficients</em></span>, [ <span style=\"color: #ff0000;\"><em>coefficients</em></span> ] ).</p>\n",
    "<p><strong><strong>Exercise</strong>:</strong> Define a vector $v=[1,0,12,8,1,4]\\in \\mathbb{F}_{13}^6$ compute $A\\cdot v$, where $A$ is a matrix from the previous exercise.</p>"
   ]
  },
  {
   "cell_type": "code",
   "execution_count": 43,
   "metadata": {},
   "outputs": [
    {
     "data": {
      "text/html": [
       "<html><script type=\"math/tex; mode=display\">\\newcommand{\\Bold}[1]{\\mathbf{#1}}\\left(1,\\,0,\\,12,\\,8,\\,1,\\,4\\right)</script></html>"
      ],
      "text/plain": [
       "(1, 0, 12, 8, 1, 4)"
      ]
     },
     "metadata": {},
     "output_type": "display_data"
    }
   ],
   "source": [
    "v = vector(GF(13), [1,0,12,8,1,4]); show(v)"
   ]
  },
  {
   "cell_type": "code",
   "execution_count": 44,
   "metadata": {},
   "outputs": [
    {
     "data": {
      "text/plain": [
       "(0, 0, 0, 0, 0, 0)"
      ]
     },
     "execution_count": 44,
     "metadata": {},
     "output_type": "execute_result"
    }
   ],
   "source": [
    "B*v"
   ]
  },
  {
   "cell_type": "code",
   "execution_count": null,
   "metadata": {},
   "outputs": [],
   "source": []
  }
 ],
 "metadata": {
  "kernelspec": {
   "display_name": "SageMath 9.0",
   "language": "sage",
   "name": "sagemath"
  },
  "language": "python",
  "language_info": {
   "codemirror_mode": {
    "name": "ipython",
    "version": 3
   },
   "file_extension": ".py",
   "mimetype": "text/x-python",
   "name": "python",
   "nbconvert_exporter": "python",
   "pygments_lexer": "ipython3",
   "version": "3.7.6"
  }
 },
 "nbformat": 4,
 "nbformat_minor": 4
}
